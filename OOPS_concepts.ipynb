{
 "cells": [
  {
   "cell_type": "markdown",
   "id": "59856e25",
   "metadata": {},
   "source": []
  },
  {
   "cell_type": "markdown",
   "id": "aefa49c9",
   "metadata": {},
   "source": [
    "# Arguments vs Parameters :\n",
    "A parameter is the variable listed inside the parentheses in the function definition.\\\n",
    "An argument is the value that is sent to the function when it is called.\n"
   ]
  },
  {
   "cell_type": "code",
   "execution_count": 134,
   "id": "da2ac96d",
   "metadata": {},
   "outputs": [
    {
     "name": "stdout",
     "output_type": "stream",
     "text": [
      "Emil Refsnes\n"
     ]
    }
   ],
   "source": [
    "def my_function(fname):   # parameter \n",
    "  print(fname + \" Refsnes\")\n",
    "\n",
    "my_function(\"Emil\")  #Argument"
   ]
  },
  {
   "cell_type": "markdown",
   "id": "c811a248",
   "metadata": {},
   "source": [
    "# OOPS Concepts \n",
    "The main concept of OOPs is to bind the data and the functions that work on that together as a single unit so that no other part of the code can access this data.\n",
    "\n",
    "Main Concepts of Object-Oriented Programming (OOPs) or pillers of python : \\\n",
    "-Class\\\n",
    "-Objects\\\n",
    "-Polymorphism\\\n",
    "-Encapsulation\\\n",
    "-Inheritance\\\n",
    "-Data Abstraction\\"
   ]
  },
  {
   "cell_type": "markdown",
   "id": "fc219951",
   "metadata": {},
   "source": [
    "# 1)Class:\n",
    "is a collection of objects. A class contains the blueprints or the prototype from which the objects are being created. It is a logical entity that contains some attributes and methods. \n",
    "\n",
    "Classes are created by keyword 'class'.\\\n",
    "Attributes are the variables that belong to a class.\\\n",
    "Attributes are always public and can be accessed using the dot (.) operator. Eg.: Myclass.Myattribute\\"
   ]
  },
  {
   "cell_type": "code",
   "execution_count": 135,
   "id": "c790f216",
   "metadata": {},
   "outputs": [],
   "source": [
    "class Dog:\n",
    "    pass"
   ]
  },
  {
   "cell_type": "code",
   "execution_count": 136,
   "id": "ac7d9bfd",
   "metadata": {},
   "outputs": [
    {
     "name": "stdout",
     "output_type": "stream",
     "text": [
      "pluto\n"
     ]
    }
   ],
   "source": [
    "# ClassName.AttributeName\n",
    "class dog:\n",
    "    dogname='pluto'\n",
    "\n",
    "print(dog.dogname)  "
   ]
  },
  {
   "cell_type": "code",
   "execution_count": 137,
   "id": "4f586e1c",
   "metadata": {},
   "outputs": [
    {
     "name": "stdout",
     "output_type": "stream",
     "text": [
      "pluto\n"
     ]
    }
   ],
   "source": [
    "class dog:\n",
    "    dogname='pluto'\n",
    "    print(dogname)  "
   ]
  },
  {
   "cell_type": "markdown",
   "id": "a8967de0",
   "metadata": {},
   "source": [
    "# 2) object:\n",
    "The object is physical entity that has a state , behavior and identity associated with it.\\\n",
    "It may be any real-world object like a mouse, keyboard, chair, table, pen, etc. Integers, strings, floating-point numbers, even arrays, and dictionaries, are all objects.\n",
    "    \n",
    "State: It is represented by the attributes of an object. It also reflects the properties of an object.State or Attributes can be considered as the breed, age, or color of the dog.\n",
    "\n",
    "Behavior: It is represented by the methods of an object. It also reflects the response of an object to other objects.The behavior can be considered as to whether the dog is eating or sleeping.\n",
    "\n",
    "Identity: It gives a unique name to an object and enables one object to interact with other objects."
   ]
  },
  {
   "cell_type": "code",
   "execution_count": 138,
   "id": "40dfa7cb",
   "metadata": {},
   "outputs": [
    {
     "data": {
      "text/plain": [
       "8"
      ]
     },
     "execution_count": 138,
     "metadata": {},
     "output_type": "execute_result"
    }
   ],
   "source": [
    "# objectname = classname\n",
    "class dog:\n",
    "    age=8\n",
    "d= dog() \n",
    "d.age"
   ]
  },
  {
   "cell_type": "code",
   "execution_count": 139,
   "id": "b48550e2",
   "metadata": {},
   "outputs": [
    {
     "data": {
      "text/plain": [
       "8"
      ]
     },
     "execution_count": 139,
     "metadata": {},
     "output_type": "execute_result"
    }
   ],
   "source": [
    "class dog:\n",
    "    def __init__(self):\n",
    "        self.age=8\n",
    "d = dog()\n",
    "d.age"
   ]
  },
  {
   "cell_type": "markdown",
   "id": "ef6d4a50",
   "metadata": {},
   "source": [
    "# __init__() : python constructor"
   ]
  },
  {
   "cell_type": "raw",
   "id": "c1c22d70",
   "metadata": {},
   "source": [
    "# __init__():\n",
    "A constructor is a special method that the program calls upon an object’s creation.when you create a new object, Python automatically calls the __init__ method. \\\n",
    "Constructors are generally used for instantiating an object. The task of constructors is to initialize(assign values) to the data members of the class when an object of the class is created.\n",
    "\n",
    "__init__() sets the initial state of the object by assigning the values of the object’s properties. That is, .__init__() initializes each new instance of the class.It is only used within classes.\\\n",
    "\n",
    "You can give .__init__() any number of parameters, but the first parameter will always be a variable called self.\n",
    "\n",
    "# self: \n",
    "Self is always pointing to Current Object.\n",
    "self represents the instance of the class. By using the “self”  we can access the attributes and methods of the class in python. It binds the attributes with the given arguments.\n",
    "\n",
    "types of constructor:\n",
    "I)Default Constructor  :It is used to create an object with default values for its attributes.\n",
    "\n",
    "II)Parameterized Constructor  :A parameterized constructor is a constructor that takes one or more arguments.\n",
    "\n",
    "III)Non-Parameterized Constructor  : A non-parameterized constructor is a constructor that does not take any arguments. It is a special method in Python that is called when you create an instance of a class. The non-parameterized constructor is used to initialize the default values for the instance variables of the object."
   ]
  },
  {
   "cell_type": "code",
   "execution_count": 140,
   "id": "b29e241e",
   "metadata": {},
   "outputs": [
    {
     "name": "stdout",
     "output_type": "stream",
     "text": [
      "7 Golden\n",
      "The age of dog is 7 and color is  Golden\n"
     ]
    }
   ],
   "source": [
    "class dog:\n",
    "    def __init__(self,dogage,dogcolor):\n",
    "        self.age=dogage\n",
    "        self.color=dogcolor\n",
    "dobj=dog(7,\"Golden\")     \n",
    "print(dobj.age,dobj.color)\n",
    "print(\"The age of dog is\",dobj.age,\"and color is \",dobj.color)\n"
   ]
  },
  {
   "cell_type": "code",
   "execution_count": 141,
   "id": "fa08b986",
   "metadata": {},
   "outputs": [
    {
     "name": "stdout",
     "output_type": "stream",
     "text": [
      "this is the second constructor!\n"
     ]
    }
   ],
   "source": [
    "#  What happens if a class has more than one constructor in Python?==>\n",
    "#the class object will always call the last constructor if the class has more than one constructor\n",
    "\n",
    "class Student:\n",
    "    # creating  constructor 1\n",
    "    def __init__(self):\n",
    "        print(\"this is the first constructor!\")\n",
    "    #  constructor 2\n",
    "    def __init__(self):\n",
    "        print(\"this is the second constructor!\")\n",
    "\n",
    "student1 = Student()"
   ]
  },
  {
   "cell_type": "code",
   "execution_count": 142,
   "id": "ce2f7172",
   "metadata": {},
   "outputs": [
    {
     "name": "stdout",
     "output_type": "stream",
     "text": [
      "5\n",
      "10\n",
      "color : Black ,age : 10\n"
     ]
    }
   ],
   "source": [
    "class dog:\n",
    "    def __init__(self,color,age):\n",
    "        self.age=age\n",
    "        self.color=color\n",
    "    def show(self):\n",
    "        print(\"color :\",self.color,\",age :\",self.age)\n",
    "        \n",
    "dogobj=dog('Black',5)\n",
    "\n",
    "print(dogobj.age)\n",
    "dogobj.age=10\n",
    "print(dogobj.age)\n",
    "\n",
    "dogobj.show()"
   ]
  },
  {
   "cell_type": "markdown",
   "id": "da5ef76e",
   "metadata": {},
   "source": [
    "# I)Default __init__ Constructor"
   ]
  },
  {
   "cell_type": "markdown",
   "id": "f595a61d",
   "metadata": {},
   "source": [
    "The Default __init__ Constructor :  It is used to create an object with default values for its attributes."
   ]
  },
  {
   "cell_type": "code",
   "execution_count": 143,
   "id": "507801aa",
   "metadata": {},
   "outputs": [
    {
     "name": "stdout",
     "output_type": "stream",
     "text": [
      "color : white ,age : 8\n"
     ]
    }
   ],
   "source": [
    "#default constructor create an object with default values\n",
    "class dog:\n",
    "    def __init__(self,color=\"white\",age=8): \n",
    "        self.color=color\n",
    "        self.age=age\n",
    "obj=dog()            \n",
    "print(\"color :\",obj.color,\",age :\",obj.age)"
   ]
  },
  {
   "cell_type": "code",
   "execution_count": 144,
   "id": "b5316217",
   "metadata": {},
   "outputs": [
    {
     "name": "stdout",
     "output_type": "stream",
     "text": [
      "color : black ,age : 8\n"
     ]
    }
   ],
   "source": [
    "class dog:\n",
    "    def __init__(self,color=\"white\",age=8):\n",
    "        self.color=color\n",
    "        self.age=age\n",
    "obj=dog(\"black\",8)               \n",
    "print(\"color :\",obj.color,\",age :\",obj.age)"
   ]
  },
  {
   "cell_type": "markdown",
   "id": "927fd18e",
   "metadata": {},
   "source": [
    "# II) Parameterized __init()__ Constructor: \n",
    "    \n",
    "    The parameterized constructor has multiple parameters along with the self"
   ]
  },
  {
   "cell_type": "code",
   "execution_count": 145,
   "id": "6ec5e0e0",
   "metadata": {},
   "outputs": [
    {
     "name": "stdout",
     "output_type": "stream",
     "text": [
      "The age of dog is 7 and color is  Golden\n"
     ]
    }
   ],
   "source": [
    "class dog:\n",
    "    def __init__(self,dogage,dogcolor):      \n",
    "        self.age=dogage\n",
    "        self.color=dogcolor\n",
    "dobj=dog(7,\"Golden\")         \n",
    "print(\"The age of dog is\",dobj.age,\"and color is \",dobj.color)"
   ]
  },
  {
   "cell_type": "code",
   "execution_count": 146,
   "id": "69baa880",
   "metadata": {},
   "outputs": [
    {
     "name": "stdout",
     "output_type": "stream",
     "text": [
      "Alice\n",
      "25\n"
     ]
    }
   ],
   "source": [
    "\n",
    "class Person:\n",
    "    def __init__(self, name, age):\n",
    "        self.name = name\n",
    "        self.age = age\n",
    "\n",
    "person = Person(\"Alice\", 25)\n",
    "print(person.name)\n",
    "print(person.age)\n"
   ]
  },
  {
   "cell_type": "markdown",
   "id": "136830ce",
   "metadata": {},
   "source": [
    "# III)Non-Parameterized __init__() Constructor:"
   ]
  },
  {
   "cell_type": "markdown",
   "id": "3392d101",
   "metadata": {},
   "source": [
    " A non-parameterized constructor is a constructor that have an empty parameter . It is a special method in Python that is called when you create an onject. "
   ]
  },
  {
   "cell_type": "code",
   "execution_count": 147,
   "id": "5dac9e39",
   "metadata": {},
   "outputs": [
    {
     "name": "stdout",
     "output_type": "stream",
     "text": [
      "The age of dog is 10 and color is white\n"
     ]
    }
   ],
   "source": [
    "\n",
    "class dog:\n",
    "    def __init__(self):\n",
    "        self.age = 10\n",
    "        self.color = 'white'\n",
    "d =dog()\n",
    "print(\"The age of dog is\",d.age,\"and color is\",d.color)"
   ]
  },
  {
   "cell_type": "code",
   "execution_count": 148,
   "id": "adc33ce0",
   "metadata": {},
   "outputs": [
    {
     "name": "stdout",
     "output_type": "stream",
     "text": [
      "This is non parametrized constructor\n",
      "Hello John\n",
      "10\n"
     ]
    }
   ],
   "source": [
    "class Students:  \n",
    "    # Constructor - non parameterized  \n",
    "    def __init__(self): \n",
    "        self.a=10\n",
    "        print(\"This is non parametrized constructor\")         \n",
    "        \n",
    "    def show(self,name):  \n",
    "        print(\"Hello\",name)\n",
    "        \n",
    "student = Students()\n",
    "\n",
    "student.show(\"John\")\n",
    "print(student.a)"
   ]
  },
  {
   "cell_type": "markdown",
   "id": "51a919f1",
   "metadata": {},
   "source": [
    "# 3) Inheritance: \n",
    "we can create a class which uses all the properties and behavior of another class.\n",
    "Parent class is the class being inherited from, also called base class.\\\n",
    "Child class is the class that inherits from another class, also called derived class.\\\n",
    "It provides reusability of a code. We don’t have to write the same code again and again\n",
    " \n",
    "Types of Inheritance \\\n",
    "I)Single Inheritance:enables a derived class to inherit characteristics from a single-parent class.\n",
    "\n",
    "II)Multilevel Inheritance:enables a derived class to inherit properties from an immediate parent class which in turn inherits properties from his parent class.\n",
    "\n",
    "III)Hierarchical Inheritance: enables more than one derived class to inherit properties from a parent class.\n",
    "\n",
    "IV)Multiple Inheritance: enables one derived class to inherit properties from more than one base class.\n",
    "\n",
    "V)Hybrid Inheritance: contails more than one type of inheritance"
   ]
  },
  {
   "cell_type": "code",
   "execution_count": 149,
   "id": "f45ff220",
   "metadata": {},
   "outputs": [
    {
     "name": "stdout",
     "output_type": "stream",
     "text": [
      "Puja Mourya\n"
     ]
    }
   ],
   "source": [
    "# way 1: Access propert of parent class from child class \n",
    "class person:                       # parente class\n",
    "    def show(self):\n",
    "        self.firstname = \"Puja\"\n",
    "        self.lastname = \"Mourya\"\n",
    "        print(self.firstname, self.lastname)\n",
    "\n",
    "x = person()\n",
    "x.show()\n",
    "\n",
    "class student(person):   #child class which inherits all the property of parent class i.e Person class . Code Reusability \n",
    "    pass"
   ]
  },
  {
   "cell_type": "code",
   "execution_count": 150,
   "id": "794a8538",
   "metadata": {},
   "outputs": [
    {
     "name": "stdout",
     "output_type": "stream",
     "text": [
      "Puja Mourya\n"
     ]
    }
   ],
   "source": [
    "# way 2: Access properties of parent class from child class  using parentclassname.__init__() \n",
    "class person:                       # parente class\n",
    "    def show(self):\n",
    "        self.firstname = \"Puja\"\n",
    "        self.lastname = \"Mourya\"\n",
    "        print(self.firstname, self.lastname)\n",
    "\n",
    "x = person()\n",
    "x.show()\n",
    "\n",
    "class student(person):   #child class which inherits all the property of parent class i.e Person class . Code Reusability \n",
    "    def __init__(self):\n",
    "        Person.__init__(self)"
   ]
  },
  {
   "cell_type": "code",
   "execution_count": 151,
   "id": "ecfeae54",
   "metadata": {},
   "outputs": [
    {
     "name": "stdout",
     "output_type": "stream",
     "text": [
      "Puja Mourya\n"
     ]
    }
   ],
   "source": [
    "# way 3: Access properties of parent class from child class using super keyword\n",
    "\n",
    "class person:                       # parente class\n",
    "    def show(self):\n",
    "        self.firstname = \"Puja\"\n",
    "        self.lastname = \"Mourya\"\n",
    "        print(self.firstname, self.lastname)\n",
    "\n",
    "x = person()\n",
    "x.show()\n",
    "\n",
    "class student(person):   #child class which inherits all the property of parent class i.e Person class . Code Reusability \n",
    "    def __init__(self):\n",
    "        super.__init__(self)"
   ]
  },
  {
   "cell_type": "code",
   "execution_count": 152,
   "id": "d462c247",
   "metadata": {},
   "outputs": [
    {
     "name": "stdout",
     "output_type": "stream",
     "text": [
      "John Doe\n",
      "Sam Doe\n"
     ]
    }
   ],
   "source": [
    "class person:                       # parente class\n",
    "  def __init__(self, fname, lname):\n",
    "    self.firstname = fname\n",
    "    self.lastname = lname\n",
    "\n",
    "  def show(self):\n",
    "    print(self.firstname, self.lastname)\n",
    "\n",
    "x = person(\"John\", \"Doe\")\n",
    "x.show()\n",
    "\n",
    "class student(person):   #child class which inherits all the property of parent class i.e Person class . Code Reusability \n",
    "    pass\n",
    "\n",
    "s=student(\"Sam\",\"Doe\")\n",
    "s.show()"
   ]
  },
  {
   "cell_type": "code",
   "execution_count": 153,
   "id": "299583ae",
   "metadata": {},
   "outputs": [
    {
     "name": "stdout",
     "output_type": "stream",
     "text": [
      "John Doe\n",
      "Sam Doe\n"
     ]
    }
   ],
   "source": [
    "# className.__init__()\n",
    "\n",
    "class person:                       # parent class\n",
    "   def __init__(self, fname, lname):\n",
    "    self.firstname = fname\n",
    "    self.lastname = lname\n",
    "\n",
    "   def show(self):\n",
    "    print(self.firstname, self.lastname)\n",
    "\n",
    "x = person(\"John\", \"Doe\")\n",
    "x.show()\n",
    "\n",
    "class student(person):   #child class\n",
    "    def __init__(self,fname,lname):\n",
    "        person.__init__(self,fname,lname)\n",
    "s=student(\"Sam\",\"Doe\")\n",
    "s.show()"
   ]
  },
  {
   "cell_type": "code",
   "execution_count": 154,
   "id": "3957b027",
   "metadata": {},
   "outputs": [
    {
     "name": "stdout",
     "output_type": "stream",
     "text": [
      "john doe\n",
      "sam doe\n",
      "Welcome sam doe to the class of  2020\n"
     ]
    }
   ],
   "source": [
    "# super() :used to access the property of a class from another class. \n",
    "class person:\n",
    "    def __init__(self, firstname,lastname):\n",
    "        self.firstname=firstname\n",
    "        self.lastname=lastname\n",
    "        print(self.firstname,self.lastname)       \n",
    "p=person(\"john\",\"doe\")\n",
    "\n",
    "class student(person):\n",
    "    def __init__(self,fname,lname):\n",
    "        super().__init__(fname,lname)\n",
    "        self.year=2020               \n",
    "        print(\"Welcome\", self.firstname, self.lastname,\"to the class of \",self.year)\n",
    "           \n",
    "s=student(\"sam\",\"doe\")"
   ]
  },
  {
   "cell_type": "code",
   "execution_count": 155,
   "id": "39b02e19",
   "metadata": {},
   "outputs": [
    {
     "name": "stdout",
     "output_type": "stream",
     "text": [
      "john doe\n",
      "sam doe\n",
      "Welcome sam doe to the class of  2020\n"
     ]
    }
   ],
   "source": [
    "# super() :used to access the property of a class from another class. \n",
    "class person:\n",
    "    def __init__(self, firstname,lastname):\n",
    "        self.firstname=firstname\n",
    "        self.lastname=lastname\n",
    "    \n",
    "    def show(self) :\n",
    "        print(self.firstname,self.lastname)\n",
    "p=person(\"john\",\"doe\")\n",
    "p.show()\n",
    "\n",
    "class student(person):\n",
    "    def __init__(self,fname,lname):\n",
    "        super().__init__(fname,lname)\n",
    "        self.year=2020\n",
    "        print(self.firstname,self.lastname)       \n",
    "        \n",
    "    def welcome(self):\n",
    "        print(\"Welcome\", self.firstname, self.lastname,\"to the class of \",self.year)\n",
    "\n",
    "s=student(\"sam\",\"doe\")\n",
    "s.welcome()"
   ]
  },
  {
   "cell_type": "code",
   "execution_count": 156,
   "id": "f1ff365b",
   "metadata": {},
   "outputs": [
    {
     "name": "stdout",
     "output_type": "stream",
     "text": [
      "john doe\n",
      "Welcome sam doe to the class of  2023\n"
     ]
    }
   ],
   "source": [
    "class person:\n",
    "    def __init__(self, firstname,lastname):\n",
    "        self.firstname=firstname\n",
    "        self.lastname=lastname\n",
    "    def show(self) :\n",
    "        print(self.firstname,self.lastname)\n",
    "p=person(\"john\",\"doe\")\n",
    "p.show()\n",
    "\n",
    "class student(person):\n",
    "    def __init__(self,fname,lname,year):\n",
    "        super().__init__(fname,lname)\n",
    "        self.year=year    \n",
    "    \n",
    "    def welcome(self):\n",
    "        print(\"Welcome\", self.firstname, self.lastname,\"to the class of \",self.year)\n",
    "s=student(\"sam\",\"doe\",2023)\n",
    "\n",
    "s.welcome()"
   ]
  },
  {
   "cell_type": "markdown",
   "id": "4d762e6a",
   "metadata": {},
   "source": [
    "# I)Single Inheritance:\n",
    "    enables a subclass or derived class to inherit properties and characteristics of the parent class, this avoids duplication of code and improves code reusability."
   ]
  },
  {
   "cell_type": "code",
   "execution_count": 157,
   "id": "738c58eb",
   "metadata": {},
   "outputs": [
    {
     "name": "stdout",
     "output_type": "stream",
     "text": [
      "Im Dad\n",
      "Im child\n"
     ]
    }
   ],
   "source": [
    "class A    : print(\"Im Dad\")\n",
    "class B(A) : print(\"Im child\")\n",
    "e=B()"
   ]
  },
  {
   "cell_type": "code",
   "execution_count": 158,
   "id": "71888784",
   "metadata": {},
   "outputs": [
    {
     "name": "stdout",
     "output_type": "stream",
     "text": [
      "Hey there, you are in the child class\n",
      "Hey there, you are in the parent class\n"
     ]
    }
   ],
   "source": [
    "class person:\n",
    "    def printname(self):\n",
    "        print(\"Hey there, you are in the parent class\")\n",
    "    \n",
    "class student(person):\n",
    "    def printnm(self):\n",
    "        print(\"Hey there, you are in the child class\")\n",
    "\n",
    "s=student()\n",
    "s.printnm()\n",
    "s.printname()"
   ]
  },
  {
   "cell_type": "code",
   "execution_count": 159,
   "id": "35733080",
   "metadata": {},
   "outputs": [
    {
     "name": "stdout",
     "output_type": "stream",
     "text": [
      "Hey there, I am  Riya from the child class\n",
      "Hey there, I am  Puja  from the parent class\n"
     ]
    }
   ],
   "source": [
    "class person:\n",
    "    def printname(self):\n",
    "        self.fname=\"Puja\"        \n",
    "        print(\"Hey there, I am \",self.fname,\" from the parent class\")\n",
    "\n",
    "\n",
    "class student(person):\n",
    "    def printnm(self):\n",
    "        self.fname=\"Riya\"\n",
    "        print(\"Hey there, I am \",self.fname,\"from the child class\")\n",
    "\n",
    "s=student()\n",
    "s.printnm()\n",
    "s.printname()"
   ]
  },
  {
   "cell_type": "code",
   "execution_count": 160,
   "id": "dc1a4264",
   "metadata": {},
   "outputs": [
    {
     "name": "stdout",
     "output_type": "stream",
     "text": [
      "Hey there, I am  Riya from the child class\n",
      "Hey there, I am  Puja  from the parent class\n",
      "Hey there, I am  Puja from the child class\n"
     ]
    }
   ],
   "source": [
    "class person:\n",
    "    \n",
    "    def printname(self):\n",
    "        print(\"Hey there, I am \",self.fname,\" from the parent class\")\n",
    "\n",
    "class student(person):\n",
    "    def printnm(self):        \n",
    "        print(\"Hey there, I am \",self.fname,\"from the child class\")\n",
    "\n",
    "s=student()\n",
    "s.fname=\"Riya\"\n",
    "s.printnm()\n",
    "\n",
    "s.fname=\"Puja\"\n",
    "s.printname()\n",
    "s.printnm()"
   ]
  },
  {
   "cell_type": "markdown",
   "id": "4af7f6a8",
   "metadata": {},
   "source": [
    "# II)Multiple Inheritance\n",
    "This inheritance enables a child class to inherit from more than one parent class. "
   ]
  },
  {
   "cell_type": "raw",
   "id": "8ff3ab6a",
   "metadata": {},
   "source": [
    "  a      b  \n",
    "      |\n",
    "      c"
   ]
  },
  {
   "cell_type": "code",
   "execution_count": 161,
   "id": "de6cec24",
   "metadata": {},
   "outputs": [
    {
     "name": "stdout",
     "output_type": "stream",
     "text": [
      "Im Dad\n",
      "Im Mom\n",
      "Im child\n"
     ]
    }
   ],
   "source": [
    "class A    : print(\"Im Dad\")\n",
    "class B    : print(\"Im Mom\")\n",
    "class C(A,B) :print(\"Im child\")\n",
    "e=C()"
   ]
  },
  {
   "cell_type": "code",
   "execution_count": 162,
   "id": "01d54cdd",
   "metadata": {},
   "outputs": [
    {
     "name": "stdout",
     "output_type": "stream",
     "text": [
      "Hey there, I am from the child class\n",
      "Hey there, I am  Puja\n",
      "Hey there, I am  Riya\n"
     ]
    }
   ],
   "source": [
    "class person1:\n",
    "    def printname1(self):\n",
    "        self.fname1=\"Puja\"\n",
    "        print(\"Hey there, I am \",self.fname1)\n",
    "\n",
    "class person2:\n",
    "    def printname2(self): \n",
    "        self.fname2=\"Riya\"\n",
    "        print(\"Hey there, I am \",self.fname2)\n",
    "        \n",
    "class student(person1,person2):\n",
    "    def printname3(self):        \n",
    "        print(\"Hey there, I am from the child class\")\n",
    "        \n",
    "s=student() ##you'll have to create object only once        \n",
    "s.printname3()\n",
    "s.printname1()\n",
    "s.printname2()\n"
   ]
  },
  {
   "cell_type": "code",
   "execution_count": 163,
   "id": "70de853f",
   "metadata": {},
   "outputs": [
    {
     "name": "stdout",
     "output_type": "stream",
     "text": [
      "Hey there, I am from the child class\n",
      "Hey there, I am  Puja\n",
      "Hey there, I am  Riya\n",
      "Puja\n",
      "Riya\n"
     ]
    }
   ],
   "source": [
    "class person1:\n",
    "    def printname1(self):\n",
    "        print(\"Hey there, I am \",self.fname1)\n",
    "class person2:\n",
    "    def printname2(self):        \n",
    "        print(\"Hey there, I am \",self.fname2)\n",
    "class student(person1,person2):\n",
    "    def printname3(self):        \n",
    "        print(\"Hey there, I am from the child class\")\n",
    "        \n",
    "s=student() #you'll have to create object only once        \n",
    "\n",
    "s.fname1=\"Puja\"\n",
    "s.fname2=\"Riya\"\n",
    "\n",
    "s.printname3()\n",
    "s.printname1()\n",
    "s.printname2()\n",
    "print(s.fname1)\n",
    "print(s.fname2)"
   ]
  },
  {
   "cell_type": "markdown",
   "id": "aa44e2e0",
   "metadata": {},
   "source": [
    "# III)multilevel inheritance:\n",
    "\n"
   ]
  },
  {
   "cell_type": "raw",
   "id": "25f9246b",
   "metadata": {},
   "source": [
    "the transfer of the properties of characteristics is done to more than one class hierarchically. \n",
    "When we have a child and grandchild relationship. \n",
    "\n",
    " grandpa\n",
    "   |\n",
    " dad\n",
    "  |\n",
    " child"
   ]
  },
  {
   "cell_type": "code",
   "execution_count": 164,
   "id": "9e859fef",
   "metadata": {},
   "outputs": [
    {
     "name": "stdout",
     "output_type": "stream",
     "text": [
      "Im Grandpa\n",
      "Im Dad\n",
      "Im child\n"
     ]
    }
   ],
   "source": [
    "class A    : print(\"Im Grandpa\")\n",
    "class B(A) : print(\"Im Dad\")\n",
    "class C(B) :print(\"Im child\")\n",
    "e=C()"
   ]
  },
  {
   "cell_type": "code",
   "execution_count": 165,
   "id": "51c011ce",
   "metadata": {},
   "outputs": [
    {
     "name": "stdout",
     "output_type": "stream",
     "text": [
      "vehicle class\n",
      "car class\n",
      "diesel class\n"
     ]
    }
   ],
   "source": [
    "class Vehicle :\n",
    "    def vehiclefn(self):\n",
    "        print(\"vehicle class\")\n",
    "class Car(Vehicle):\n",
    "    def carfn(self):\n",
    "        print(\"car class\")\n",
    "        \n",
    "class diesel(Car):\n",
    "    def diesfn(self):\n",
    "        print(\"diesel class\")\n",
    "        \n",
    "e=diesel()\n",
    "e.vehiclefn()\n",
    "e.carfn()\n",
    "e.diesfn()\n"
   ]
  },
  {
   "cell_type": "markdown",
   "id": "87a978f5",
   "metadata": {},
   "source": [
    "# IV)Hierarchical inheritance :\n",
    "More than one derived class are created from a single base.\n"
   ]
  },
  {
   "cell_type": "raw",
   "id": "8bc7a65b",
   "metadata": {},
   "source": [
    "    a\n",
    "    |\n",
    "  ______\n",
    "  |  |  |\n",
    "  b   c d  "
   ]
  },
  {
   "cell_type": "code",
   "execution_count": 166,
   "id": "9bfe401f",
   "metadata": {},
   "outputs": [
    {
     "name": "stdout",
     "output_type": "stream",
     "text": [
      "Im Dad\n",
      "Im child1\n",
      "Im child2\n",
      "Im child3\n"
     ]
    }
   ],
   "source": [
    "class A    : print(\"Im Dad\")\n",
    "class B(A) : print(\"Im child1\")\n",
    "class C(A) : print(\"Im child2\")\n",
    "class D(A) : print(\"Im child3\")\n",
    "\n",
    "d=D()"
   ]
  },
  {
   "cell_type": "code",
   "execution_count": 167,
   "id": "c4e6809b",
   "metadata": {},
   "outputs": [
    {
     "name": "stdout",
     "output_type": "stream",
     "text": [
      "Cat\n",
      "I'm an Animal\n",
      "I'm a cat Meow Meow!\n",
      "\n",
      "Dog\n",
      "I'm an Animal\n",
      "I'm a dog Brak Bark!\n"
     ]
    }
   ],
   "source": [
    "# base class\n",
    "\n",
    "class Animal():\n",
    "    def animal(self):\n",
    "        print(\"I'm an Animal\")          \n",
    "\n",
    "# child class 1\n",
    "class Cat(Animal):\n",
    "    def cat(self):\n",
    "        print(\"I'm a cat Meow Meow!\")\n",
    "\n",
    "# child class 2        \n",
    "class Dog(Animal):\n",
    "    def dog(self):\n",
    "        print(\"I'm a dog Brak Bark!\")\n",
    "\n",
    "# create object of child classes\n",
    "\n",
    "c = Cat()\n",
    "d = Dog()\n",
    "\n",
    "print(\"Cat\")\n",
    "c.animal()\n",
    "c.cat()\n",
    "\n",
    "print(\"\\nDog\")\n",
    "d.animal()\n",
    "d.dog()  \n"
   ]
  },
  {
   "cell_type": "code",
   "execution_count": 168,
   "id": "41bf4aa0",
   "metadata": {},
   "outputs": [
    {
     "name": "stdout",
     "output_type": "stream",
     "text": [
      "vehicle class\n",
      "diesel  class\n",
      "petrol class\n",
      "electric class\n"
     ]
    }
   ],
   "source": [
    "class vehicle:\n",
    "    def vehiclefn(self):\n",
    "        print(\"vehicle class\")\n",
    "\n",
    "class diesel(vehicle):\n",
    "    def dieselfn(self):\n",
    "        print(\"diesel  class\")\n",
    "\n",
    "class petrol(vehicle):\n",
    "    def petrolfn(self):\n",
    "        print(\"petrol class\")\n",
    "\n",
    "class electric(vehicle):\n",
    "    def elecfn(self):\n",
    "        print(\"electric class\")\n",
    "#you'll have to create object for every class        \n",
    "\n",
    "c=diesel()\n",
    "c.vehiclefn()\n",
    "c.dieselfn()\n",
    "\n",
    "p=petrol()\n",
    "p.petrolfn()\n",
    "\n",
    "e=electric()\n",
    "e.elecfn()"
   ]
  },
  {
   "cell_type": "code",
   "execution_count": 169,
   "id": "073f36f8",
   "metadata": {},
   "outputs": [
    {
     "name": "stdout",
     "output_type": "stream",
     "text": [
      "electric class\n",
      "petrol class\n",
      "diesel  class\n",
      "vehicle class\n"
     ]
    }
   ],
   "source": [
    "class vehicle:\n",
    "    def __init__(self):\n",
    "        print(\"vehicle class\")\n",
    "\n",
    "class diesel(vehicle):\n",
    "    def __init__(self):\n",
    "        print(\"diesel  class\")\n",
    "\n",
    "class petrol(vehicle):\n",
    "    def __init__(self):\n",
    "        print(\"petrol class\")\n",
    "\n",
    "class electric(vehicle):\n",
    "    def __init__(self):\n",
    "        print(\"electric class\")\n",
    "#you'll have to create object for every class        \n",
    "e=electric()\n",
    "p=petrol()\n",
    "d=diesel()\n",
    "v=vehicle()"
   ]
  },
  {
   "cell_type": "markdown",
   "id": "e4122d6a",
   "metadata": {},
   "source": [
    "# V)Hybrid Inheritance\n",
    "An inheritance is said hybrid inheritance if more than one type of inheritance is implemented in the same code"
   ]
  },
  {
   "cell_type": "raw",
   "id": "e6455727",
   "metadata": {},
   "source": [
    "     a             a                   Vehicle                     \n",
    "     /\\            |                     | \n",
    "    b  c   or      b ---d       or      car              ----single inheritance\n",
    "      |            |                     /|\\\n",
    "      d            c              Petrol cng diesel      hierarchile inheritance"
   ]
  },
  {
   "cell_type": "code",
   "execution_count": 170,
   "id": "6e055ff1",
   "metadata": {},
   "outputs": [
    {
     "name": "stdout",
     "output_type": "stream",
     "text": [
      "Im from A Class\n",
      "Im from B Class\n",
      "Im from C Class \n",
      "Im from D Class\n"
     ]
    }
   ],
   "source": [
    "class A: print(\"Im from A Class\")\n",
    "\n",
    "class B(A) :print(\"Im from B Class\")\n",
    "\n",
    "class C(B) :print(\"Im from C Class \")\n",
    "\n",
    "class D(B) :print(\"Im from D Class\")\n",
    "\n",
    "d=D()\n"
   ]
  },
  {
   "cell_type": "code",
   "execution_count": 171,
   "id": "12dd567f",
   "metadata": {},
   "outputs": [
    {
     "name": "stdout",
     "output_type": "stream",
     "text": [
      "Im from Vehicle Class\n",
      "Im from car Class\n",
      "Im from petrol Class \n",
      "Im Im from cng Class\n",
      "Im from diesel Class\n"
     ]
    }
   ],
   "source": [
    "class vehicle : print(\"Im from Vehicle Class\")\n",
    "\n",
    "class car(vehicle) :print(\"Im from car Class\")\n",
    "\n",
    "class pertol(car) :print(\"Im from petrol Class \")\n",
    "class cng(car) :print(\"Im Im from cng Class\")\n",
    "class diesel(car): print(\"Im from diesel Class\")\n",
    "    \n",
    "d=diesel()"
   ]
  },
  {
   "cell_type": "markdown",
   "id": "14914190",
   "metadata": {},
   "source": [
    "# 4) Polymorphism:\n",
    "Poly means many, and morph means shape.By polymorphism, we understand that one task can be performed in different ways.\\\n",
    "Polymorphism simply means having many forms.(water: gas,liquid,solid)\n",
    "\n",
    "Polymorphism lets us define methods in the child class that have the same name as the methods in the parent class.\n",
    " \n",
    "method overloading: \n",
    "Two or more methods have the same name but different numbers of parameters or different types of parameters, or both. These this is called method overloading. Method overloading is performed within a class\n"
   ]
  },
  {
   "cell_type": "code",
   "execution_count": 172,
   "id": "58d1303c",
   "metadata": {},
   "outputs": [
    {
     "name": "stdout",
     "output_type": "stream",
     "text": [
      "31\n",
      "40\n"
     ]
    }
   ],
   "source": [
    "#here function have same name but different arguments \n",
    "def addfunc(x,y,z=1):\n",
    "    return x+y+z\n",
    "print(addfunc(10,20)) # same name with two arguments \n",
    "print(addfunc(10,0,30)) # same name with three arguments "
   ]
  },
  {
   "cell_type": "code",
   "execution_count": 173,
   "id": "27a18222",
   "metadata": {},
   "outputs": [
    {
     "name": "stdout",
     "output_type": "stream",
     "text": [
      "8\n",
      "40\n"
     ]
    }
   ],
   "source": [
    "def addfunc(x=5,y=2,z=1):\n",
    "    return x+y+z\n",
    "print(addfunc()) #default\n",
    "print(addfunc(10,0,30)) #parametrized"
   ]
  },
  {
   "cell_type": "code",
   "execution_count": 174,
   "id": "ef40cad3",
   "metadata": {},
   "outputs": [
    {
     "name": "stdout",
     "output_type": "stream",
     "text": [
      "9\n",
      "3\n",
      "2\n",
      "4\n"
     ]
    }
   ],
   "source": [
    "##len() as Polymorphic\n",
    "\n",
    "print(len(\"Programiz\")) \n",
    "print(len([\"Python\", \"Java\", \"C\"]))\n",
    "print(len({\"Name\": \"John\", \"Address\": \"Nepal\"}))\n",
    "print(len([10,5,7,9]))\n",
    "# here print() also act as a  overloading method"
   ]
  },
  {
   "cell_type": "markdown",
   "id": "33827cc8",
   "metadata": {},
   "source": [
    "Method Overloading in Python : Using Multipledispatch\\\n",
    "The module multipledispatch can be used for giving your functions the features of method overloading(Two or more methods have the same name but different numbers of parameters or different types of parameters, or both) in python.\n",
    "\n",
    "@(decorator_name)  # adding the decorator right above the function defition\\\n",
    "def function(...):"
   ]
  },
  {
   "cell_type": "code",
   "execution_count": 175,
   "id": "6f3f5282",
   "metadata": {},
   "outputs": [],
   "source": [
    "def product(a, b):\n",
    "    p = a * b\n",
    "    print(p)\n",
    "def product(a, b, c):\n",
    "    p = a * b*c\n",
    "    print(p)\n",
    "    \n",
    "#TypeError: product() missing 1 required positional argument: 'c'    \n",
    "#product(5,2)    \n",
    "#product(5,4,8)   "
   ]
  },
  {
   "cell_type": "code",
   "execution_count": 176,
   "id": "0ef5459a",
   "metadata": {},
   "outputs": [
    {
     "name": "stdout",
     "output_type": "stream",
     "text": [
      "8\n",
      "160\n",
      "32\n"
     ]
    }
   ],
   "source": [
    "from multipledispatch import dispatch\n",
    "@dispatch(int,int)\n",
    "def product(a, b):\n",
    "    p = a * b\n",
    "    print(p)\n",
    "@dispatch(int,int,int)\n",
    "def product(a, b, c):\n",
    "    p = a * b*c\n",
    "    print(p)\n",
    "@dispatch(int)\n",
    "def product(a):    \n",
    "    print(a)   \n",
    "\n",
    "product(8)  \n",
    "product(5,4,8)   \n",
    "product(4,8)   "
   ]
  },
  {
   "cell_type": "code",
   "execution_count": 177,
   "id": "246a37ca",
   "metadata": {},
   "outputs": [
    {
     "name": "stdout",
     "output_type": "stream",
     "text": [
      "54.6\n",
      "30\n",
      "2.5\n"
     ]
    }
   ],
   "source": [
    "#method overloading is performed within a class\n",
    "\n",
    "from multipledispatch import dispatch\n",
    "\n",
    "class Calculate:\n",
    "    @dispatch(int, float)  \n",
    "    def add(a, b):\n",
    "        return a+b        \n",
    "    @dispatch(int, int)  \n",
    "    def add(a, b):\n",
    "        return a+b\n",
    "    @dispatch(float, float,float)  \n",
    "    def add( a, b, c):\n",
    "        return a+b+c\n",
    "\n",
    "c1 = Calculate()\n",
    "print(c1.add(10.6,23.5,20.5))\n",
    "print(c1.add(10,20))\n",
    "print(c1.add(1,1.5))"
   ]
  },
  {
   "cell_type": "markdown",
   "id": "ce50b02c",
   "metadata": {},
   "source": [
    "# 5) Data Abstraction\n",
    "Abstraction is used to hide internal details and show only functionalities. Real-life example of abstraction can be a TV remote. You know that when you press any button on the remote, some function is applied on the television e.g. change the channel, change the volume level etc. You are not required to know how internally remote works\n",
    "\n",
    "Python doesn't provide the abstract class itself. We need to import the 'abc' module, which provides the base for defining \n",
    "Abstract Base classes (ABC)\\ \n",
    "Abstract method  does not contain body . body will be in another class \n",
    "\n",
    "We use the @abstractmethod decorator to define an abstract method or if we don't provide the definition to the method, it automatically becomes the abstract method.\n",
    "\n",
    "Imp points:\\\n",
    "I)An Abstract class can contain the both method normal and abstract method.\\\n",
    "II)An Abstract cannot be instantiated; we cannot create objects for the abstract class.\\\n",
    "III)Overriding abstract method in the same class is not allowed."
   ]
  },
  {
   "cell_type": "markdown",
   "id": "e1bb54cb",
   "metadata": {},
   "source": [
    "# Method overriding :\n",
    "\n",
    "When the same returns, parameters, or name is input in the subclass as in the parent class, then the method of implementation in the subclass overrides the method as mentioned in the parent class. This is known as method overriding\\\n",
    "Declaring a method in the subclass which already exists there in the parent class is known as method overriding.\n",
    "Overriding a method in the same class is not allowed.\n",
    "\n",
    "If you want to override the Parent Class method, create a function in the Child with the same name and number of parameters. This is called function overriding in Python."
   ]
  },
  {
   "cell_type": "code",
   "execution_count": 178,
   "id": "3716c3d3",
   "metadata": {},
   "outputs": [
    {
     "name": "stdout",
     "output_type": "stream",
     "text": [
      "Starts with keys\n",
      "Starts with kick\n"
     ]
    }
   ],
   "source": [
    "from abc import ABC\n",
    "class Vehicle(ABC) :  # abstract base class\n",
    "    def start(self): #abstract method. inertnal detailss ar hiden\n",
    "        pass\n",
    "\n",
    "class Car(Vehicle)    : #subclass or child class\n",
    "    def start(self):\n",
    "        print(\"Starts with keys\")\n",
    "        \n",
    "class Scooter(Vehicle)  :  #subclass or child class\n",
    "    def start(self):\n",
    "        print(\"Starts with kick\")\n",
    "c=Car()\n",
    "c.start()\n",
    "\n",
    "s=Scooter()\n",
    "s.start()"
   ]
  },
  {
   "cell_type": "code",
   "execution_count": 179,
   "id": "44db472a",
   "metadata": {},
   "outputs": [
    {
     "name": "stdout",
     "output_type": "stream",
     "text": [
      "Im from the Abstract Class\n",
      "price of BMW car is 4000000 Rs.\n"
     ]
    }
   ],
   "source": [
    "from abc import ABC \n",
    "class vehicle(ABC): \n",
    "        def show(self):    #An Abstract class can contain the both method normal and abstract method\n",
    "            print(\"Im from the Abstract Class\")\n",
    "        def price(self,x):  # abstract method   \n",
    "            pass\n",
    "    \n",
    "class BMW(vehicle):\n",
    "        def price(self,x):  \n",
    "            self.x=x\n",
    "            print(\"price of BMW car is\",self.x,\"Rs.\")\n",
    "            \n",
    "v=vehicle()\n",
    "v.show()\n",
    "\n",
    "b=BMW()            \n",
    "b.price(4000000)"
   ]
  },
  {
   "cell_type": "code",
   "execution_count": 180,
   "id": "88f7f9e4",
   "metadata": {},
   "outputs": [
    {
     "name": "stdout",
     "output_type": "stream",
     "text": [
      "Im from the Abstract Class\n",
      "the Price of BMW car is 5000000 Rs.\n"
     ]
    }
   ],
   "source": [
    "from abc import ABC \n",
    "class vehicle(ABC): \n",
    "        def show(self):\n",
    "            print(\"Im from the Abstract Class\")\n",
    "        def price(self):  # abstract method   \n",
    "            pass\n",
    "    \n",
    "class BMW(vehicle):\n",
    "        def price(self):  \n",
    "            self.x=5000000\n",
    "            print(\"the Price of BMW car is\",self.x,\"Rs.\")\n",
    "            \n",
    "v=vehicle()\n",
    "v.show()\n",
    "\n",
    "obj=BMW()            \n",
    "obj.price()"
   ]
  },
  {
   "cell_type": "code",
   "execution_count": 181,
   "id": "a9b70033",
   "metadata": {},
   "outputs": [
    {
     "name": "stdout",
     "output_type": "stream",
     "text": [
      "show is a function of class car\n",
      "price of car  Honda is 400000 Rs. and the color of the car is silver\n"
     ]
    }
   ],
   "source": [
    "from abc import ABC \n",
    "class car(ABC):\n",
    "        def __init__(self,name,color):\n",
    "            self.name=name\n",
    "            self.color=color\n",
    "        def show(self):\n",
    "            print(\"show is a function of class car\")\n",
    "       \n",
    "        def price(self,x):  # abstract method   \n",
    "            pass\n",
    "    \n",
    "    \n",
    "class newcar(car):\n",
    "        def price(self,x):  \n",
    "            self.x=x\n",
    "            print(\"price of car \",self.name,\"is\",self.x,\"Rs.\",\"and the color of the car is\",self.color)\n",
    "            \n",
    "obj=newcar(\"Honda\",\"silver\")            \n",
    "obj.show()\n",
    "obj.price(400000)"
   ]
  },
  {
   "cell_type": "code",
   "execution_count": 182,
   "id": "9f249e4f",
   "metadata": {},
   "outputs": [
    {
     "name": "stdout",
     "output_type": "stream",
     "text": [
      "None\n",
      "show is a function of class car\n"
     ]
    }
   ],
   "source": [
    "c=car(\"Honda\",\"silver\")\n",
    "print(c.price(50)) #We cannot create objects of an abstract class\n",
    "c.show() #show() is normal fuction"
   ]
  },
  {
   "cell_type": "code",
   "execution_count": 183,
   "id": "d9629d88",
   "metadata": {},
   "outputs": [
    {
     "name": "stdout",
     "output_type": "stream",
     "text": [
      "The mileage is 30kmph\n",
      "The mileage is 27kmph \n",
      "The mileage is 25kmph \n"
     ]
    }
   ],
   "source": [
    "from abc import ABC, abstractmethod   \n",
    "class Car(ABC):   \n",
    "    def mileage(self):    # abstract method  does not contain body . body will be in another class  \n",
    "        pass  \n",
    "\n",
    "class Tesla(Car):   \n",
    "    def mileage(self):   #abstract methods body\n",
    "        print(\"The mileage is 30kmph\")   \n",
    "\n",
    "class Suzuki(Car):   \n",
    "    def mileage(self):   \n",
    "        print(\"The mileage is 25kmph \")      \n",
    "\n",
    "class Renault(Car):   \n",
    "    def mileage(self):   \n",
    "            print(\"The mileage is 27kmph \")\n",
    "            \n",
    "t= Tesla ()   \n",
    "t.mileage()   \n",
    "  \n",
    "r = Renault()   \n",
    "r.mileage()   \n",
    "  \n",
    "s = Suzuki()   \n",
    "s.mileage()   \n"
   ]
  },
  {
   "cell_type": "markdown",
   "id": "34a7e754",
   "metadata": {},
   "source": [
    "# method overriding vs method overloading"
   ]
  },
  {
   "cell_type": "markdown",
   "id": "a2bfe614",
   "metadata": {},
   "source": [
    "Method overriding provides special implementation  of the method that is already provided by super class .\\\n",
    "Method overriding occurs or performed in two or more classes.\\\n",
    "parameter must be same  in method overriding\\\n",
    "method overriding is example of runtime polymorphism\\\n",
    "returm type must be same in method overriding\\\n",
    "method overriding is part of data abstraction\n",
    "\n",
    "method overloading used to increasse readability of the program\\\n",
    "method overloading performed wihin a class\\\n",
    "in method overloading parameter must be different\\\n",
    "method overloading is example of compile time polymorphism\\\n",
    "returm type can be different in method overloading\\\n",
    "method overloading is part of Polymorphism"
   ]
  },
  {
   "cell_type": "markdown",
   "id": "3851f2f6",
   "metadata": {},
   "source": [
    "# 6) Encapsulation\n",
    "Ensures Security by hiding data from outsiders. (Bluetooth)\n",
    "It is used to restrict access to methods and variables. In encapsulation, code and data are wrapped together within a single unit from being modified by accident.\n",
    "\n",
    "methods + variable=class"
   ]
  },
  {
   "cell_type": "code",
   "execution_count": 184,
   "id": "c98b0207",
   "metadata": {},
   "outputs": [
    {
     "name": "stdout",
     "output_type": "stream",
     "text": [
      "Name is  Jessa and salary is 40000\n",
      "40000\n"
     ]
    }
   ],
   "source": [
    "class Employee:\n",
    "    def __init__(self, name, salary):\n",
    "        # public member\n",
    "        self.name = name\n",
    "        # private member\n",
    "        # not accessible outside of a class\n",
    "        self.__salary = salary\n",
    "\n",
    "    def show(self):\n",
    "        print(\"Name is \", self.name, \"and salary is\", self.__salary)\n",
    "\n",
    "emp = Employee(\"Jessa\", 40000)\n",
    "emp.show() # can access the private variable via the class\n",
    "\n",
    "# lets try to access salary from outside of a class\n",
    "#print(emp.salary) erroe:#Employee' object has no attribute '__salary'\n",
    "#print(emp.__salary) erroe:#Employee' object has no attribute '__salary'\n",
    "print(emp._Employee__salary)"
   ]
  },
  {
   "cell_type": "code",
   "execution_count": 185,
   "id": "cee273a4",
   "metadata": {},
   "outputs": [
    {
     "name": "stdout",
     "output_type": "stream",
     "text": [
      "45PMBluetooth\n",
      "866664545464\n"
     ]
    }
   ],
   "source": [
    "class bluetoothPM :\n",
    "    def __init__(self,name,contact):\n",
    "        self.name=name #public\n",
    "        self.__contact=contact  #private\n",
    "\n",
    "blt=bluetoothPM(\"45PMBluetooth\",\"866664545464\")   \n",
    "print(blt.name)\n",
    "# print(blt.contact) #cannot access from outside \n",
    "# print(blt.__contact) #cannot access from outside \n",
    "print(blt._bluetoothPM__contact) ## can access the private variable via the class"
   ]
  },
  {
   "cell_type": "markdown",
   "id": "7580646f",
   "metadata": {},
   "source": [
    "Python Access Modifiers: used to restrict access to the variables and methods of the class.\\\n",
    "I)Public Access Modifier\\\n",
    "II)Protected Access Modifier\\\n",
    "III)Private Access Modifier"
   ]
  },
  {
   "cell_type": "markdown",
   "id": "552cbd0b",
   "metadata": {},
   "source": [
    "I)Public Access Modifier\\\n",
    "The members of a class that are declared public are easily accessible from any part of the program. All data members and member functions of a class are public by default. "
   ]
  },
  {
   "cell_type": "code",
   "execution_count": 186,
   "id": "8e2ee814",
   "metadata": {},
   "outputs": [
    {
     "name": "stdout",
     "output_type": "stream",
     "text": [
      "5\n",
      "Black\n",
      "color : Black ,age : 5\n"
     ]
    }
   ],
   "source": [
    "class dog:\n",
    "    def __init__(self,color,age):\n",
    "        self.age=age       # public data members\n",
    "        self.color=color\n",
    "    def show(self):       # public member function\n",
    "        print(\"color :\",self.color,\",age :\",self.age)\n",
    "\n",
    "dogobj=dog('Black',5)\n",
    "\n",
    "print(dogobj.age) ## accessing public data member\n",
    "print(dogobj.color)\n",
    "\n",
    "dogobj.show()# calling public member function of the class"
   ]
  },
  {
   "cell_type": "markdown",
   "id": "4ed444df",
   "metadata": {},
   "source": [
    "II)Protected Access Modifier:\\\n",
    "The members of a class that are declared protected are only accessible to a class derived from it. Data members of a class are declared protected by adding a single underscore ‘_’ symbol before the data member of that class. \n",
    "\n",
    "Can be accessible from derived class"
   ]
  },
  {
   "cell_type": "code",
   "execution_count": 187,
   "id": "d74c423d",
   "metadata": {},
   "outputs": [
    {
     "name": "stdout",
     "output_type": "stream",
     "text": [
      "the car  BMw gives milage of  39.53 km/hr\n",
      "39.53\n",
      "BMw\n"
     ]
    }
   ],
   "source": [
    "class car:\n",
    "    def __init__(self,name,milage):\n",
    "        self.name = name\n",
    "        self._milage = milage\n",
    "    def show(self)    :\n",
    "        print(\"the car \",self.name,\"gives milage of \",self._milage,\"km/hr\") #use self._milage bcoz its protected variable \n",
    "\n",
    "obj=car(\"BMw\",39.53)   \n",
    "obj.show() #accessing protected variable via class\n",
    "\n",
    "#print(obj.milage) #accessing protected variable from outside\n",
    "# #error AttributeError: 'car' object has no attribute 'milage'\n",
    "\n",
    "print(obj._milage)  #accessing protected variable from outside.    use _ to access proteced variable\n",
    "print(obj.name)"
   ]
  },
  {
   "cell_type": "code",
   "execution_count": 188,
   "id": "fd81493a",
   "metadata": {},
   "outputs": [
    {
     "name": "stdout",
     "output_type": "stream",
     "text": [
      "Milage of BMW is: 39.53 km/hr\n",
      "39.53\n"
     ]
    }
   ],
   "source": [
    "#protected variable can be acceseed by derived class\n",
    "class car:\n",
    "    def __init__(self,name,milage):\n",
    "        self.name=name\n",
    "        self._milage=milage\n",
    "    \n",
    "class newcar(car): #derived class\n",
    "    def show(self)    :\n",
    "        print(\"Milage of\",self.name,\"is:\" ,self._milage,\"km/hr\") #use self._milage bcoz its protected variable \n",
    "\n",
    "obj=newcar(\"BMW\",39.53)   \n",
    "obj.show() #accessing protected variable via class\n",
    "#print(obj.milage) #accessing protected variable from outside\n",
    "# #error AttributeError: 'car' object has no attribute 'milage'\n",
    "print(obj._milage)  #accessing protected variable from outside.    use _ to access proteced variable"
   ]
  },
  {
   "cell_type": "code",
   "execution_count": 189,
   "id": "cfdc2217",
   "metadata": {},
   "outputs": [
    {
     "name": "stdout",
     "output_type": "stream",
     "text": [
      "Milage of BMW is: 39.53 km/hr\n",
      "39.53\n"
     ]
    }
   ],
   "source": [
    "class car:\n",
    "    def __init__(self,name,milage):\n",
    "        self.name=name\n",
    "        self._milage=milage\n",
    "    def show(self)    :\n",
    "        print(\"Milage of\",self.name,\"is:\" ,self._milage,\"km/hr\") #use self._milage bcoz its protected variable \n",
    "class newcar(car):\n",
    "    def __init__(self,name , milage): \n",
    "        car.__init__(self,name,milage)\n",
    "    \n",
    "obj=newcar(\"BMW\",39.53) \n",
    "obj.show()#accessing protected variable via derived class class\n",
    "#print(obj.milage) #accessing protected variable from outside ,error AttributeError: 'car' object has no attribute 'milage'\n",
    "\n",
    "print(obj._milage)  #accessing protected variable from outside.    use _ to access proteced variable"
   ]
  },
  {
   "cell_type": "code",
   "execution_count": 190,
   "id": "b818f646",
   "metadata": {},
   "outputs": [
    {
     "name": "stdout",
     "output_type": "stream",
     "text": [
      "the car  BMw gives milage of  39.53 km/hr\n",
      "39.53\n",
      "BMw\n"
     ]
    }
   ],
   "source": [
    "class car:\n",
    "    def __init__(self,name,milage):\n",
    "        self.name=name\n",
    "        self._milage=milage\n",
    "    def show(self)    :\n",
    "        print(\"the car \",self.name,\"gives milage of \",self._milage,\"km/hr\") #use self._milage bcoz its protected variable \n",
    "class newcar(car):\n",
    "    def __init__(self,name , milage): \n",
    "        super().__init__(name,milage) #dont use self  with super()\n",
    "    \n",
    "obj=newcar(\"BMw\",39.53) \n",
    "obj.show() #accessing protected variable via derived class class\n",
    "print(obj._milage)  #accessing protected variable from outside.    use _ to access proteced variable\n",
    "print(obj.name)"
   ]
  },
  {
   "cell_type": "markdown",
   "id": "fe1216c4",
   "metadata": {},
   "source": [
    "III)Private Access Modifier\\\n",
    "The members of a class that are declared private are accessible within the class only, private access modifier is the most secure access modifier. Data members of a class are declared private by adding a double underscore ‘__’ symbol before the data member of that class.\n",
    "\n",
    "The name mangling process helps to access the class variables from outside the class.\n",
    "\n",
    "Cannot be accessible from derived class"
   ]
  },
  {
   "cell_type": "code",
   "execution_count": 191,
   "id": "2b3df5aa",
   "metadata": {},
   "outputs": [
    {
     "name": "stdout",
     "output_type": "stream",
     "text": [
      "the car  BMw gives milage of  39.53 km/hr\n",
      "39.53\n",
      "BMw\n"
     ]
    }
   ],
   "source": [
    "# Data Encapsulation\n",
    "class car:\n",
    "    def __init__(self,name,milage):\n",
    "        self.name=name\n",
    "        self.__milage=milage\n",
    "    def show(self)    :\n",
    "        print(\"the car \",self.name,\"gives milage of \",self.__milage,\"km/hr\") #use self.__name bcoz its protected variable \n",
    "\"\"\"\n",
    "#cannot be accessible from derived class\n",
    "class ex(car):\n",
    "    pass\n",
    "\n",
    "e=ex(\"BMw1\",40)\n",
    "print(e.name)\n",
    "print(e.__milage)\n",
    "print(e._ex__name)\n",
    "\n",
    "\"\"\"\n",
    "obj=car(\"BMw\",39.53)   \n",
    "obj.show() #accessing private variable via class\n",
    "\n",
    "print(obj._car__milage)  #mangling name\n",
    "# print(obj.name) # accessing private variable from outside . error: AttributeError: 'car' object has no attribute 'name'\n",
    "# print(obj.__name) # error: AttributeError: 'car' object has no attribute '__name'\n",
    "print(obj.name) "
   ]
  },
  {
   "cell_type": "code",
   "execution_count": null,
   "id": "4d15e4d0",
   "metadata": {},
   "outputs": [],
   "source": []
  }
 ],
 "metadata": {
  "kernelspec": {
   "display_name": "Python 3 (ipykernel)",
   "language": "python",
   "name": "python3"
  },
  "language_info": {
   "codemirror_mode": {
    "name": "ipython",
    "version": 3
   },
   "file_extension": ".py",
   "mimetype": "text/x-python",
   "name": "python",
   "nbconvert_exporter": "python",
   "pygments_lexer": "ipython3",
   "version": "3.9.13"
  }
 },
 "nbformat": 4,
 "nbformat_minor": 5
}
