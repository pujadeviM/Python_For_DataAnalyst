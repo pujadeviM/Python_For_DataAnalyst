{
 "cells": [
  {
   "cell_type": "markdown",
   "id": "ae1f4466",
   "metadata": {},
   "source": [
    "Numpy is a shorthand form of \"Numeric Python\" or \"Numerical Python\" and it is pronounced as (Num-pee).\\\n",
    "\n",
    "To perform large mathematical operations and statistical operations Numpy is an incredible library.\n",
    "\n",
    "Numpy is basically a simple programming language that works superbly well for the multi-dimensional arrays and matrices multiplication."
   ]
  },
  {
   "cell_type": "code",
   "execution_count": 284,
   "id": "83bcf4d0",
   "metadata": {},
   "outputs": [
    {
     "name": "stdout",
     "output_type": "stream",
     "text": [
      "3.9.13\n"
     ]
    }
   ],
   "source": [
    "from platform import python_version \n",
    "print(python_version())"
   ]
  },
  {
   "cell_type": "code",
   "execution_count": 285,
   "id": "bbb81563",
   "metadata": {},
   "outputs": [
    {
     "name": "stdout",
     "output_type": "stream",
     "text": [
      "1.21.5\n"
     ]
    }
   ],
   "source": [
    "import numpy as np\n",
    "print(np.__version__)"
   ]
  },
  {
   "cell_type": "code",
   "execution_count": 286,
   "id": "9e648470",
   "metadata": {},
   "outputs": [],
   "source": [
    "import numpy as np"
   ]
  },
  {
   "cell_type": "markdown",
   "id": "1dacab8c",
   "metadata": {},
   "source": [
    "# numpy String functions:  np.char.FunctionName(array) :\n",
    "The numpy.char module provides a set of vectorized string operations for arrays of type numpy.str_ or numpy.bytes_\n",
    "\n",
    " islower(),find(),count(), replace(),splitlines(),add(),multiply(),center(),join(),split(),title(),lower(),isupper(),isnumeric() ,isalpha(),index(),startswith(),isspace(),isdigit(),isdecimal(),upper(),capitalize(),swapcase(),strip(),char.partition()    "
   ]
  },
  {
   "cell_type": "code",
   "execution_count": 287,
   "id": "c25d477f",
   "metadata": {
    "scrolled": true
   },
   "outputs": [
    {
     "name": "stdout",
     "output_type": "stream",
     "text": [
      "['apple' 'Cherry262' '523' 'banana' 'watermelon' 'cherry' 'apple' ' '\n",
      " 'Pineapple' 'SSSS ! ']\n",
      "<class 'numpy.ndarray'>\n"
     ]
    }
   ],
   "source": [
    "array2 = np.array(['apple',  'Cherry262',523,  'banana','watermelon','cherry','apple',\" \",'Pineapple' , \"SSSS ! \" ] )\n",
    "print(array2)\n",
    "print(type(array2))"
   ]
  },
  {
   "cell_type": "code",
   "execution_count": 288,
   "id": "65f4bf92",
   "metadata": {},
   "outputs": [
    {
     "name": "stdout",
     "output_type": "stream",
     "text": [
      "title****:     ['Apple' 'Cherry262' '523' 'Banana' 'Watermelon' 'Cherry' 'Apple' ' '\n",
      " 'Pineapple' 'Ssss ! ']\n",
      "istitle****:    [False  True False False False False False False  True False]\n",
      "isdigit****:     [False False  True False False False False False False False]\n",
      "count****:     [1 0 0 0 0 0 1 0 1 0]\n",
      "countsum****:     3\n",
      "count****:     [1 0 0 0 0 0 1 0 0 0]\n",
      "countsum****:     2\n",
      "capitalize****:   ['Apple' 'Cherry262' '523' 'Banana' 'Watermelon' 'Cherry' 'Apple' ' '\n",
      " 'Pineapple' 'Ssss ! ']\n",
      "Swapcase****:     ['APPLE' 'cHERRY262' '523' 'BANANA' 'WATERMELON' 'CHERRY' 'APPLE' ' '\n",
      " 'pINEAPPLE' 'ssss ! ']\n",
      "strip****:     ['apple' 'Cherry262' '523' 'banana' 'watermelon' 'cherry' 'apple' ''\n",
      " 'Pineapple' 'SSSS !']\n",
      "Sort****:   [' ' '523' 'Cherry262' 'Pineapple' 'SSSS ! ' 'apple' 'apple' 'banana'\n",
      " 'cherry' 'watermelon']\n",
      "splitlines****:   [list(['apple']) list(['Cherry262']) list(['523']) list(['banana'])\n",
      " list(['watermelon']) list(['cherry']) list(['apple']) list([' '])\n",
      " list(['Pineapple']) list(['SSSS ! '])]\n"
     ]
    }
   ],
   "source": [
    "print(\"title****:    \",np.char.title(array2))  #convert an input string into a title cased version.\n",
    "print(\"istitle****:   \",np.char.istitle(array2)) #returns true if input is a title cased string(start with capital follwerd by lowercase letters)\n",
    "print(\"isdigit****:    \",np.char.isdigit(array2))\n",
    "\n",
    "print(\"count****:    \",np.char.count(array2,'apple'))\n",
    "print(\"countsum****:    \",np.char.count(array2,'apple').sum())\n",
    "print(\"count****:    \",np.char.count('apple',array2))\n",
    "print(\"countsum****:    \",np.char.count('apple',array2).sum())\n",
    "\n",
    "print(\"capitalize****:  \",np.char.capitalize(array2))\n",
    "print(\"Swapcase****:    \",np.char.swapcase(array2)) #convert lowercase into uppercase and uppercase into lowercase\n",
    "print(\"strip****:    \",np.char.strip(array2)) #removes extra spaces\n",
    "print(\"Sort****:  \",np.sort(array2))\n",
    "print(\"splitlines****:  \",np.char.splitlines(array2))"
   ]
  },
  {
   "cell_type": "code",
   "execution_count": 289,
   "id": "9746ab3c",
   "metadata": {},
   "outputs": [
    {
     "data": {
      "text/plain": [
       "array(['apple', 'Cherry262', '523', 'banana', 'watermelon', 'cherry',\n",
       "       'apple', ' ', 'Pineapple', 'SSSS ! '], dtype='<U11')"
      ]
     },
     "execution_count": 289,
     "metadata": {},
     "output_type": "execute_result"
    }
   ],
   "source": [
    "array2"
   ]
  },
  {
   "cell_type": "code",
   "execution_count": 290,
   "id": "19d6555b",
   "metadata": {},
   "outputs": [
    {
     "name": "stdout",
     "output_type": "stream",
     "text": [
      "islower:     [ True False False  True  True  True  True False False False]\n",
      "isupper:      [False False False False False False False False False  True]\n",
      "isnumeric:    [False False  True False False False False False False False]\n",
      "isdecimal:    [False False  True False False False False False False False]\n",
      "Find:    [ 0 -1 -1 -1 -1 -1  0 -1  4 -1]\n",
      "Replace:   ['apple' 'Cherry262' '523' 'Banana' 'watermelon' 'cherry' 'apple' ' '\n",
      " 'Pineapple' 'SSSS ! ']\n",
      "startswith:   [ True False False False False False  True False False False]\n",
      "endsswith:   [ True False False False False False  True False  True False]\n",
      "isspace:     [False False False False False False False  True False False]\n",
      "upper:   ['APPLE' 'CHERRY262' '523' 'BANANA' 'WATERMELON' 'CHERRY' 'APPLE' ' '\n",
      " 'PINEAPPLE' 'SSSS ! ']\n"
     ]
    }
   ],
   "source": [
    "print(\"islower:    \",np.char.islower(array2))\n",
    "print(\"isupper:     \",np.char.isupper(array2)) #True if all the characters of the string element are in uppercase.\n",
    "print(\"isnumeric:   \",np.char.isnumeric(array2))\n",
    "print(\"isdecimal:   \",np.char.isdecimal(array2))\n",
    "print(\"Find:   \",np.char.find(array2,\"apple\")) # 0 if found,-1 not found, 4 for from 4th index it was found\n",
    "print(\"Replace:  \",np.char.replace(array2,\"banana\",\"Banana\"))\n",
    "\n",
    "print(\"startswith:  \",np.char.startswith(array2,\"a\"))\n",
    "print(\"endsswith:  \",np.char.endswith(array2,\"e\"))\n",
    "\n",
    "print(\"isspace:    \",np.char.isspace(array2)) #true if none/emplty value is given\n",
    "print(\"upper:  \",np.char.upper(array2))"
   ]
  },
  {
   "cell_type": "markdown",
   "id": "9eb2e680",
   "metadata": {},
   "source": [
    "#  Mathematical functions: or Rounding Decimals\n",
    "  ceil(),floor(), trunc(), fix()  ,around() ,round() "
   ]
  },
  {
   "cell_type": "code",
   "execution_count": 291,
   "id": "b23de709",
   "metadata": {},
   "outputs": [
    {
     "name": "stdout",
     "output_type": "stream",
     "text": [
      "[-3.  3.  1.]\n"
     ]
    }
   ],
   "source": [
    "arr = np.array([-3.1666, 3.6667,1.6454654655])\n",
    "x=np.trunc(arr)      # numpy.trunc() used to return the truncated integer value of the input array elements. or used to round \n",
    "                            #the array values to the nearest integers towards zero.\n",
    "print(x)"
   ]
  },
  {
   "cell_type": "code",
   "execution_count": 292,
   "id": "5ad85d9c",
   "metadata": {},
   "outputs": [
    {
     "name": "stdout",
     "output_type": "stream",
     "text": [
      "[-3.  3.  1.]\n"
     ]
    }
   ],
   "source": [
    "x=np.fix(arr) # used to round the array values to the nearest integers towards zero.\n",
    "print(x) "
   ]
  },
  {
   "cell_type": "code",
   "execution_count": 293,
   "id": "cb13629e",
   "metadata": {},
   "outputs": [
    {
     "name": "stdout",
     "output_type": "stream",
     "text": [
      "[-3.  4.  2.]\n",
      "[-3.2  3.7  1.6]\n",
      "[-3.  4.  2.]\n"
     ]
    }
   ],
   "source": [
    "#round an array to the given number of decimal\n",
    "x=np.around(arr) #around(arr,dedcimal=0,out=None0)\n",
    "print(x)\n",
    "\n",
    "x=np.around(arr,1)\n",
    "print(x)\n",
    "\n",
    "x=np.round(arr) # round an array to the given number of decimal # round(arr,dedcimal=0,out=None0)\n",
    "print(x)"
   ]
  },
  {
   "cell_type": "code",
   "execution_count": 294,
   "id": "433a99cb",
   "metadata": {},
   "outputs": [
    {
     "name": "stdout",
     "output_type": "stream",
     "text": [
      "Floor: 3.0\n",
      "Ceil: 4.0\n"
     ]
    }
   ],
   "source": [
    "x=np.floor(3.1666) #rounds off decimal to nearest lowest interger. datatype=FLoat\n",
    "print(\"Floor:\",x)\n",
    "\n",
    "x=np.ceil(3.166) #rounds off decimal to nearest upper interger. datatype=FLoat\n",
    "print(\"Ceil:\",x)"
   ]
  },
  {
   "cell_type": "markdown",
   "id": "76d42722",
   "metadata": {},
   "source": [
    "#  Statistical  functions\n",
    "  amin(),amax(),median(),mean(),std()    "
   ]
  },
  {
   "cell_type": "code",
   "execution_count": 295,
   "id": "0e6cfe4b",
   "metadata": {},
   "outputs": [
    {
     "name": "stdout",
     "output_type": "stream",
     "text": [
      "[[ 2 15 20]\n",
      " [80 43 31]\n",
      " [22 43 10]]\n",
      "\n",
      "The minimum element among the array: 2\n",
      "\n",
      "The minimum element among the rows of array [ 2 15 10]\n",
      "\n",
      "The minimum element among the columns of array [ 2 31 10]\n"
     ]
    }
   ],
   "source": [
    "a = np.array([[2,15,20],[80,43,31],[22,43,10]]) \n",
    "print(a)\n",
    "#axis = 0 means along the column and axis = 1 means working along the row.\n",
    "print(\"\\nThe minimum element among the array:\",np.amin(a))  \n",
    "print(\"\\nThe minimum element among the rows of array\",np.amin(a,0))  \n",
    "print(\"\\nThe minimum element among the columns of array\",np.amin(a,1))  "
   ]
  },
  {
   "cell_type": "code",
   "execution_count": 296,
   "id": "6df25160",
   "metadata": {},
   "outputs": [
    {
     "name": "stdout",
     "output_type": "stream",
     "text": [
      "\n",
      "The minimum element among the array: 80\n",
      "\n",
      "The minimum element among the rows of array [80 43 31]\n",
      "\n",
      "The minimum element among the columns of array [20 80 43]\n"
     ]
    }
   ],
   "source": [
    "a = np.array([[2,15,20],[80,43,31],[22,43,10]])  \n",
    "print(\"\\nThe minimum element among the array:\",np.amax(a)) \n",
    "#axis = 0 means along the column and axis = 1 means working along the row.\n",
    "print(\"\\nThe minimum element among the rows of array\",np.amax(a,0))  \n",
    "print(\"\\nThe minimum element among the columns of array\",np.amax(a,1))  "
   ]
  },
  {
   "cell_type": "code",
   "execution_count": 297,
   "id": "2efffb4b",
   "metadata": {},
   "outputs": [
    {
     "name": "stdout",
     "output_type": "stream",
     "text": [
      "The mean of the array[80, 23, 17, 1, 39] :  32.0\n",
      "MultiDimensionalArray:\n",
      " [[14 19 12 34 43]\n",
      " [16  8 28  8 20]\n",
      " [25  5 55  1  2]]\n",
      "\n",
      "The mean of the array when axis = None : \n",
      "19.333333333333332\n",
      "\n",
      "The mean of the array when axis = 0: \n",
      "[18.33333333 10.66666667 31.66666667 14.33333333 21.66666667]\n",
      "\n",
      "The mean of the array when axis = 1 : \n",
      "[24.4 16.  17.6]\n"
     ]
    }
   ],
   "source": [
    "x= np.array([80, 23, 17, 1, 39] )\n",
    "print(\"The mean of the array[80, 23, 17, 1, 39] : \",np.mean(x))\n",
    "\n",
    "p = np.array([[14, 19, 12, 34, 43], [16, 8, 28, 8, 20], [25, 5, 55, 1, 2]] )\n",
    "print(\"MultiDimensionalArray:\\n\",p)\n",
    "# calculating mean of the flattened array \n",
    "print(\"\\nThe mean of the array when axis = None : \") #axis = 0 means along the column and axis = 1 means working along the row.\n",
    "print(np.mean(p)) \n",
    "print(\"\\nThe mean of the array when axis = 0: \")\n",
    "print(np.mean(p, axis = 0)) \n",
    "print(\"\\nThe mean of the array when axis = 1 : \")\n",
    "print(np.mean(p, axis = 1)) "
   ]
  },
  {
   "cell_type": "code",
   "execution_count": 298,
   "id": "105bccf6",
   "metadata": {},
   "outputs": [
    {
     "name": "stdout",
     "output_type": "stream",
     "text": [
      "The median of the array[80, 23, 17, 1, 39] : 23.0\n",
      "Array:\n",
      " [[ 1 17 19 33 49]\n",
      " [14  6 87  8 19]\n",
      " [34  2 54  4  7]]\n",
      "Median: 17.0\n",
      "\n",
      "The median of array when axis = 0 : \n",
      "[14.  6. 54.  8. 19.]\n",
      "\n",
      "The median of array when axis = 1 : \n",
      "[19. 14.  7.]\n"
     ]
    }
   ],
   "source": [
    "x=np.array( [80, 23, 17, 1, 39] )\n",
    "print(\"The median of the array[80, 23, 17, 1, 39] :\",np.median(x)) #Thus this function returns the median of the array elements as an output.\n",
    "\n",
    "inp = np.array([[1, 17, 19, 33, 49], [14, 6, 87, 8, 19], [34, 2, 54, 4, 7]] )\n",
    "print(\"Array:\\n\",inp)\n",
    "print(\"Median:\",np.median(inp)) \n",
    "\n",
    "# calculating median along the axis = 0 \n",
    "print(\"\\nThe median of array when axis = 0 : \")#axis = 0 means along the column and axis = 1 means working along the row.\n",
    "print(np.median(inp, axis = 0)) \n",
    "\n",
    "#calculating median along the axis = 1 \n",
    "print(\"\\nThe median of array when axis = 1 : \")\n",
    "print(np.median(inp, axis = 1)) \n"
   ]
  },
  {
   "cell_type": "code",
   "execution_count": 299,
   "id": "e8219140",
   "metadata": {},
   "outputs": [
    {
     "name": "stdout",
     "output_type": "stream",
     "text": [
      "The array is:\n",
      " [[11  2]\n",
      " [13 44]]\n",
      "Standard Deviation is : 15.850867484147358\n",
      "Standard Deviation along axis 0:\n",
      "[ 1. 21.]\n",
      "Standard Deviation along axis 1:\n",
      "[ 4.5 15.5]\n"
     ]
    }
   ],
   "source": [
    "# standard deviation.\n",
    "a = np.array([[11, 2], [13, 44]])\n",
    "print(\"The array is:\\n\",a)\n",
    "print(\"Standard Deviation is :\",np.std(a))\n",
    "print(\"Standard Deviation along axis 0:\")\n",
    "print(np.std(a, axis=0))\n",
    "print(\"Standard Deviation along axis 1:\")\n",
    "print(np.std(a, axis=1))"
   ]
  },
  {
   "cell_type": "markdown",
   "id": "24c22dc6",
   "metadata": {},
   "source": [
    "# =============numpy basic operations============"
   ]
  },
  {
   "cell_type": "markdown",
   "id": "0d21a259",
   "metadata": {},
   "source": [
    "# Array Methods:\n",
    "# Array :\n",
    "    Python does not have built-in support for Arrays, but Python Lists can be used instead.In Python you will have to \n",
    "    import a library, like the NumPy library.\\\n",
    "    \n",
    "ordered , mutable ,Allows duplicates\\\n",
    "allows Slicing\\\n",
    "arrAy can have more than 1 null values\\\n",
    "Arrays are used to store multiple values in one single variable\\\n",
    "\n",
    "\n",
    "nditer(),ndenumerate()                     : loop through array\\\n",
    ",copy(),view(),base(),\\\n",
    "shape(),reshape(),\\\n",
    "append(),concatenate(), stack(),hstack(),vstack()                 : join arrays\\\n",
    "array_split(), \\\n",
    "where() and searchsorted(),                  : search \\\n",
    "sort(),\\\n",
    "np.flipud(),np.flip(),-np.sort(-array)   : reverse an arrya\\\n",
    "random.randint(), random.rand(), random.choice(), random.shuffle(), random.permutation(),           : random number\\\n",
    "lcm(), \\\n",
    "  gcd().reduce(),\\\n",
    "add(),subtract(),multiply(),divide(), power(),mod(),remainder(),absolute(),prod(),        :  arithmetic functions\\\n",
    "trunc(),fix(),around(),floor(),ceil()         :Rounding Decimals\\\n",
    "diff() "
   ]
  },
  {
   "cell_type": "code",
   "execution_count": 300,
   "id": "47fdcaea",
   "metadata": {},
   "outputs": [],
   "source": [
    "\n",
    "array2=np.array(['apple','banana','watermelon','cherry','apple'])"
   ]
  },
  {
   "cell_type": "code",
   "execution_count": 301,
   "id": "1cc0c951",
   "metadata": {},
   "outputs": [
    {
     "data": {
      "text/plain": [
       "array(['apple', 'banana', 'watermelon', 'cherry', 'apple'], dtype='<U10')"
      ]
     },
     "execution_count": 301,
     "metadata": {},
     "output_type": "execute_result"
    }
   ],
   "source": [
    "array2"
   ]
  },
  {
   "cell_type": "markdown",
   "id": "1e4568e0",
   "metadata": {},
   "source": [
    "# numpy.char.index():\n",
    "return the index of substring,If not found raise a ValueError\\\n",
    "numpy.char.index(a, sub, start=0, end=None)\n"
   ]
  },
  {
   "cell_type": "code",
   "execution_count": 302,
   "id": "4c3f864c",
   "metadata": {},
   "outputs": [
    {
     "name": "stdout",
     "output_type": "stream",
     "text": [
      "[2]\n"
     ]
    }
   ],
   "source": [
    "ar1=np.array(['I love Python']) \n",
    "output1 = np.char.index(ar1,'love') \n",
    "print ( output1)"
   ]
  },
  {
   "cell_type": "markdown",
   "id": "01946d63",
   "metadata": {},
   "source": [
    "# np.char.find()\n",
    "char.find(a, sub, start=0, end=None)\n"
   ]
  },
  {
   "cell_type": "code",
   "execution_count": 303,
   "id": "53be4add",
   "metadata": {},
   "outputs": [
    {
     "data": {
      "text/plain": [
       "array(['apple', 'banana', 'watermelon', 'cherry', 'apple'], dtype='<U10')"
      ]
     },
     "execution_count": 303,
     "metadata": {},
     "output_type": "execute_result"
    }
   ],
   "source": [
    "array2"
   ]
  },
  {
   "cell_type": "code",
   "execution_count": 304,
   "id": "61010c90",
   "metadata": {},
   "outputs": [
    {
     "name": "stdout",
     "output_type": "stream",
     "text": [
      "[ 0  1  1 -1  0]\n",
      "[ 0 -1 -1 -1  0]\n",
      "[-1 -1  0 -1 -1]\n"
     ]
    }
   ],
   "source": [
    "print(np.char.find(array2, sub ='a') ) \n",
    "print(np.char.find(array2,'apple') )\n",
    "print(np.char.find(array2, 'water') )\n",
    "#0 for exact match\n",
    "#1 if present\n",
    "#-1 not present \n",
    "# other digits represent starting position of substring  Ex.apple in pineapple     o/p : 4\n"
   ]
  },
  {
   "cell_type": "markdown",
   "id": "a50255b6",
   "metadata": {},
   "source": [
    "# np.append() and np.concatenate()"
   ]
  },
  {
   "cell_type": "code",
   "execution_count": 305,
   "id": "37f906d3",
   "metadata": {
    "scrolled": true
   },
   "outputs": [
    {
     "data": {
      "text/plain": [
       "(array(['pineapple', 'apple', 'banana', 'watermelon', 'cherry', 'apple'],\n",
       "       dtype='<U10'),\n",
       " array(['apple', 'banana', 'watermelon', 'cherry', 'apple', 'pineapple'],\n",
       "       dtype='<U10'))"
      ]
     },
     "execution_count": 305,
     "metadata": {},
     "output_type": "execute_result"
    }
   ],
   "source": [
    "x=np.append(\"pineapple\",array2) #insert new string at first position\n",
    "y=np.append(array2,\"pineapple\") #insert new string at the end position\n",
    "x,y"
   ]
  },
  {
   "cell_type": "code",
   "execution_count": 306,
   "id": "c75babce",
   "metadata": {
    "scrolled": true
   },
   "outputs": [
    {
     "name": "stdout",
     "output_type": "stream",
     "text": [
      "['apple' 'banana' 'watermelon' 'cherry' 'apple' '10']\n",
      "['10' 'apple' 'banana' 'watermelon' 'cherry' 'apple']\n"
     ]
    }
   ],
   "source": [
    "print(np.concatenate((array2,[10])))  #insert new string at end\n",
    "print(np.concatenate(([10],array2)))#insert new string at begining "
   ]
  },
  {
   "cell_type": "code",
   "execution_count": 307,
   "id": "f9750e54",
   "metadata": {},
   "outputs": [
    {
     "data": {
      "text/plain": [
       "array(['14', '5', '6', '1', '5', '6'], dtype='<U11')"
      ]
     },
     "execution_count": 307,
     "metadata": {},
     "output_type": "execute_result"
    }
   ],
   "source": [
    "n=np.array([\"14\",\"5\",\"6\"])\n",
    "n1=np.array([1,5,6])\n",
    "np.append(n,n1)"
   ]
  },
  {
   "cell_type": "markdown",
   "id": "977ab880",
   "metadata": {},
   "source": [
    "# count()\n",
    "syntax=  np.core.defchararray.count(arr,substring,start=0,end=none)\\\n",
    "substring=substring to search for\\\n",
    "start or end : range to search in"
   ]
  },
  {
   "cell_type": "code",
   "execution_count": 308,
   "id": "8233407a",
   "metadata": {},
   "outputs": [
    {
     "data": {
      "text/plain": [
       "array(['apple', 'banana', 'watermelon', 'cherry', 'apple'], dtype='<U10')"
      ]
     },
     "execution_count": 308,
     "metadata": {},
     "output_type": "execute_result"
    }
   ],
   "source": [
    "array2"
   ]
  },
  {
   "cell_type": "code",
   "execution_count": 309,
   "id": "79bd833a",
   "metadata": {},
   "outputs": [
    {
     "data": {
      "text/plain": [
       "array([1, 0, 0, 0, 1])"
      ]
     },
     "execution_count": 309,
     "metadata": {},
     "output_type": "execute_result"
    }
   ],
   "source": [
    "np.char.count(array2,'apple')"
   ]
  },
  {
   "cell_type": "code",
   "execution_count": 310,
   "id": "fed04c13",
   "metadata": {},
   "outputs": [
    {
     "data": {
      "text/plain": [
       "array([1, 3, 1, 0, 1])"
      ]
     },
     "execution_count": 310,
     "metadata": {},
     "output_type": "execute_result"
    }
   ],
   "source": [
    "np.char.count(array2,'a')"
   ]
  },
  {
   "cell_type": "code",
   "execution_count": 311,
   "id": "9e2d8be1",
   "metadata": {},
   "outputs": [
    {
     "data": {
      "text/plain": [
       "array([0, 1, 1, 0, 0])"
      ]
     },
     "execution_count": 311,
     "metadata": {},
     "output_type": "execute_result"
    }
   ],
   "source": [
    "np.char.count(array2,'a',start=1,end=3)"
   ]
  },
  {
   "cell_type": "markdown",
   "id": "7c65d7af",
   "metadata": {},
   "source": [
    "# np.reshape()\n",
    "changiging the shape (dimension) of an array"
   ]
  },
  {
   "cell_type": "code",
   "execution_count": 312,
   "id": "b8f1c7c1",
   "metadata": {},
   "outputs": [
    {
     "data": {
      "text/plain": [
       "array([ 0,  1,  2,  3,  4,  5,  6,  7,  8,  9, 10, 11])"
      ]
     },
     "execution_count": 312,
     "metadata": {},
     "output_type": "execute_result"
    }
   ],
   "source": [
    "np.arange(12) #array of 12 elemnts start from 0 to 11"
   ]
  },
  {
   "cell_type": "code",
   "execution_count": 313,
   "id": "8bafc12b",
   "metadata": {
    "scrolled": true
   },
   "outputs": [
    {
     "data": {
      "text/plain": [
       "array([[ 0,  1,  2],\n",
       "       [ 3,  4,  5],\n",
       "       [ 6,  7,  8],\n",
       "       [ 9, 10, 11]])"
      ]
     },
     "execution_count": 313,
     "metadata": {},
     "output_type": "execute_result"
    }
   ],
   "source": [
    "np.arange(12).reshape(4,3)  # 2D array which consist of 4 array with 3  elemnts in each."
   ]
  },
  {
   "cell_type": "code",
   "execution_count": 314,
   "id": "5ae188ff",
   "metadata": {},
   "outputs": [
    {
     "data": {
      "text/plain": [
       "array([[[ 0,  1,  2],\n",
       "        [ 3,  4,  5]],\n",
       "\n",
       "       [[ 6,  7,  8],\n",
       "        [ 9, 10, 11]]])"
      ]
     },
     "execution_count": 314,
     "metadata": {},
     "output_type": "execute_result"
    }
   ],
   "source": [
    "np.arange(12).reshape(2,2,3) # #2 arrays that contains 2 arrays, each with 3 elements"
   ]
  },
  {
   "cell_type": "code",
   "execution_count": 315,
   "id": "8f36034f",
   "metadata": {},
   "outputs": [],
   "source": [
    "import numpy as np"
   ]
  },
  {
   "cell_type": "code",
   "execution_count": 316,
   "id": "1e01531d",
   "metadata": {},
   "outputs": [
    {
     "data": {
      "text/plain": [
       "array([ 2,  4,  6,  4, 14, 10, 20,  6])"
      ]
     },
     "execution_count": 316,
     "metadata": {},
     "output_type": "execute_result"
    }
   ],
   "source": [
    "a=np.array([1,2,3,2,7,5,10,3]) #array\n",
    "a*2"
   ]
  },
  {
   "cell_type": "markdown",
   "id": "637fc4e8",
   "metadata": {},
   "source": [
    "# numpy.insert() \n",
    "numpy.insert(arr, obj, values, axis=None)[source]"
   ]
  },
  {
   "cell_type": "code",
   "execution_count": 317,
   "id": "12a3f7ae",
   "metadata": {},
   "outputs": [
    {
     "data": {
      "text/plain": [
       "array([ 1,  2,  3,  2,  2,  7,  5, 10,  3])"
      ]
     },
     "execution_count": 317,
     "metadata": {},
     "output_type": "execute_result"
    }
   ],
   "source": [
    "np.insert(a,4,2) # at 4th  index insert 2"
   ]
  },
  {
   "cell_type": "markdown",
   "id": "bd6d3ce3",
   "metadata": {},
   "source": [
    "# numpy.append() \n",
    "To append new value at the end\\\n",
    "numpy.append(arr, values, axis=None)\n"
   ]
  },
  {
   "cell_type": "code",
   "execution_count": 318,
   "id": "3ac6bf78",
   "metadata": {},
   "outputs": [
    {
     "data": {
      "text/plain": [
       "array([ 1,  2,  3,  2,  7,  5, 10,  3,  4])"
      ]
     },
     "execution_count": 318,
     "metadata": {},
     "output_type": "execute_result"
    }
   ],
   "source": [
    "np.append(a,4)"
   ]
  },
  {
   "cell_type": "markdown",
   "id": "3ba75dac",
   "metadata": {},
   "source": [
    "# np.unique()"
   ]
  },
  {
   "cell_type": "code",
   "execution_count": 319,
   "id": "fa9293c5",
   "metadata": {},
   "outputs": [
    {
     "data": {
      "text/plain": [
       "array([ 1,  2,  3,  5,  7, 10])"
      ]
     },
     "execution_count": 319,
     "metadata": {},
     "output_type": "execute_result"
    }
   ],
   "source": [
    "np.unique(a)  #return unique values "
   ]
  },
  {
   "cell_type": "markdown",
   "id": "b3b6f5cf",
   "metadata": {},
   "source": [
    "# numpy.delete()\n",
    "numpy.delete(arr, obj, axis=None)"
   ]
  },
  {
   "cell_type": "code",
   "execution_count": 320,
   "id": "7bbb2302",
   "metadata": {},
   "outputs": [
    {
     "data": {
      "text/plain": [
       "array([ 1,  2,  3,  2,  7,  5, 10,  3])"
      ]
     },
     "execution_count": 320,
     "metadata": {},
     "output_type": "execute_result"
    }
   ],
   "source": [
    "a"
   ]
  },
  {
   "cell_type": "code",
   "execution_count": 321,
   "id": "6697752e",
   "metadata": {},
   "outputs": [
    {
     "data": {
      "text/plain": [
       "array([ 1,  2,  2,  7,  5, 10,  3])"
      ]
     },
     "execution_count": 321,
     "metadata": {},
     "output_type": "execute_result"
    }
   ],
   "source": [
    "np.delete(a,2) # delete the value at index 2"
   ]
  },
  {
   "cell_type": "code",
   "execution_count": 322,
   "id": "6f4d416d",
   "metadata": {},
   "outputs": [
    {
     "data": {
      "text/plain": [
       "array([ 1,  2,  3,  2,  7,  5, 10,  3])"
      ]
     },
     "execution_count": 322,
     "metadata": {},
     "output_type": "execute_result"
    }
   ],
   "source": [
    "a"
   ]
  },
  {
   "cell_type": "code",
   "execution_count": 323,
   "id": "caa837d1",
   "metadata": {},
   "outputs": [
    {
     "data": {
      "text/plain": [
       "[1, 2, 3, 1, 2, 3]"
      ]
     },
     "execution_count": 323,
     "metadata": {},
     "output_type": "execute_result"
    }
   ],
   "source": [
    "b=[1,2,3]      #list\n",
    "b*2"
   ]
  },
  {
   "cell_type": "markdown",
   "id": "b5d23dde",
   "metadata": {},
   "source": [
    "# Reverse the array"
   ]
  },
  {
   "cell_type": "code",
   "execution_count": 324,
   "id": "ba69d949",
   "metadata": {},
   "outputs": [
    {
     "data": {
      "text/plain": [
       "array(['ff', 'vv', 'bb', 'aa'], dtype='<U2')"
      ]
     },
     "execution_count": 324,
     "metadata": {},
     "output_type": "execute_result"
    }
   ],
   "source": [
    "a11=np.array(['aa','bb','vv','ff'])\n",
    "np.flip(a11)   "
   ]
  },
  {
   "cell_type": "code",
   "execution_count": 325,
   "id": "d68691c6",
   "metadata": {},
   "outputs": [
    {
     "name": "stdout",
     "output_type": "stream",
     "text": [
      "[ 1  2  3  2  7  5 10  3]\n"
     ]
    }
   ],
   "source": [
    "print(a)"
   ]
  },
  {
   "cell_type": "code",
   "execution_count": 326,
   "id": "26a0a615",
   "metadata": {},
   "outputs": [
    {
     "data": {
      "text/plain": [
       "array([ 3, 10,  5,  7,  2,  3,  2,  1])"
      ]
     },
     "execution_count": 326,
     "metadata": {},
     "output_type": "execute_result"
    }
   ],
   "source": [
    "np.flip(a)     #reverse the array"
   ]
  },
  {
   "cell_type": "code",
   "execution_count": 327,
   "id": "52f2cf20",
   "metadata": {},
   "outputs": [
    {
     "data": {
      "text/plain": [
       "array([ 3, 10,  5,  7,  2,  3,  2,  1])"
      ]
     },
     "execution_count": 327,
     "metadata": {},
     "output_type": "execute_result"
    }
   ],
   "source": [
    "np.flipud(a)     #reverse the array"
   ]
  },
  {
   "cell_type": "code",
   "execution_count": 328,
   "id": "d47f61d7",
   "metadata": {},
   "outputs": [
    {
     "data": {
      "text/plain": [
       "array([10,  7,  5,  3,  3,  2,  2,  1])"
      ]
     },
     "execution_count": 328,
     "metadata": {},
     "output_type": "execute_result"
    }
   ],
   "source": [
    "-np.sort(-a) #sort then reverse"
   ]
  },
  {
   "cell_type": "code",
   "execution_count": 329,
   "id": "9c050f0b",
   "metadata": {},
   "outputs": [
    {
     "data": {
      "text/plain": [
       "array([10,  7,  5,  3,  3,  2,  2,  1])"
      ]
     },
     "execution_count": 329,
     "metadata": {},
     "output_type": "execute_result"
    }
   ],
   "source": [
    "np.sort(a) [::-1]   #sort then reverse"
   ]
  },
  {
   "cell_type": "markdown",
   "id": "b32e7b72",
   "metadata": {},
   "source": [
    "# sort numpy array:"
   ]
  },
  {
   "cell_type": "code",
   "execution_count": 330,
   "id": "92204e4d",
   "metadata": {
    "scrolled": false
   },
   "outputs": [
    {
     "name": "stdout",
     "output_type": "stream",
     "text": [
      "[ 1  2  2  3  3  5  7 10]\n"
     ]
    }
   ],
   "source": [
    "print(np.sort(a,axis=-1))"
   ]
  },
  {
   "cell_type": "code",
   "execution_count": 331,
   "id": "93d1b827",
   "metadata": {},
   "outputs": [
    {
     "name": "stdout",
     "output_type": "stream",
     "text": [
      "[ 1  2  2  3  3  5  7 10]\n"
     ]
    }
   ],
   "source": [
    "print(np.sort(a))"
   ]
  },
  {
   "cell_type": "code",
   "execution_count": 332,
   "id": "b5c1694b",
   "metadata": {},
   "outputs": [
    {
     "name": "stdout",
     "output_type": "stream",
     "text": [
      "['aa' 'df' 'frs' 'gsr' 'sss']\n",
      "['sss' 'gsr' 'frs' 'df' 'aa']\n"
     ]
    }
   ],
   "source": [
    "asort=np.array(['sss','aa','df','frs','gsr'])\n",
    "print(np.sort(asort))\n",
    "print(np.sort(asort)[::-1])"
   ]
  },
  {
   "cell_type": "code",
   "execution_count": 333,
   "id": "b8a44525",
   "metadata": {
    "scrolled": true
   },
   "outputs": [
    {
     "name": "stdout",
     "output_type": "stream",
     "text": [
      "[10  7  5  3  3  2  2  1]\n"
     ]
    }
   ],
   "source": [
    "print(np.sort(a)[::-1]) #sort then reverse"
   ]
  },
  {
   "cell_type": "code",
   "execution_count": 334,
   "id": "031f6861",
   "metadata": {},
   "outputs": [
    {
     "name": "stdout",
     "output_type": "stream",
     "text": [
      "[10  7  5  3  3  2  2  1]\n"
     ]
    }
   ],
   "source": [
    "print(-np.sort(-a)) #only for digit array   #sort then reverse"
   ]
  },
  {
   "cell_type": "code",
   "execution_count": 335,
   "id": "26ab52c2",
   "metadata": {},
   "outputs": [
    {
     "name": "stdout",
     "output_type": "stream",
     "text": [
      "[-10  -7  -5  -3  -3  -2  -2  -1]\n"
     ]
    }
   ],
   "source": [
    "print(np.sort(-a))"
   ]
  },
  {
   "cell_type": "code",
   "execution_count": 336,
   "id": "515dae4c",
   "metadata": {},
   "outputs": [
    {
     "name": "stdout",
     "output_type": "stream",
     "text": [
      "[ -1  -2  -2  -3  -3  -5  -7 -10]\n"
     ]
    }
   ],
   "source": [
    "print(-np.sort(a))"
   ]
  },
  {
   "cell_type": "code",
   "execution_count": 337,
   "id": "82a2c525",
   "metadata": {},
   "outputs": [
    {
     "name": "stdout",
     "output_type": "stream",
     "text": [
      "['Hyundai' '' 'volvo' 'BMW' '' 'BMW' '']\n"
     ]
    }
   ],
   "source": [
    "#crating array\n",
    "#array contains duplicate values and \n",
    "#can have more than one null values adn arrays are ordered\n",
    "car00=np.array([\"Hyundai\",\"\",\"volvo\",\"BMW\",\"\",\"BMW\",\"\"]) \n",
    "print(car00)"
   ]
  },
  {
   "cell_type": "code",
   "execution_count": 338,
   "id": "068acc82",
   "metadata": {},
   "outputs": [
    {
     "name": "stdout",
     "output_type": "stream",
     "text": [
      "['Hyundai' '' 'volvo' 'BMW' '' 'BMW' '']\n",
      "Hyundai\n",
      "<class 'numpy.ndarray'>\n",
      "H\n",
      "y\n",
      "n\n",
      "from volvo: v\n"
     ]
    }
   ],
   "source": [
    "#indexing \n",
    "print(car00)\n",
    "print(car00[0])\n",
    "print(type(car00))\n",
    "print(car00[0][0])\n",
    "print(car00[0][1])\n",
    "print(car00[0][3])\n",
    "\n",
    "print(\"from volvo:\",car00[2][3])"
   ]
  },
  {
   "cell_type": "code",
   "execution_count": 339,
   "id": "391b9c0c",
   "metadata": {},
   "outputs": [
    {
     "name": "stdout",
     "output_type": "stream",
     "text": [
      "array:\n",
      " [[ 1  2  3]\n",
      " [ 7  5 10]]\n",
      "************\n",
      "[[1]\n",
      " [7]]\n",
      "************\n",
      "[[ 1  2  3]\n",
      " [ 7  5 10]]\n",
      "************\n",
      "[[1 2 3]]\n",
      "************\n",
      "[[1 2]]\n"
     ]
    }
   ],
   "source": [
    "#array allows slicing\n",
    "ary=np.array([[1,2,3],[7,5,10]])\n",
    "print(\"array:\\n\",ary)\n",
    "print(\"************\")\n",
    "print(ary[:,:1])\n",
    "print(\"************\")\n",
    "print(ary[:2])\n",
    "print(\"************\")\n",
    "print(ary[:1,:3]) \n",
    "print(\"************\")\n",
    "print(ary[:1,0:2])"
   ]
  },
  {
   "cell_type": "code",
   "execution_count": 340,
   "id": "3c475e2c",
   "metadata": {},
   "outputs": [
    {
     "data": {
      "text/plain": [
       "array(['Hyundai', 'GT360', 'volvo', 'BMW', '', 'BMW', ''], dtype='<U7')"
      ]
     },
     "execution_count": 340,
     "metadata": {},
     "output_type": "execute_result"
    }
   ],
   "source": [
    "#array are mutable: can make change in list add/remove/edit\n",
    "car00[1]=\"GT360\"\n",
    "car00"
   ]
  },
  {
   "cell_type": "code",
   "execution_count": 341,
   "id": "5d1c5dae",
   "metadata": {},
   "outputs": [
    {
     "name": "stdout",
     "output_type": "stream",
     "text": [
      "['Hyundai' 'GT360' 'volvo' 'BMW' 'ferrari' 'BMW' '']\n"
     ]
    }
   ],
   "source": [
    "car00[4]=\"ferrari\"\n",
    "print(car00)"
   ]
  },
  {
   "cell_type": "code",
   "execution_count": 342,
   "id": "fd3cf827",
   "metadata": {},
   "outputs": [
    {
     "data": {
      "text/plain": [
       "array(['Hyundai', 'GT360', 'volvo', 'BMW', 'ferrari', 'BMW', 'Maruti'],\n",
       "      dtype='<U7')"
      ]
     },
     "execution_count": 342,
     "metadata": {},
     "output_type": "execute_result"
    }
   ],
   "source": [
    "car00[6]=\"Maruti\"\n",
    "car00"
   ]
  },
  {
   "cell_type": "markdown",
   "id": "5f1555d3",
   "metadata": {},
   "source": [
    "# Looping-/iterating through array"
   ]
  },
  {
   "cell_type": "code",
   "execution_count": 343,
   "id": "9bde6b35",
   "metadata": {},
   "outputs": [
    {
     "data": {
      "text/plain": [
       "array(['Hyundai', 'GT360', 'volvo', 'BMW', 'ferrari', 'BMW', 'Maruti'],\n",
       "      dtype='<U7')"
      ]
     },
     "execution_count": 343,
     "metadata": {},
     "output_type": "execute_result"
    }
   ],
   "source": [
    "car00"
   ]
  },
  {
   "cell_type": "markdown",
   "id": "046b1c67",
   "metadata": {},
   "source": [
    "Looping through 1D array "
   ]
  },
  {
   "cell_type": "code",
   "execution_count": 344,
   "id": "c62cfdee",
   "metadata": {},
   "outputs": [
    {
     "name": "stdout",
     "output_type": "stream",
     "text": [
      "Hyundai\n",
      "GT360\n",
      "volvo\n",
      "BMW\n",
      "ferrari\n",
      "BMW\n",
      "Maruti\n"
     ]
    }
   ],
   "source": [
    "for x in car00:  #1D array\n",
    "    print(x)\n",
    "    "
   ]
  },
  {
   "cell_type": "code",
   "execution_count": 345,
   "id": "2aec21ae",
   "metadata": {},
   "outputs": [
    {
     "name": "stdout",
     "output_type": "stream",
     "text": [
      "Hyundai\n",
      "GT360\n",
      "volvo\n",
      "BMW\n",
      "ferrari\n",
      "BMW\n",
      "Maruti\n"
     ]
    }
   ],
   "source": [
    "x=0\n",
    "while x<len(car00): #1D array\n",
    "    print(car00[x])\n",
    "    x=x+1"
   ]
  },
  {
   "cell_type": "code",
   "execution_count": 346,
   "id": "113b67dc",
   "metadata": {},
   "outputs": [
    {
     "name": "stdout",
     "output_type": "stream",
     "text": [
      "7\n"
     ]
    }
   ],
   "source": [
    "print(len(car00))\n"
   ]
  },
  {
   "cell_type": "code",
   "execution_count": 347,
   "id": "8f8d657b",
   "metadata": {},
   "outputs": [
    {
     "name": "stdout",
     "output_type": "stream",
     "text": [
      "Hyundai\n",
      "GT360\n",
      "volvo\n",
      "BMW\n",
      "ferrari\n",
      "BMW\n",
      "Maruti\n"
     ]
    }
   ],
   "source": [
    "for x in range(len(car00)): #1D array\n",
    "    print(car00[x])  "
   ]
  },
  {
   "cell_type": "markdown",
   "id": "ec6f55e8",
   "metadata": {},
   "source": [
    "Comprehensions in Python provide us with a short and concise way to construct new sequences (such as lists, set, dictionary etc.)"
   ]
  },
  {
   "cell_type": "code",
   "execution_count": 348,
   "id": "4869440c",
   "metadata": {},
   "outputs": [
    {
     "name": "stdout",
     "output_type": "stream",
     "text": [
      "Hyundai\n",
      "GT360\n",
      "volvo\n",
      "BMW\n",
      "ferrari\n",
      "BMW\n",
      "Maruti\n"
     ]
    }
   ],
   "source": [
    "a=[print(x) for x in car00]       #array comprehension #1D array"
   ]
  },
  {
   "cell_type": "code",
   "execution_count": 349,
   "id": "8bf58cb8",
   "metadata": {},
   "outputs": [
    {
     "name": "stdout",
     "output_type": "stream",
     "text": [
      "Hyundai\n",
      "GT360\n",
      "volvo\n",
      "ferrari\n",
      "Maruti\n"
     ]
    }
   ],
   "source": [
    "a2=[print(x)  for x in car00  if x !=\"BMW\" ]     #array  Comprehension"
   ]
  },
  {
   "cell_type": "code",
   "execution_count": 350,
   "id": "4781094c",
   "metadata": {
    "scrolled": true
   },
   "outputs": [
    {
     "name": "stdout",
     "output_type": "stream",
     "text": [
      "Hyundai\n",
      "ferrari\n",
      "Maruti\n"
     ]
    }
   ],
   "source": [
    "a3=[print(x)  for x in car00  if \"a\" in x]"
   ]
  },
  {
   "cell_type": "markdown",
   "id": "4b0baaf1",
   "metadata": {},
   "source": [
    "Looping through 2D array "
   ]
  },
  {
   "cell_type": "code",
   "execution_count": 351,
   "id": "33b348a2",
   "metadata": {},
   "outputs": [
    {
     "name": "stdout",
     "output_type": "stream",
     "text": [
      "1\n",
      "2\n",
      "3\n",
      "4\n",
      "5\n",
      "6\n"
     ]
    }
   ],
   "source": [
    "arr = np.array([[1, 2, 3], [4, 5, 6]])\n",
    "\n",
    "for x in arr:   \n",
    "    for y in x:print(y)"
   ]
  },
  {
   "cell_type": "code",
   "execution_count": 352,
   "id": "b3fec57f",
   "metadata": {},
   "outputs": [
    {
     "name": "stdout",
     "output_type": "stream",
     "text": [
      "[1 2 3]\n",
      "[4 5 6]\n"
     ]
    }
   ],
   "source": [
    "x=0\n",
    "while x<len(arr): #1D array\n",
    "    print(arr[x])\n",
    "    x=x+1"
   ]
  },
  {
   "cell_type": "markdown",
   "id": "b9daac9c",
   "metadata": {},
   "source": [
    "Looping through 3D array"
   ]
  },
  {
   "cell_type": "code",
   "execution_count": 353,
   "id": "eff406ea",
   "metadata": {},
   "outputs": [
    {
     "name": "stdout",
     "output_type": "stream",
     "text": [
      "[[1 2 3]\n",
      " [4 5 6]]\n",
      "[[ 7  8  9]\n",
      " [10 11 12]]\n"
     ]
    }
   ],
   "source": [
    "arr = np.array([[[1, 2, 3], [4, 5, 6]] , [[7, 8, 9], [10, 11, 12]]])\n",
    "for x in arr:\n",
    "  print(x)\n"
   ]
  },
  {
   "cell_type": "code",
   "execution_count": 354,
   "id": "c9a6a06c",
   "metadata": {},
   "outputs": [
    {
     "name": "stdout",
     "output_type": "stream",
     "text": [
      "1\n",
      "2\n",
      "3\n",
      "4\n",
      "5\n",
      "6\n",
      "7\n",
      "8\n",
      "9\n",
      "10\n",
      "11\n",
      "12\n"
     ]
    }
   ],
   "source": [
    "arr = np.array([[[1, 2, 3], [4, 5, 6]], [[7, 8, 9], [10, 11, 12]]])\n",
    "for x in arr:\n",
    "    for y in x:\n",
    "        for z in y:\n",
    "            print(z)\n",
    "#or\n",
    "#for x in np.nditer(arr):\n",
    "#  print(x)"
   ]
  },
  {
   "cell_type": "markdown",
   "id": "f6ca62f3",
   "metadata": {},
   "source": [
    "# Iterating Arrays Using np.nditer(array)\n"
   ]
  },
  {
   "cell_type": "code",
   "execution_count": 355,
   "id": "063ccfa2",
   "metadata": {},
   "outputs": [
    {
     "name": "stdout",
     "output_type": "stream",
     "text": [
      "1\n",
      "2\n",
      "3\n",
      "4\n"
     ]
    }
   ],
   "source": [
    "arr = np.array([1, 2,3,4])\n",
    "for x in np.nditer(arr):\n",
    "  print(x)"
   ]
  },
  {
   "cell_type": "code",
   "execution_count": 356,
   "id": "962cd6dc",
   "metadata": {},
   "outputs": [
    {
     "name": "stdout",
     "output_type": "stream",
     "text": [
      "1\n",
      "2\n",
      "3\n",
      "4\n",
      "x\n",
      "gs\n",
      "7\n",
      "8\n"
     ]
    }
   ],
   "source": [
    "arr = np.array([[[1, 2], [3, 4]], [[\"x\",\"gs\"], [7, 8]]])\n",
    "for x in np.nditer(arr):\n",
    "  print(x)"
   ]
  },
  {
   "cell_type": "markdown",
   "id": "1791cd40",
   "metadata": {},
   "source": [
    "# Enumerated Iteration Using np.ndenumerate(array)\n",
    "Enumeration means mentioning sequence number of somethings one by one.\\\n",
    "Sometimes we require corresponding index of the element while iterating, the ndenumerate() method can be used for those usecases.\n",
    "\n"
   ]
  },
  {
   "cell_type": "code",
   "execution_count": 357,
   "id": "440f835a",
   "metadata": {},
   "outputs": [
    {
     "name": "stdout",
     "output_type": "stream",
     "text": [
      "((0,), 1)\n",
      "((1,), 2)\n",
      "((2,), 3)\n"
     ]
    }
   ],
   "source": [
    "arr = np.array([1, 2, 3])\n",
    "for x in np.ndenumerate(arr):\n",
    "  print( x)\n"
   ]
  },
  {
   "cell_type": "code",
   "execution_count": 358,
   "id": "8c840379",
   "metadata": {},
   "outputs": [
    {
     "name": "stdout",
     "output_type": "stream",
     "text": [
      "((0, 0), 1)\n",
      "((0, 1), 2)\n",
      "((0, 2), 3)\n",
      "((0, 3), 4)\n",
      "((1, 0), 5)\n",
      "((1, 1), 6)\n",
      "((1, 2), 7)\n",
      "((1, 3), 8)\n"
     ]
    }
   ],
   "source": [
    "arr = np.array([[1, 2, 3, 4], [5, 6, 7, 8]])\n",
    "\n",
    "for x in np.ndenumerate(arr):\n",
    "  print( x)"
   ]
  },
  {
   "cell_type": "code",
   "execution_count": 359,
   "id": "72753022",
   "metadata": {},
   "outputs": [
    {
     "name": "stdout",
     "output_type": "stream",
     "text": [
      "(0, 0, 0) 1\n",
      "(0, 0, 1) 2\n",
      "(0, 0, 2) 3\n",
      "(0, 1, 0) 5\n",
      "(0, 1, 1) 6\n",
      "(0, 1, 2) 7\n",
      "(1, 0, 0) 10\n",
      "(1, 0, 1) 20\n",
      "(1, 0, 2) 30\n",
      "(1, 1, 0) 40\n",
      "(1, 1, 1) 50\n",
      "(1, 1, 2) 60\n"
     ]
    }
   ],
   "source": [
    "arr = np.array([ [[1, 2, 3], [5, 6, 7]], [[10,20,30] ,[40,50,60]] ])\n",
    "\n",
    "for  idx,x in np.ndenumerate(arr):\n",
    "  print(idx,x)"
   ]
  },
  {
   "cell_type": "code",
   "execution_count": 360,
   "id": "08cb8dae",
   "metadata": {},
   "outputs": [
    {
     "name": "stdout",
     "output_type": "stream",
     "text": [
      "((0, 0, 0), 1)\n",
      "((0, 0, 1), 2)\n",
      "((0, 0, 2), 3)\n",
      "((0, 1, 0), 5)\n",
      "((0, 1, 1), 6)\n",
      "((0, 1, 2), 7)\n",
      "((1, 0, 0), 10)\n",
      "((1, 0, 1), 20)\n",
      "((1, 0, 2), 30)\n",
      "((1, 1, 0), 40)\n",
      "((1, 1, 1), 50)\n",
      "((1, 1, 2), 60)\n"
     ]
    }
   ],
   "source": [
    "arr = np.array([ [[1, 2, 3], [5, 6, 7]], [[10,20,30] ,[40,50,60]] ])\n",
    "\n",
    "for  x in np.ndenumerate(arr):\n",
    "  print(x)"
   ]
  },
  {
   "cell_type": "markdown",
   "id": "6c93c815",
   "metadata": {},
   "source": [
    "# Dimensions in Arrays\n",
    "A dimension in arrays is one level of array depth (nested arrays)."
   ]
  },
  {
   "cell_type": "markdown",
   "id": "13504d16",
   "metadata": {},
   "source": [
    " 1)  0-D Arrays:\\\n",
    " 0-D arrays, or Scalars, are the elements in an array. Each value in an array is a 0-D array."
   ]
  },
  {
   "cell_type": "code",
   "execution_count": 361,
   "id": "81ead83b",
   "metadata": {},
   "outputs": [
    {
     "name": "stdout",
     "output_type": "stream",
     "text": [
      "42\n",
      "0\n",
      "***********\n",
      "[42  5  5]\n",
      "1\n"
     ]
    }
   ],
   "source": [
    "a0=np.array(42)\n",
    "print(a0)\n",
    "print(a0.ndim) #return the number of dimensions of an array\n",
    "print(\"***********\")\n",
    "a0=np.array((42,5,5))\n",
    "print(a0)\n",
    "print(a0.ndim) #return the number of dimensions of an array"
   ]
  },
  {
   "cell_type": "markdown",
   "id": "7c2e55c9",
   "metadata": {},
   "source": [
    "2) 1-D Arrays\\\n",
    "An array that has 0-D arrays as its elements is called uni-dimensional or 1-D array."
   ]
  },
  {
   "cell_type": "code",
   "execution_count": 362,
   "id": "226cb34c",
   "metadata": {},
   "outputs": [
    {
     "name": "stdout",
     "output_type": "stream",
     "text": [
      "[1 2 3 4 5]\n",
      "1\n"
     ]
    }
   ],
   "source": [
    "a1 = np.array([1, 2, 3, 4, 5])\n",
    "print(a1)\n",
    "print(a1.ndim) #return the number of dimensions of an array"
   ]
  },
  {
   "cell_type": "markdown",
   "id": "25e08331",
   "metadata": {},
   "source": [
    "3)2-D Arrays\\\n",
    "An array that has 1-D arrays as its elements is called a 2-D array.\n"
   ]
  },
  {
   "cell_type": "code",
   "execution_count": 363,
   "id": "555e7c89",
   "metadata": {},
   "outputs": [
    {
     "name": "stdout",
     "output_type": "stream",
     "text": [
      "[[1 2 3]\n",
      " [4 5 6]]\n",
      "2\n"
     ]
    }
   ],
   "source": [
    "a2 = np.array([ [1, 2, 3], [4, 5 ,6] ])\n",
    "print(a2)\n",
    "print(a2.ndim) #return the number of dimensions of an array"
   ]
  },
  {
   "cell_type": "markdown",
   "id": "b0b67b4d",
   "metadata": {},
   "source": [
    "4) 3-D arrays\\\n",
    "An array that has 2-D arrays (matrices) as its elements is called 3-D array"
   ]
  },
  {
   "cell_type": "code",
   "execution_count": 364,
   "id": "be4f0fad",
   "metadata": {},
   "outputs": [
    {
     "name": "stdout",
     "output_type": "stream",
     "text": [
      "[[[1 2 3 4 5 6]]]\n",
      "3\n"
     ]
    }
   ],
   "source": [
    "a3 = np.array( [[[1, 2, 3,4,5,6]]])\n",
    "print(a3)\n",
    "print(a3.ndim) #return the number of dimensions of an array"
   ]
  },
  {
   "cell_type": "code",
   "execution_count": 365,
   "id": "e32d8a34",
   "metadata": {
    "scrolled": true
   },
   "outputs": [
    {
     "name": "stdout",
     "output_type": "stream",
     "text": [
      "[[[1 2 3]\n",
      "  [4 5 6]]\n",
      "\n",
      " [[1 2 3]\n",
      "  [4 5 6]]]\n",
      "******\n",
      "3\n"
     ]
    }
   ],
   "source": [
    "a3 = np.array( [[[1, 2, 3], [4, 5, 6]]  ,  [[1, 2, 3], [4, 5, 6]]  ])\n",
    "print(a3)\n",
    "print('******')\n",
    "print(a3.ndim) #return the number of dimensions of an array"
   ]
  },
  {
   "cell_type": "markdown",
   "id": "6c678d43",
   "metadata": {},
   "source": [
    "Higher Dimensional Arrays\\\n",
    "An array can have any number of dimensions.\n",
    "\n",
    "\n",
    "ndmin: used to create an array of higher dimensions \\\n",
    "ndim : used to return the number of dimensions of an array"
   ]
  },
  {
   "cell_type": "code",
   "execution_count": 366,
   "id": "82c8db99",
   "metadata": {},
   "outputs": [
    {
     "name": "stdout",
     "output_type": "stream",
     "text": [
      "[[[[[[1 2 3 4]]]]]]\n",
      "6\n"
     ]
    }
   ],
   "source": [
    "ar0=np.array([1,2,3,4],ndmin=6) # ndmin\n",
    "print(ar0)\n",
    "print(ar0.ndim) #return the number of dimensions of an array"
   ]
  },
  {
   "cell_type": "markdown",
   "id": "be361f99",
   "metadata": {},
   "source": [
    "# Array Indexing\n",
    "\n",
    "Indexing: Indexing is used to obtain individual elements. \\\n",
    "Slicing: Slicing is used to obtain a sequence of elements."
   ]
  },
  {
   "cell_type": "code",
   "execution_count": 367,
   "id": "b0f6b65d",
   "metadata": {
    "scrolled": true
   },
   "outputs": [
    {
     "name": "stdout",
     "output_type": "stream",
     "text": [
      "['Hyundai' 'GT360' 'volvo' 'BMW' 'ferrari' 'BMW' 'Maruti']\n"
     ]
    }
   ],
   "source": [
    "print(car00)"
   ]
  },
  {
   "cell_type": "code",
   "execution_count": 368,
   "id": "e56087e9",
   "metadata": {},
   "outputs": [
    {
     "name": "stdout",
     "output_type": "stream",
     "text": [
      "Hyundai\n",
      "BMW\n",
      "6\n",
      "u\n",
      "3\n"
     ]
    }
   ],
   "source": [
    "print(car00[0])\n",
    "print(car00[-2]) #indexinng in negative start from -1\n",
    "print(car00[1][3]) #1D array\n",
    "print(car00[-1][-3]) #1D array\n",
    "print(car00[1][-3]) #1D array"
   ]
  },
  {
   "cell_type": "code",
   "execution_count": 369,
   "id": "c103a89b",
   "metadata": {},
   "outputs": [
    {
     "name": "stdout",
     "output_type": "stream",
     "text": [
      "2\n",
      "10\n",
      "9\n",
      "5\n"
     ]
    }
   ],
   "source": [
    "arr = np.array([[1,2,3,4,5], [6,7,8,9,10]]) #2D array [,]\n",
    "print( arr[0, 1])\n",
    "print( arr[1, -1])\n",
    "print( arr[-1, 3])\n",
    "print( arr[-2, -1])"
   ]
  },
  {
   "cell_type": "code",
   "execution_count": 370,
   "id": "736a7903",
   "metadata": {},
   "outputs": [
    {
     "name": "stdout",
     "output_type": "stream",
     "text": [
      "7\n",
      "2\n",
      "8\n",
      "10\n"
     ]
    }
   ],
   "source": [
    "arr = np.array([[1,2,3,4,5], [6,7,8,9,10]]) #2D array\n",
    "print( arr[1, 1]) \n",
    "print( arr[-2, 1]) \n",
    "print( arr[1, -3]) \n",
    "print( arr[-1, -1]) "
   ]
  },
  {
   "cell_type": "code",
   "execution_count": 371,
   "id": "e0b07436",
   "metadata": {},
   "outputs": [
    {
     "name": "stdout",
     "output_type": "stream",
     "text": [
      "6\n",
      "10\n",
      "11\n",
      "5\n",
      "2\n",
      "[[[1 2 3]\n",
      "  [4 5 6]]]\n"
     ]
    }
   ],
   "source": [
    "arr = np.array([ [[1, 2, 3], [4, 5, 6]] , [[7, 8, 9], [10, 11, 12]]  ])  #3D array [, ,]\n",
    "print(arr[0, 1, 2])\n",
    "print(arr[1, 1, 0]) \n",
    "print(arr[1, 1, -2]) \n",
    "print(arr[0, -1, -2]) \n",
    "print(arr[-2,-2, -2]) \n",
    "print(arr[0:1]) "
   ]
  },
  {
   "cell_type": "markdown",
   "id": "cdb18f2a",
   "metadata": {},
   "source": [
    "# Array Slicing\n",
    "array[start:end:step]\n",
    "\n",
    "With slicing, we can easily access elements in the array. It can be done on one or more dimensions of a NumPy array. Note: When we slice arrays, the start index is inclusive but the stop index is exclusive. In NumPy, it's possible to access the portion of an array using the slicing operator ' : '"
   ]
  },
  {
   "cell_type": "code",
   "execution_count": 372,
   "id": "8c39b1cc",
   "metadata": {},
   "outputs": [
    {
     "name": "stdout",
     "output_type": "stream",
     "text": [
      "[2 3 4 5]\n",
      "[5 6 7]\n",
      "[1 2 3 4]\n",
      "[5 6]\n",
      "[2 4]\n",
      "[1 3 5 7]\n"
     ]
    }
   ],
   "source": [
    "#              [0 ,1 ,2 ,3 ,4 ,5 ,6]\n",
    "#              [-7,-6,-5,-4,-3,-2-,-1]\n",
    "\n",
    "arr = np.array([1, 2, 3, 4, 5, 6, 7])\n",
    "print(arr[1:5])         #5 is not consider, n-1=5-1=4 so the indexing ends with 4\n",
    "print(arr[4:])\n",
    "print(arr[:4])\n",
    "print(arr[-3:-1])\n",
    "\n",
    "print(arr[1:5:2])  #with steps .5 is not considerd, n-1=5-1=4 so the indexing ends with 4\n",
    "print(arr[::2])"
   ]
  },
  {
   "cell_type": "code",
   "execution_count": 373,
   "id": "d581ce40",
   "metadata": {},
   "outputs": [
    {
     "name": "stdout",
     "output_type": "stream",
     "text": [
      "[7 8 9]\n",
      "**************\n",
      "[3 8]\n",
      "**************\n",
      "[[2 3 4]\n",
      " [7 8 9]]\n"
     ]
    }
   ],
   "source": [
    "#                 [   0        ,         1]\n",
    "#               [[0,1, 2, 3, 4], [0, 1, 2, 3, 4]]\n",
    "\n",
    "#                 [   -2       ,         -1]\n",
    "#             [[-5,-4,-3,-2-,-1],-5,-4,-3,-2-,-1]]\n",
    "\n",
    "arr = np.array([[1, 2, 3, 4, 5], [6, 7, 8, 9, 10]])\n",
    "print(arr[1, 1:4])    #4=4-1=3\n",
    "print(\"**************\")\n",
    "print(arr[0:2, 2]) # 2nd element from both indexs\n",
    "print(\"**************\")\n",
    "print(arr[0:2, 1:4]) #From both elements, slice index 1 to index 4 (not included)"
   ]
  },
  {
   "cell_type": "code",
   "execution_count": 374,
   "id": "27fb9646",
   "metadata": {},
   "outputs": [
    {
     "data": {
      "text/plain": [
       "array([[[ 1,  2,  3,  4],\n",
       "        [ 6,  7,  8,  9]],\n",
       "\n",
       "       [[10, 20, 30, 40],\n",
       "        [50, 60, 70, 80]]])"
      ]
     },
     "execution_count": 374,
     "metadata": {},
     "output_type": "execute_result"
    }
   ],
   "source": [
    "arr = np.array([ [[1, 2, 3, 4], [6, 7, 8, 9]] , [[10,20,30,40],[50,60,70,80]] ])\n",
    "arr"
   ]
  },
  {
   "cell_type": "code",
   "execution_count": 375,
   "id": "94627b5c",
   "metadata": {
    "scrolled": true
   },
   "outputs": [
    {
     "name": "stdout",
     "output_type": "stream",
     "text": [
      "[[50 60 70 80]]\n",
      "int32\n"
     ]
    }
   ],
   "source": [
    "print(arr[1,1:2])    # [array ,row,column]\n",
    "print(arr.dtype)"
   ]
  },
  {
   "cell_type": "code",
   "execution_count": 376,
   "id": "ced47dca",
   "metadata": {},
   "outputs": [
    {
     "name": "stdout",
     "output_type": "stream",
     "text": [
      "[[60]]\n",
      "int32\n"
     ]
    }
   ],
   "source": [
    "print(arr[1, 1:2,1:2])  # [array ,row,column]\n",
    "print(arr.dtype)"
   ]
  },
  {
   "cell_type": "code",
   "execution_count": 377,
   "id": "fca594ad",
   "metadata": {},
   "outputs": [
    {
     "name": "stdout",
     "output_type": "stream",
     "text": [
      "[[2 3]\n",
      " [7 8]]\n",
      "int32\n"
     ]
    }
   ],
   "source": [
    "print(arr[0, 0:2,1:3])    # [array ,row,column]\n",
    "print(arr.dtype)"
   ]
  },
  {
   "cell_type": "markdown",
   "id": "fcabac9d",
   "metadata": {},
   "source": [
    "# Arry DataType"
   ]
  },
  {
   "cell_type": "code",
   "execution_count": 378,
   "id": "72e5512b",
   "metadata": {},
   "outputs": [
    {
     "name": "stdout",
     "output_type": "stream",
     "text": [
      "[1 2 3 4 5]\n",
      "int32\n"
     ]
    }
   ],
   "source": [
    "a1 = np.array([1, 2, 3, 4, 5])\n",
    "print(a1)\n",
    "print(a1.dtype)"
   ]
  },
  {
   "cell_type": "markdown",
   "id": "23a63768",
   "metadata": {},
   "source": [
    "Create an array with data type string:\n"
   ]
  },
  {
   "cell_type": "code",
   "execution_count": 379,
   "id": "f6826e8a",
   "metadata": {},
   "outputs": [
    {
     "name": "stdout",
     "output_type": "stream",
     "text": [
      "[b'1' b'2' b'3' b'4']\n",
      "|S1\n"
     ]
    }
   ],
   "source": [
    "arr = np.array([1, 2, 3, 4], dtype=\"S\") #string\n",
    "print(arr)\n",
    "print(arr.dtype)"
   ]
  },
  {
   "cell_type": "markdown",
   "id": "5c1b38fa",
   "metadata": {},
   "source": [
    "Create an array with data type 4 bytes integer:"
   ]
  },
  {
   "cell_type": "code",
   "execution_count": 380,
   "id": "e29ecc88",
   "metadata": {},
   "outputs": [
    {
     "name": "stdout",
     "output_type": "stream",
     "text": [
      "[1 2 3 4]\n",
      "int32\n"
     ]
    }
   ],
   "source": [
    "arr = np.array([1, 2, 3, 4], dtype='i') #int\n",
    "print(arr)\n",
    "print(arr.dtype)"
   ]
  },
  {
   "cell_type": "code",
   "execution_count": 381,
   "id": "3fafa3f1",
   "metadata": {},
   "outputs": [
    {
     "name": "stdout",
     "output_type": "stream",
     "text": [
      "[1 2 3 4]\n",
      "int32\n"
     ]
    }
   ],
   "source": [
    "arr = np.array([1, 2, 3, 4], dtype='i4') #int with 4 byte\n",
    "print(arr)\n",
    "print(arr.dtype)"
   ]
  },
  {
   "cell_type": "code",
   "execution_count": 382,
   "id": "da525802",
   "metadata": {},
   "outputs": [],
   "source": [
    "#A non integer string like 'a' can not be converted to integer (will raise an error):\n",
    "#we convert integer array into string but cannot convert string into integer\n",
    "\n",
    "#arr = np.array(['a', '2', '3'], dtype='i')\n",
    "#print(arr.dtype)"
   ]
  },
  {
   "cell_type": "markdown",
   "id": "2089334d",
   "metadata": {},
   "source": [
    "Change data type from float to integer by using 'i' or \"int\" as parameter value:\n",
    "\n"
   ]
  },
  {
   "cell_type": "code",
   "execution_count": 383,
   "id": "861dbd3a",
   "metadata": {},
   "outputs": [
    {
     "name": "stdout",
     "output_type": "stream",
     "text": [
      "[1.1 2.1 3.1]\n",
      "float64\n",
      "[1 2 3]\n",
      "int32\n"
     ]
    }
   ],
   "source": [
    "arr = np.array([1.1, 2.1, 3.1])\n",
    "newarr = arr.astype('i') # or rr.astype('int')\n",
    "print(arr)\n",
    "print(arr.dtype)\n",
    "print(newarr)\n",
    "print(newarr.dtype)"
   ]
  },
  {
   "cell_type": "markdown",
   "id": "4081a649",
   "metadata": {},
   "source": [
    "Change data type from integer to boolean:\n"
   ]
  },
  {
   "cell_type": "code",
   "execution_count": 384,
   "id": "a502d4f3",
   "metadata": {},
   "outputs": [
    {
     "name": "stdout",
     "output_type": "stream",
     "text": [
      "[1.1 2.1 3.1]\n",
      "[ True  True  True]\n",
      "bool\n"
     ]
    }
   ],
   "source": [
    "print(arr)\n",
    "newarr = arr.astype(bool)\n",
    "print(newarr)\n",
    "print(newarr.dtype)"
   ]
  },
  {
   "cell_type": "markdown",
   "id": "c04a0c30",
   "metadata": {},
   "source": [
    "# copy() vs view()\n",
    "\n",
    "copy is a new array, and the view is just a view of the original array.\n",
    "\n",
    "The copy() owns the data and any changes made to the copy will not affect original array, and any changes made to the original array will not affect the copy.\n",
    "\n",
    "The view() does not own the data and any changes made to the view will affect the original array, and any changes made to the original array will affect the view."
   ]
  },
  {
   "cell_type": "code",
   "execution_count": 385,
   "id": "5425a9a3",
   "metadata": {},
   "outputs": [
    {
     "data": {
      "text/plain": [
       "array([1.1, 2.1, 3.1])"
      ]
     },
     "execution_count": 385,
     "metadata": {},
     "output_type": "execute_result"
    }
   ],
   "source": [
    "arr"
   ]
  },
  {
   "cell_type": "code",
   "execution_count": 386,
   "id": "3fb5270c",
   "metadata": {
    "scrolled": false
   },
   "outputs": [
    {
     "name": "stdout",
     "output_type": "stream",
     "text": [
      "original array : [42  2  3  4  5]\n",
      "x: [1 2 3 4 5]\n"
     ]
    }
   ],
   "source": [
    "arr = np.array([1, 2, 3, 4, 5]) #original array\n",
    "x=arr.copy()   # does not make change in original array\n",
    "arr[0] = 42\n",
    "print(\"original array :\",arr)\n",
    "print(\"x:\",x)"
   ]
  },
  {
   "cell_type": "code",
   "execution_count": 387,
   "id": "5c95b7f9",
   "metadata": {},
   "outputs": [
    {
     "name": "stdout",
     "output_type": "stream",
     "text": [
      "original array [1 2 3 4 5]\n",
      "original array after view() : [42  2  3  4  5]\n",
      "x : [42  2  3  4  5]\n"
     ]
    }
   ],
   "source": [
    "arr = np.array([1, 2, 3, 4, 5]) #original arrayarr\n",
    "print(\"original array\",arr)\n",
    "x=arr.view() #make change in original array\n",
    "arr[0] = 42\n",
    "print(\"original array after view() :\",arr)\n",
    "print(\"x :\",x)"
   ]
  },
  {
   "cell_type": "markdown",
   "id": "954ed8ef",
   "metadata": {},
   "source": [
    "Check if Array Owns its Data?\\\n",
    "Every NumPy array has the attribute base that returns None if the array owns the data."
   ]
  },
  {
   "cell_type": "code",
   "execution_count": 388,
   "id": "988f2000",
   "metadata": {},
   "outputs": [
    {
     "name": "stdout",
     "output_type": "stream",
     "text": [
      "None\n",
      "[1 2 3 4 5]\n"
     ]
    }
   ],
   "source": [
    "arr = np.array([1, 2, 3, 4, 5])\n",
    "\n",
    "x = arr.copy()\n",
    "y = arr.view() \n",
    "#None if the array owns the data.\n",
    "#return list if array does not own its own data\n",
    "\n",
    "print(x.base)\n",
    "print(y.base)"
   ]
  },
  {
   "cell_type": "markdown",
   "id": "66b23c74",
   "metadata": {},
   "source": [
    "# NumPy Array Shape:\n",
    "The shape of an array is the number of elements in each dimension.\\\n",
    "also return count of row and  columns  in dataframe "
   ]
  },
  {
   "cell_type": "code",
   "execution_count": 389,
   "id": "38ecf826",
   "metadata": {},
   "outputs": [
    {
     "name": "stdout",
     "output_type": "stream",
     "text": [
      "[[1 2 3 4]\n",
      " [5 6 7 8]]\n",
      "\n",
      " (2, 4)\n"
     ]
    }
   ],
   "source": [
    "arr = np.array([[1, 2, 3, 4], [5, 6, 7, 8]])\n",
    "print(arr)\n",
    "print(\"\\n\",arr.shape) #2 dimensions, with 4 elements"
   ]
  },
  {
   "cell_type": "code",
   "execution_count": 390,
   "id": "b54bb55f",
   "metadata": {
    "scrolled": true
   },
   "outputs": [
    {
     "name": "stdout",
     "output_type": "stream",
     "text": [
      "[[[[[1 2 3 4]]]]]\n",
      "5\n",
      "shape of array : (1, 1, 1, 1, 4)\n"
     ]
    }
   ],
   "source": [
    "arr = np.array([1, 2, 3, 4], ndmin=5) #ndmin\n",
    "print(arr)\n",
    "print(arr.ndim) # ndim\n",
    "print('shape of array :', arr.shape) # last dimension i.e 5th dimension with 4 element"
   ]
  },
  {
   "cell_type": "markdown",
   "id": "7e40a0df",
   "metadata": {},
   "source": [
    "# NumPy Array Reshaping\n",
    "Reshaping means changing the shape of an array.\\\n",
    "The shape of an array is the number of elements in each dimension.\\\n",
    "By reshaping we can add or remove dimensions or change number of elements in each dimension."
   ]
  },
  {
   "cell_type": "code",
   "execution_count": 391,
   "id": "ed23d0be",
   "metadata": {},
   "outputs": [
    {
     "name": "stdout",
     "output_type": "stream",
     "text": [
      "(12,)\n",
      "[[ 1  2  3]\n",
      " [ 4  5  6]\n",
      " [ 7  8  9]\n",
      " [10 11 12]]\n",
      "2\n"
     ]
    }
   ],
   "source": [
    "arr = np.array([1, 2, 3, 4, 5, 6, 7, 8, 9, 10, 11, 12])  #1D to 2D  array\n",
    "print(arr.shape)\n",
    "newarr = arr.reshape(4, 3) #an array that contain 4 arrays , each with 3 elements\n",
    "print(newarr)\n",
    "print(newarr.ndim)"
   ]
  },
  {
   "cell_type": "code",
   "execution_count": 392,
   "id": "58793158",
   "metadata": {},
   "outputs": [
    {
     "name": "stdout",
     "output_type": "stream",
     "text": [
      "[[[ 1  2]\n",
      "  [ 3  4]\n",
      "  [ 5  6]]\n",
      "\n",
      " [[ 7  8]\n",
      "  [ 9 10]\n",
      "  [11 12]]]\n"
     ]
    }
   ],
   "source": [
    "arr = np.array([1, 2, 3, 4, 5, 6, 7, 8, 9, 10, 11, 12])  #1D to 3D  array\n",
    "newarr = arr.reshape(2,3,2) #arrya that contain 2 arrays and that contains 3 arrays each, each with 2 elements  \n",
    "print(newarr)\n"
   ]
  },
  {
   "cell_type": "markdown",
   "id": "2eb4d367",
   "metadata": {},
   "source": [
    "Unknown Dimension\\\n",
    "You are allowed to have one \"unknown\" dimension.\\\n",
    "Pass -1 as the value, and NumPy will calculate this number for you."
   ]
  },
  {
   "cell_type": "code",
   "execution_count": 393,
   "id": "1a15fd34",
   "metadata": {},
   "outputs": [
    {
     "name": "stdout",
     "output_type": "stream",
     "text": [
      "[[[1 2]\n",
      "  [3 4]]\n",
      "\n",
      " [[5 6]\n",
      "  [7 8]]]\n",
      "Shape: (2, 2, 2)\n",
      "ndim: 3\n"
     ]
    }
   ],
   "source": [
    "arr = np.array([1, 2, 3, 4, 5, 6, 7, 8])\n",
    "newarr = arr.reshape(2, 2, -1)\n",
    "print(newarr)\n",
    "print(\"Shape:\",newarr.shape)\n",
    "print(\"ndim:\",newarr.ndim)"
   ]
  },
  {
   "cell_type": "code",
   "execution_count": 394,
   "id": "a4512136",
   "metadata": {},
   "outputs": [
    {
     "name": "stdout",
     "output_type": "stream",
     "text": [
      "[[[ 1  2  3]\n",
      "  [ 4  5  6]]\n",
      "\n",
      " [[ 7  8  9]\n",
      "  [10 11 12]]]\n"
     ]
    }
   ],
   "source": [
    "arr = np.array([1, 2, 3, 4, 5, 6, 7, 8,9,10,11,12])\n",
    "newarr = arr.reshape(2, 2, -1)\n",
    "print(newarr)"
   ]
  },
  {
   "cell_type": "code",
   "execution_count": 395,
   "id": "1676a747",
   "metadata": {},
   "outputs": [
    {
     "name": "stdout",
     "output_type": "stream",
     "text": [
      "[1 2 3 4 5 6]\n"
     ]
    }
   ],
   "source": [
    "#Convert the array into a 1D array:\n",
    "\n",
    "arr = np.array([[1, 2, 3], [4, 5, 6]])\n",
    "newarr = arr.reshape(-1)\n",
    "print(newarr)\n"
   ]
  },
  {
   "cell_type": "markdown",
   "id": "52f23d50",
   "metadata": {},
   "source": [
    "# Joining NumPy Arrays\n",
    "\n",
    "concatenate(),stack(),vstack(),hstack()"
   ]
  },
  {
   "cell_type": "code",
   "execution_count": 396,
   "id": "c645a47f",
   "metadata": {
    "scrolled": true
   },
   "outputs": [
    {
     "name": "stdout",
     "output_type": "stream",
     "text": [
      "[1 2 3 4 5 6]\n"
     ]
    }
   ],
   "source": [
    "arr1 = np.array([1, 2, 3])\n",
    "arr2 = np.array([4, 5, 6])\n",
    "arr = np.concatenate((arr1, arr2))\n",
    "print(arr)"
   ]
  },
  {
   "cell_type": "code",
   "execution_count": 397,
   "id": "8bceeb87",
   "metadata": {},
   "outputs": [
    {
     "name": "stdout",
     "output_type": "stream",
     "text": [
      "arr1:\n",
      " [[1 2]\n",
      " [3 4]]\n",
      "arr2:\n",
      " [[5 6]\n",
      " [7 8]]\n",
      "\n",
      "Output:\n",
      " [[1 2 5 6]\n",
      " [3 4 7 8]]\n"
     ]
    }
   ],
   "source": [
    "#Join two 2-D arrays along rows (axis=1):\n",
    "\n",
    "arr1 = np.array([[1, 2], [3, 4]])\n",
    "arr2 = np.array([[5, 6], [7, 8]])\n",
    "arr = np.concatenate((arr1, arr2), axis=1)\n",
    "print(\"arr1:\\n\",arr1)\n",
    "print(\"arr2:\\n\",arr2)\n",
    "print(\"\\nOutput:\\n\",arr)"
   ]
  },
  {
   "cell_type": "code",
   "execution_count": 398,
   "id": "9291a49c",
   "metadata": {},
   "outputs": [
    {
     "name": "stdout",
     "output_type": "stream",
     "text": [
      "arr1:\n",
      " [[1 2]\n",
      " [3 4]]\n",
      "arr2:\n",
      " [[5 6]\n",
      " [7 8]]\n",
      "\n",
      " Output:\n",
      " [[1 2]\n",
      " [3 4]\n",
      " [5 6]\n",
      " [7 8]]\n"
     ]
    }
   ],
   "source": [
    "#Join two 2-D arrays along col (axis=0):\n",
    "\n",
    "arr1 = np.array([[1, 2], [3, 4]])\n",
    "arr2 = np.array([[5, 6], [7, 8]])\n",
    "arr = np.concatenate((arr1, arr2), axis=0)\n",
    "print(\"arr1:\\n\",arr1)\n",
    "print(\"arr2:\\n\",arr2)\n",
    "print(\"\\n Output:\\n\",arr)"
   ]
  },
  {
   "cell_type": "code",
   "execution_count": 399,
   "id": "58de2632",
   "metadata": {},
   "outputs": [
    {
     "name": "stdout",
     "output_type": "stream",
     "text": [
      "[[1 2]\n",
      " [3 4]\n",
      " [5 6]\n",
      " [7 8]]\n"
     ]
    }
   ],
   "source": [
    "arr1 = np.array([[1, 2], [3, 4]])\n",
    "arr2 = np.array([[5, 6], [7, 8]])\n",
    "arr = np.concatenate((arr1, arr2))\n",
    "print(arr)"
   ]
  },
  {
   "cell_type": "code",
   "execution_count": 400,
   "id": "48ff65b0",
   "metadata": {},
   "outputs": [],
   "source": [
    "#using stack()"
   ]
  },
  {
   "cell_type": "code",
   "execution_count": 401,
   "id": "bc3f2e99",
   "metadata": {},
   "outputs": [
    {
     "name": "stdout",
     "output_type": "stream",
     "text": [
      "[[1 4]\n",
      " [2 5]\n",
      " [3 6]]\n"
     ]
    }
   ],
   "source": [
    "arr1 = np.array([1, 2, 3])\n",
    "arr2 = np.array([4, 5, 6])\n",
    "arr = np.stack((arr1, arr2), axis=1)\n",
    "print(arr)"
   ]
  },
  {
   "cell_type": "code",
   "execution_count": 402,
   "id": "2e62dd6c",
   "metadata": {},
   "outputs": [
    {
     "name": "stdout",
     "output_type": "stream",
     "text": [
      "[[1 2 3]\n",
      " [4 5 6]]\n"
     ]
    }
   ],
   "source": [
    "arr1 = np.array([1, 2, 3])\n",
    "arr2 = np.array([4, 5, 6])\n",
    "arr = np.stack((arr1, arr2))\n",
    "print(arr)"
   ]
  },
  {
   "cell_type": "markdown",
   "id": "587a6567",
   "metadata": {},
   "source": [
    "using hstack()\\\n",
    "hstack() to stack along rows.\n",
    "\n",
    "horizontal: _"
   ]
  },
  {
   "cell_type": "code",
   "execution_count": 403,
   "id": "4d4647b0",
   "metadata": {},
   "outputs": [
    {
     "name": "stdout",
     "output_type": "stream",
     "text": [
      "[1 2 3 4 5 6]\n"
     ]
    }
   ],
   "source": [
    "arr1 = np.array([1, 2, 3])\n",
    "arr2 = np.array([4, 5, 6])\n",
    "arr = np.hstack((arr1, arr2))\n",
    "print(arr)\n"
   ]
  },
  {
   "cell_type": "markdown",
   "id": "1cd42946",
   "metadata": {},
   "source": [
    "\n",
    "vstack()  to stack along columns\n",
    "vertical : |"
   ]
  },
  {
   "cell_type": "code",
   "execution_count": 404,
   "id": "cf2a6e9b",
   "metadata": {},
   "outputs": [
    {
     "name": "stdout",
     "output_type": "stream",
     "text": [
      "[[1 2 3]\n",
      " [4 5 6]]\n"
     ]
    }
   ],
   "source": [
    "arr1 = np.array([1, 2, 3])\n",
    "arr2 = np.array([4, 5, 6])\n",
    "arr = np.vstack((arr1, arr2))\n",
    "print(arr)"
   ]
  },
  {
   "cell_type": "markdown",
   "id": "90bd9235",
   "metadata": {},
   "source": [
    "dstack()\\\n",
    "dstack() to stack along height, which is the same as depth."
   ]
  },
  {
   "cell_type": "raw",
   "id": "f65825ab",
   "metadata": {},
   "source": []
  },
  {
   "cell_type": "code",
   "execution_count": 405,
   "id": "ed03924e",
   "metadata": {},
   "outputs": [
    {
     "name": "stdout",
     "output_type": "stream",
     "text": [
      "[[[1 4]\n",
      "  [2 5]\n",
      "  [3 6]]]\n"
     ]
    }
   ],
   "source": [
    "arr1 = np.array([1, 2, 3])\n",
    "arr2 = np.array([4, 5, 6])\n",
    "arr = np.dstack((arr1, arr2))\n",
    "print(arr)"
   ]
  },
  {
   "cell_type": "markdown",
   "id": "451612d7",
   "metadata": {},
   "source": [
    "# NumPy Splitting Array\n",
    "Splitting is reverse operation of Joining.\\\n",
    "We use array_split() for splitting arrays, we pass it the array we want to split and the number of splits.\\\n",
    "np.array_split(array,size)"
   ]
  },
  {
   "cell_type": "code",
   "execution_count": 406,
   "id": "2f6ee066",
   "metadata": {},
   "outputs": [
    {
     "name": "stdout",
     "output_type": "stream",
     "text": [
      "[array([1, 2]), array([3, 4]), array([5, 6])]\n",
      "[1 2]\n",
      "[3 4]\n",
      "[5 6]\n"
     ]
    }
   ],
   "source": [
    "arr = np.array([1, 2, 3, 4, 5, 6]) \n",
    "newarr=np.array_split(arr,3)\n",
    "print(newarr)\n",
    "\n",
    "print(newarr[0])\n",
    "print(newarr[1])\n",
    "print(newarr[2])"
   ]
  },
  {
   "cell_type": "code",
   "execution_count": 407,
   "id": "5153f716",
   "metadata": {},
   "outputs": [],
   "source": [
    "#2D array"
   ]
  },
  {
   "cell_type": "code",
   "execution_count": 408,
   "id": "2787e04c",
   "metadata": {},
   "outputs": [
    {
     "name": "stdout",
     "output_type": "stream",
     "text": [
      "[array([[1, 2],\n",
      "       [3, 4]]), array([[5, 6],\n",
      "       [7, 8]]), array([[ 9, 10],\n",
      "       [11, 12]])]\n"
     ]
    }
   ],
   "source": [
    "arr = np.array([[1, 2], [3, 4], [5, 6], [7, 8], [9, 10], [11, 12]])\n",
    "newarr = np.array_split(arr, 3)\n",
    "print(newarr)"
   ]
  },
  {
   "cell_type": "code",
   "execution_count": 409,
   "id": "776d7227",
   "metadata": {},
   "outputs": [
    {
     "name": "stdout",
     "output_type": "stream",
     "text": [
      "[[1 2]\n",
      " [3 4]] \n",
      "\n",
      "[[5 6]\n",
      " [7 8]] \n",
      "\n",
      "[[ 9 10]\n",
      " [11 12]] \n",
      "\n"
     ]
    }
   ],
   "source": [
    "print(newarr[0],\"\\n\")\n",
    "print(newarr[1],\"\\n\")\n",
    "print(newarr[2],\"\\n\")"
   ]
  },
  {
   "cell_type": "code",
   "execution_count": 410,
   "id": "faa34a33",
   "metadata": {},
   "outputs": [
    {
     "name": "stdout",
     "output_type": "stream",
     "text": [
      "[array([[ 1],\n",
      "       [ 4],\n",
      "       [ 7],\n",
      "       [10],\n",
      "       [13],\n",
      "       [16]]), array([[ 2],\n",
      "       [ 5],\n",
      "       [ 8],\n",
      "       [11],\n",
      "       [14],\n",
      "       [17]]), array([[ 3],\n",
      "       [ 6],\n",
      "       [ 9],\n",
      "       [12],\n",
      "       [15],\n",
      "       [18]])]\n"
     ]
    }
   ],
   "source": [
    "#Split the 2-D array into three 2-D arrays along rows.\n",
    "\n",
    "arr = np.array([[1, 2, 3], [4, 5, 6], [7, 8, 9], [10, 11, 12], [13, 14, 15], [16, 17, 18]])\n",
    "newarr = np.array_split(arr, 3, axis=1)\n",
    "print(newarr)"
   ]
  },
  {
   "cell_type": "code",
   "execution_count": 411,
   "id": "229397c4",
   "metadata": {},
   "outputs": [
    {
     "name": "stdout",
     "output_type": "stream",
     "text": [
      "[[ 3]\n",
      " [ 6]\n",
      " [ 9]\n",
      " [12]\n",
      " [15]\n",
      " [18]] \n",
      "\n"
     ]
    }
   ],
   "source": [
    "print(newarr[2],\"\\n\")"
   ]
  },
  {
   "cell_type": "markdown",
   "id": "6d87e9aa",
   "metadata": {},
   "source": [
    "# Searching Arrays\n",
    "used to selecting elements or values based on a conditoin, and return the indexes that get a match.\\\n",
    "where() : if condition is true return index \\\n",
    "syntax=np.where(condition,[if true],[if false ])\n",
    "\n",
    "searchsorted() : used to find the index where element should be inserted \\\n",
    "np.searchsorted(arr,valueToInsert,side='left',sorter=none) : used to find the indices where element should be inserted to maintain an order."
   ]
  },
  {
   "cell_type": "code",
   "execution_count": 412,
   "id": "f206aeee",
   "metadata": {},
   "outputs": [
    {
     "name": "stdout",
     "output_type": "stream",
     "text": [
      "(array([1], dtype=int64),)\n",
      "(array([], dtype=int64),)\n"
     ]
    }
   ],
   "source": [
    "arrsrh=np.array(['sss','aaa','Fef','ersg','afe'])\n",
    "\n",
    "x1=np.where(arrsrh=='aaa')\n",
    "print(x1)\n",
    "\n",
    "x1=np.where(arrsrh=='a')\n",
    "print(x1)"
   ]
  },
  {
   "cell_type": "code",
   "execution_count": 413,
   "id": "c0a589ba",
   "metadata": {},
   "outputs": [
    {
     "data": {
      "text/plain": [
       "array([ True, False, False, False, False])"
      ]
     },
     "execution_count": 413,
     "metadata": {},
     "output_type": "execute_result"
    }
   ],
   "source": [
    "y=np.where(arrsrh=='sss',True,False)\n",
    "y"
   ]
  },
  {
   "cell_type": "code",
   "execution_count": 414,
   "id": "9e130587",
   "metadata": {},
   "outputs": [
    {
     "name": "stdout",
     "output_type": "stream",
     "text": [
      "(array([3, 5, 6], dtype=int64),)\n"
     ]
    }
   ],
   "source": [
    "arr = np.array([1, 2, 3, 4, 5, 4, 4])\n",
    "x=np.where(arr==4) #index of value 4 , index starts from 0\n",
    "print(x)"
   ]
  },
  {
   "cell_type": "code",
   "execution_count": 415,
   "id": "513c6b48",
   "metadata": {},
   "outputs": [
    {
     "data": {
      "text/plain": [
       "array([ 5, 10, 15,  4,  5,  4,  4])"
      ]
     },
     "execution_count": 415,
     "metadata": {},
     "output_type": "execute_result"
    }
   ],
   "source": [
    "\"\"\"\n",
    "for x in arr:\n",
    "    if x>3 :\n",
    "        print(x)\n",
    "    else:\n",
    "        print(x*5) #or\n",
    "\"\"\"\n",
    "\n",
    "np.where(arr>3,arr,5*arr) #values that are >3 keep as it is else multiply*5   np.where(condition,true,false )"
   ]
  },
  {
   "cell_type": "code",
   "execution_count": 416,
   "id": "e42583c8",
   "metadata": {},
   "outputs": [
    {
     "name": "stdout",
     "output_type": "stream",
     "text": [
      "(array([], dtype=int64),)\n",
      "(array([0], dtype=int64),)\n",
      "present\n"
     ]
    }
   ],
   "source": [
    "l=[10,20,30,40,50,40]\n",
    "print(np.where(l==10))\n",
    "\n",
    "s=np.array(l)\n",
    "print(np.where(s==10))\n",
    "\n",
    "for x in l:\n",
    "    if x==10 :\n",
    "        print(\"present\")"
   ]
  },
  {
   "cell_type": "code",
   "execution_count": 417,
   "id": "a2f62bb7",
   "metadata": {},
   "outputs": [
    {
     "name": "stdout",
     "output_type": "stream",
     "text": [
      "(array([1, 3, 5, 6], dtype=int64),)\n",
      "(array([0, 2, 4], dtype=int64),)\n"
     ]
    }
   ],
   "source": [
    "\n",
    "x = np.where(arr%2 == 0)\n",
    "print(x)\n",
    "\n",
    "x1 = np.where(arr%2 == 1)\n",
    "print(x1)\n"
   ]
  },
  {
   "cell_type": "markdown",
   "id": "1592487e",
   "metadata": {},
   "source": [
    "np.searchsorted(arr,valueToInsert,side='left',sorter=none) : used to find the indices where element should be inserted to maintain an order."
   ]
  },
  {
   "cell_type": "code",
   "execution_count": 418,
   "id": "2f7ca631",
   "metadata": {},
   "outputs": [
    {
     "name": "stdout",
     "output_type": "stream",
     "text": [
      "7\n"
     ]
    }
   ],
   "source": [
    "arr = np.array([1, 2, 3, 4, 5, 4, 4])\n",
    "x = np.searchsorted(arr, 7) \n",
    "print(x)"
   ]
  },
  {
   "cell_type": "code",
   "execution_count": 419,
   "id": "49e7dc28",
   "metadata": {},
   "outputs": [
    {
     "name": "stdout",
     "output_type": "stream",
     "text": [
      "1\n"
     ]
    }
   ],
   "source": [
    "arr = np.array([2,6,7,8,9,1])\n",
    "x = np.searchsorted(arr,4) \n",
    "print(x)"
   ]
  },
  {
   "cell_type": "code",
   "execution_count": 420,
   "id": "56d6d6a4",
   "metadata": {},
   "outputs": [
    {
     "name": "stdout",
     "output_type": "stream",
     "text": [
      "0\n",
      "[5 0 0]\n",
      "[5 0 0 0 5]\n"
     ]
    }
   ],
   "source": [
    "arr = np.array([6,7,8,9,1])\n",
    "x = np.searchsorted(arr,1) \n",
    "print(x)\n",
    "y = np.searchsorted(arr,[10,-10,2],side='right') \n",
    "print(y)\n",
    "y1 = np.searchsorted(arr,[10,-10,2,3,40],side='left') \n",
    "print(y1)"
   ]
  },
  {
   "cell_type": "code",
   "execution_count": 421,
   "id": "be640b5d",
   "metadata": {},
   "outputs": [
    {
     "name": "stdout",
     "output_type": "stream",
     "text": [
      "2\n"
     ]
    }
   ],
   "source": [
    "#Find the indexes where the value 7 should be inserted, starting from the right:\n",
    "arr = np.array([6, 7, 8, 9])\n",
    "x = np.searchsorted(arr, 7,side='right') \n",
    "print(x)"
   ]
  },
  {
   "cell_type": "code",
   "execution_count": 422,
   "id": "4c24e356",
   "metadata": {},
   "outputs": [
    {
     "name": "stdout",
     "output_type": "stream",
     "text": [
      "[1 2 3]\n"
     ]
    }
   ],
   "source": [
    "# Find the indexes where the values 2, 4, and 6 should be inserted:\n",
    "\n",
    "arr = np.array([1, 3, 5, 7])\n",
    "x = np.searchsorted(arr, [2, 4, 6])\n",
    "print(x)"
   ]
  },
  {
   "cell_type": "code",
   "execution_count": 423,
   "id": "5789a1ca",
   "metadata": {},
   "outputs": [
    {
     "name": "stdout",
     "output_type": "stream",
     "text": [
      "[1 1 2]\n"
     ]
    }
   ],
   "source": [
    "arr = np.array([10, 55, 71])\n",
    "x = np.searchsorted(arr, [20, 44, 60])\n",
    "print(x)"
   ]
  },
  {
   "cell_type": "markdown",
   "id": "4f4302a3",
   "metadata": {},
   "source": [
    "# Sorting Arrays\n",
    "sort()"
   ]
  },
  {
   "cell_type": "code",
   "execution_count": 424,
   "id": "7235e891",
   "metadata": {},
   "outputs": [
    {
     "name": "stdout",
     "output_type": "stream",
     "text": [
      "[0 1 2 3]\n",
      "[3 2 1 0]\n"
     ]
    }
   ],
   "source": [
    "arr = np.array([3, 2, 0, 1])\n",
    "print(np.sort(arr)) #asc\n",
    "print(np.sort(arr)[::-1]) #desc"
   ]
  },
  {
   "cell_type": "code",
   "execution_count": 425,
   "id": "a226c794",
   "metadata": {},
   "outputs": [
    {
     "name": "stdout",
     "output_type": "stream",
     "text": [
      "[False  True  True]\n"
     ]
    }
   ],
   "source": [
    "arr = np.array([True, False, True]) #Sort a boolean array:\n",
    "print(np.sort(arr))\n"
   ]
  },
  {
   "cell_type": "code",
   "execution_count": 426,
   "id": "476d06b8",
   "metadata": {},
   "outputs": [
    {
     "name": "stdout",
     "output_type": "stream",
     "text": [
      "[[2 3 4]\n",
      " [0 1 5]]\n"
     ]
    }
   ],
   "source": [
    "arr = np.array([[3, 2, 4], [5, 0, 1]])\n",
    "print(np.sort(arr))"
   ]
  },
  {
   "cell_type": "markdown",
   "id": "35329a01",
   "metadata": {},
   "source": [
    "\n",
    "\n",
    "# Filtering Arrays\n",
    "Getting some elements out of an existing array and creating a new array out of them is called filtering.\n",
    "\n"
   ]
  },
  {
   "cell_type": "code",
   "execution_count": 427,
   "id": "ad40c624",
   "metadata": {},
   "outputs": [
    {
     "name": "stdout",
     "output_type": "stream",
     "text": [
      "[41 43]\n"
     ]
    }
   ],
   "source": [
    "arr = np.array([41, 42, 43, 44])\n",
    "x = [True, False, True, False]\n",
    "newarr = arr[x] #will only return true elements\n",
    "print(newarr)"
   ]
  },
  {
   "cell_type": "code",
   "execution_count": 428,
   "id": "89f08839",
   "metadata": {},
   "outputs": [
    {
     "name": "stdout",
     "output_type": "stream",
     "text": [
      "[False, False, True, True]\n",
      "[43 44]\n"
     ]
    }
   ],
   "source": [
    "arr = np.array([41, 42, 43, 44])\n",
    "filter_arr = []  # Create an empty list\n",
    "\n",
    "for element in arr:\n",
    "  if element > 42:\n",
    "    filter_arr.append(True)\n",
    "  else:\n",
    "    filter_arr.append(False)\n",
    "\n",
    "newarr = arr[filter_arr]\n",
    "\n",
    "print(filter_arr)\n",
    "print(newarr)"
   ]
  },
  {
   "cell_type": "code",
   "execution_count": 429,
   "id": "8f571fe3",
   "metadata": {},
   "outputs": [
    {
     "name": "stdout",
     "output_type": "stream",
     "text": [
      "[False, True, False, True]\n",
      "[42 44]\n"
     ]
    }
   ],
   "source": [
    "arr = np.array([41, 42, 43, 44])\n",
    "filter_arr = []  # Create an empty list\n",
    "\n",
    "for element in arr:\n",
    "  if element % 2 == 0:\n",
    "    filter_arr.append(True)\n",
    "  else:\n",
    "    filter_arr.append(False)\n",
    "\n",
    "newarr = arr[filter_arr]\n",
    "\n",
    "print(filter_arr)\n",
    "print(newarr)"
   ]
  },
  {
   "cell_type": "code",
   "execution_count": 430,
   "id": "557501bc",
   "metadata": {},
   "outputs": [
    {
     "name": "stdout",
     "output_type": "stream",
     "text": [
      "[False False  True  True]\n",
      "[43 44]\n"
     ]
    }
   ],
   "source": [
    "arr = np.array([41, 42, 43, 44])\n",
    "filter_arr = arr > 42\n",
    "newarr = arr[filter_arr]\n",
    "\n",
    "print(filter_arr)\n",
    "print(newarr)\n"
   ]
  },
  {
   "cell_type": "code",
   "execution_count": 431,
   "id": "a469a644",
   "metadata": {},
   "outputs": [
    {
     "name": "stdout",
     "output_type": "stream",
     "text": [
      "[False  True False  True]\n",
      "[42 44]\n"
     ]
    }
   ],
   "source": [
    "filter_arr = arr % 2 == 0\n",
    "\n",
    "newarr = arr[filter_arr]\n",
    "\n",
    "print(filter_arr)\n",
    "print(newarr)\n"
   ]
  },
  {
   "cell_type": "markdown",
   "id": "840da2a9",
   "metadata": {},
   "source": [
    "# Random Number\n",
    "\n",
    "from numpy import random\\\n",
    "random.randint(): random integer value \\\n",
    "random.rand():  random float value \\\n",
    "The choice() generate a random value from given array of value. takes array as parameter "
   ]
  },
  {
   "cell_type": "code",
   "execution_count": 432,
   "id": "081b82c7",
   "metadata": {
    "scrolled": true
   },
   "outputs": [
    {
     "data": {
      "text/plain": [
       "9"
      ]
     },
     "execution_count": 432,
     "metadata": {},
     "output_type": "execute_result"
    }
   ],
   "source": [
    "from numpy import random \n",
    "random.randint(100) # any random number from 1-100"
   ]
  },
  {
   "cell_type": "code",
   "execution_count": 433,
   "id": "a95015dd",
   "metadata": {},
   "outputs": [
    {
     "name": "stdout",
     "output_type": "stream",
     "text": [
      "[32  0 36 71  2]\n"
     ]
    }
   ],
   "source": [
    "x=random.randint(100, size=5) # 5 random integers.\n",
    "print(x)"
   ]
  },
  {
   "cell_type": "code",
   "execution_count": 434,
   "id": "c8ed9384",
   "metadata": {},
   "outputs": [
    {
     "name": "stdout",
     "output_type": "stream",
     "text": [
      "0.7584477651237047\n"
     ]
    }
   ],
   "source": [
    "x = random.rand()\n",
    "print(x)"
   ]
  },
  {
   "cell_type": "code",
   "execution_count": 435,
   "id": "8b9556c9",
   "metadata": {},
   "outputs": [
    {
     "name": "stdout",
     "output_type": "stream",
     "text": [
      "[0.24729868 0.40431227 0.9366944  0.80536597 0.35844045]\n"
     ]
    }
   ],
   "source": [
    "x = random.rand(5) # 5 random float no.\n",
    "print(x)"
   ]
  },
  {
   "cell_type": "code",
   "execution_count": 436,
   "id": "6fa66f47",
   "metadata": {},
   "outputs": [
    {
     "name": "stdout",
     "output_type": "stream",
     "text": [
      "8\n",
      "5.0\n"
     ]
    }
   ],
   "source": [
    "x=random.choice([1,5,6,8]) #a random element from your choice of an array\n",
    "print(x)\n",
    "x1=random.choice([1,5,6,8.5]) #a random element from your choice of an array\n",
    "print(x1)"
   ]
  },
  {
   "cell_type": "code",
   "execution_count": 437,
   "id": "6825156e",
   "metadata": {},
   "outputs": [
    {
     "data": {
      "text/plain": [
       "array([1, 5, 8])"
      ]
     },
     "execution_count": 437,
     "metadata": {},
     "output_type": "execute_result"
    }
   ],
   "source": [
    "x=random.choice([1,5,6,8],size=3) # 3random element from your  an array\n",
    "x"
   ]
  },
  {
   "cell_type": "code",
   "execution_count": 438,
   "id": "5bc5d793",
   "metadata": {},
   "outputs": [
    {
     "name": "stdout",
     "output_type": "stream",
     "text": [
      "[[7 5 5 7 5]\n",
      " [9 7 5 3 3]\n",
      " [5 7 9 9 5]]\n"
     ]
    }
   ],
   "source": [
    "x = random.choice([3, 5, 7, 9], size=(3, 5)) # an array that contains 3 array of 5 elements\n",
    "print(x)"
   ]
  },
  {
   "cell_type": "markdown",
   "id": "449e67f1",
   "metadata": {},
   "source": [
    "# Random Permutations\n",
    "shuffle():A permutation refers to an arrangement of elements.method makes changes to the original array.\\\n",
    "permutation():A permutation refers to an arrangement of elements.leaves the original array un-changed"
   ]
  },
  {
   "cell_type": "code",
   "execution_count": 439,
   "id": "2205731a",
   "metadata": {},
   "outputs": [
    {
     "name": "stdout",
     "output_type": "stream",
     "text": [
      "Original Array before shuffle: [1 2 3 4 5]\n",
      "x: None\n",
      "Original Array after shuffle: [1 4 2 3 5]\n"
     ]
    }
   ],
   "source": [
    "arr = np.array([1, 2, 3, 4, 5])\n",
    "#x= random.shuffle(arr)\n",
    "print(\"Original Array before shuffle:\",arr)\n",
    "print(\"x:\",random.shuffle(arr))\n",
    "print(\"Original Array after shuffle:\",arr)"
   ]
  },
  {
   "cell_type": "code",
   "execution_count": 440,
   "id": "4cdd4be6",
   "metadata": {},
   "outputs": [
    {
     "name": "stdout",
     "output_type": "stream",
     "text": [
      "Original before shuffle: [1 4 5 2 3]\n",
      "x: [3 5 2 4 1]\n",
      "Original Array after shuffle: [1 4 5 2 3]\n"
     ]
    }
   ],
   "source": [
    "arr = np.array([1, 4, 5,2,3])\n",
    "print(\"Original before shuffle:\",arr)\n",
    "x=random.permutation(arr)\n",
    "print(\"x:\",x)\n",
    "print(\"Original Array after shuffle:\",arr)"
   ]
  },
  {
   "cell_type": "markdown",
   "id": "b7692405",
   "metadata": {},
   "source": [
    "# Finding LCM\n",
    "NumPy LCM Lowest Common Multiple: np.lcm()"
   ]
  },
  {
   "cell_type": "code",
   "execution_count": 441,
   "id": "c86ef40b",
   "metadata": {},
   "outputs": [
    {
     "name": "stdout",
     "output_type": "stream",
     "text": [
      "12\n"
     ]
    }
   ],
   "source": [
    "import numpy as np\n",
    "\"\"\"\n",
    " 2| 4  6\n",
    " 2| 2  3     ====> 2*2*3=12\n",
    " 3| 1  3\n",
    "  | 1  1\n",
    "\"\"\"    \n",
    "num1 = 4\n",
    "num2 = 6\n",
    "\n",
    "x = np.lcm(num1, num2)\n",
    "\n",
    "print(x)"
   ]
  },
  {
   "cell_type": "markdown",
   "id": "ffca3006",
   "metadata": {},
   "source": [
    "# NumPy GCD Greatest Common Denominator\n",
    "np.gcd(): Greatest Common Denominator\\\n",
    "np.gcd.reduce():Highest Common Factor (hcf)"
   ]
  },
  {
   "cell_type": "code",
   "execution_count": 442,
   "id": "ef8d7ea3",
   "metadata": {},
   "outputs": [
    {
     "name": "stdout",
     "output_type": "stream",
     "text": [
      "6\n"
     ]
    }
   ],
   "source": [
    "\"\"\"\n",
    "2|12   2| 42 \n",
    "2|6    3|21    ====>common Divisor=3*2=6\n",
    "3|3    7|7 \n",
    " |1     |1\n",
    "\n",
    "\"\"\"\n",
    "num1 = 12\n",
    "num2 = 42\n",
    "x = np.gcd(num1, num2) #To find the greatest/Highest Common Factor(hcf) , you can use the reduce() method.\n",
    "print(x)\n"
   ]
  },
  {
   "cell_type": "code",
   "execution_count": 443,
   "id": "1cedd18f",
   "metadata": {},
   "outputs": [
    {
     "name": "stdout",
     "output_type": "stream",
     "text": [
      "6\n"
     ]
    }
   ],
   "source": [
    "#or\n",
    "arr = np.array([12,42])\n",
    "x = np.gcd.reduce(arr)  #To find the greatest/Highest Common Factor(hcf) of all values in an array, you can use the reduce() method.\n",
    "print(x)"
   ]
  },
  {
   "cell_type": "code",
   "execution_count": 444,
   "id": "ca897a5b",
   "metadata": {
    "scrolled": true
   },
   "outputs": [
    {
     "name": "stdout",
     "output_type": "stream",
     "text": [
      "4\n",
      "[2 4]\n"
     ]
    }
   ],
   "source": [
    "arr = np.array([20, 8, 32, 36, 12])\n",
    "x = np.gcd.reduce(arr) #To find the Highest Common Factor(hcf) , you can use the reduce() method.\n",
    "print(x)\n",
    "y= np.gcd([20, 8],[18,36]) #To find the Highest Common Factor(hcf) , you can use the reduce() method.\n",
    "print(y)"
   ]
  },
  {
   "cell_type": "code",
   "execution_count": 445,
   "id": "a12a256c",
   "metadata": {},
   "outputs": [
    {
     "name": "stdout",
     "output_type": "stream",
     "text": [
      "1\n"
     ]
    }
   ],
   "source": [
    "arr = np.array([20, 8, 32, 36, 11])\n",
    "x = np.gcd.reduce(arr) #To find the Highest Common Factor(hcf) , you can use the reduce() method.\n",
    "print(x)"
   ]
  },
  {
   "cell_type": "markdown",
   "id": "7a89934b",
   "metadata": {},
   "source": [
    "# Simple Arithmetic\n",
    "add(),subtract(),multiply(),divide(),power(),mod(),remainder(),\n",
    "absolute(),prod(),\\\n",
    "all functions takes 2 or 3 arguments"
   ]
  },
  {
   "cell_type": "code",
   "execution_count": 446,
   "id": "caa31607",
   "metadata": {},
   "outputs": [
    {
     "data": {
      "text/plain": [
       "15"
      ]
     },
     "execution_count": 446,
     "metadata": {},
     "output_type": "execute_result"
    }
   ],
   "source": [
    "np.add(10, 5)"
   ]
  },
  {
   "cell_type": "code",
   "execution_count": 447,
   "id": "f2a071cd",
   "metadata": {},
   "outputs": [],
   "source": [
    "arr1 = np.array([10, 11, 12, 13, 14, 15]) \n",
    "arr2 = np.array([20, 21, 22, 23, 24, 25])"
   ]
  },
  {
   "cell_type": "code",
   "execution_count": 448,
   "id": "a7eb5b2f",
   "metadata": {},
   "outputs": [
    {
     "name": "stdout",
     "output_type": "stream",
     "text": [
      "[30 32 34 36 38 40]\n"
     ]
    }
   ],
   "source": [
    "newarr = np.add(arr1, arr2)\n",
    "print(newarr)"
   ]
  },
  {
   "cell_type": "code",
   "execution_count": 449,
   "id": "a8e381aa",
   "metadata": {},
   "outputs": [
    {
     "name": "stdout",
     "output_type": "stream",
     "text": [
      "5\n",
      "[-10 -10 -10 -10 -10 -10]\n"
     ]
    }
   ],
   "source": [
    "print(np.subtract(10, 5))\n",
    "newarr = np.subtract(arr1, arr2)\n",
    "print(newarr)"
   ]
  },
  {
   "cell_type": "code",
   "execution_count": 450,
   "id": "47bed7bc",
   "metadata": {},
   "outputs": [
    {
     "name": "stdout",
     "output_type": "stream",
     "text": [
      "[200 231 264 299 336 375]\n"
     ]
    }
   ],
   "source": [
    "newarr = np.multiply(arr1, arr2)\n",
    "print(newarr)"
   ]
  },
  {
   "cell_type": "code",
   "execution_count": 451,
   "id": "badc7f5b",
   "metadata": {},
   "outputs": [
    {
     "name": "stdout",
     "output_type": "stream",
     "text": [
      "[10 11 12 13 14 15]\n",
      "[20 21 22 23 24 25]\n"
     ]
    }
   ],
   "source": [
    "print(arr1 )\n",
    "print(arr2)"
   ]
  },
  {
   "cell_type": "code",
   "execution_count": 452,
   "id": "064c71f6",
   "metadata": {},
   "outputs": [
    {
     "name": "stdout",
     "output_type": "stream",
     "text": [
      "[0.5        0.52380952 0.54545455 0.56521739 0.58333333 0.6       ]\n",
      "[2.         1.90909091 1.83333333 1.76923077 1.71428571 1.66666667]\n",
      "**************************\n",
      "0.0\n",
      "inf\n"
     ]
    },
    {
     "name": "stderr",
     "output_type": "stream",
     "text": [
      "C:\\Users\\pujad\\AppData\\Local\\Temp\\ipykernel_22912\\3150279859.py:10: RuntimeWarning: divide by zero encountered in true_divide\n",
      "  newarr = np.divide(10, 0) #divide by zero warning\n"
     ]
    }
   ],
   "source": [
    "newarr = np.divide(arr1, arr2)\n",
    "print(newarr)\n",
    "\n",
    "newarr = np.divide(arr2, arr1)\n",
    "print(newarr)\n",
    "print(\"**************************\")\n",
    "newarr = np.divide(0, 10) #0\n",
    "print(newarr)\n",
    "\n",
    "newarr = np.divide(10, 0) #divide by zero warning\n",
    "print(newarr)"
   ]
  },
  {
   "cell_type": "code",
   "execution_count": 453,
   "id": "cfa460b8",
   "metadata": {},
   "outputs": [
    {
     "name": "stdout",
     "output_type": "stream",
     "text": [
      "[      1000    3200000  729000000 -520093696       2500          0]\n",
      "pow(20,5):: 3200000\n"
     ]
    }
   ],
   "source": [
    " #function rises the values from the first array to the power of the values of the second array,\n",
    "    #and return the results in a new array.\n",
    "arr1 = np.array([10, 20, 30, 40, 50, 60])\n",
    "arr2 = np.array([3, 5, 6, 8, 2, 33])\n",
    "newarr = np.power(arr1, arr2)\n",
    "print(newarr)\n",
    "print(\"pow(20,5)::\",pow(20,5))"
   ]
  },
  {
   "cell_type": "code",
   "execution_count": 454,
   "id": "9bde6b82",
   "metadata": {},
   "outputs": [
    {
     "data": {
      "text/plain": [
       "(1000, 3200000)"
      ]
     },
     "execution_count": 454,
     "metadata": {},
     "output_type": "execute_result"
    }
   ],
   "source": [
    "10**3,  20**5"
   ]
  },
  {
   "cell_type": "markdown",
   "id": "304b05c9",
   "metadata": {},
   "source": [
    "Both the mod() and the remainder() functions return the remainder of the values in\n",
    "the first array corresponding to the values in the second array"
   ]
  },
  {
   "cell_type": "code",
   "execution_count": 455,
   "id": "7f1ea621",
   "metadata": {},
   "outputs": [],
   "source": [
    "arr1 = np.array([10, 20, 30, 40, 50, 60])\n",
    "arr2 = np.array([3, 7, 9, 8, 2, 33])"
   ]
  },
  {
   "cell_type": "code",
   "execution_count": 456,
   "id": "ac057382",
   "metadata": {},
   "outputs": [
    {
     "name": "stdout",
     "output_type": "stream",
     "text": [
      "[ 1  6  3  0  0 27]\n"
     ]
    }
   ],
   "source": [
    "newarr = np.mod(arr1, arr2) #remainder \n",
    "print(newarr)"
   ]
  },
  {
   "cell_type": "code",
   "execution_count": 457,
   "id": "312c84c9",
   "metadata": {},
   "outputs": [
    {
     "name": "stdout",
     "output_type": "stream",
     "text": [
      "[ 1  6  3  0  0 27]\n"
     ]
    }
   ],
   "source": [
    "newarr = np.remainder(arr1, arr2) #remainder \n",
    "print(newarr)"
   ]
  },
  {
   "cell_type": "code",
   "execution_count": 458,
   "id": "cf6818a8",
   "metadata": {},
   "outputs": [
    {
     "name": "stdout",
     "output_type": "stream",
     "text": [
      "(array([ 3,  2,  3,  5, 25,  1], dtype=int32), array([ 1,  6,  3,  0,  0, 27], dtype=int32))\n"
     ]
    }
   ],
   "source": [
    "newarr = np.divmod(arr1, arr2)# Return the quotient and mod(mod=reminder):\n",
    "print(newarr) "
   ]
  },
  {
   "cell_type": "code",
   "execution_count": 459,
   "id": "4f6a92a2",
   "metadata": {},
   "outputs": [
    {
     "name": "stdout",
     "output_type": "stream",
     "text": [
      "[1 2 1 2 3 4]\n"
     ]
    }
   ],
   "source": [
    "arr = np.array([-1, -2, 1, 2, 3, -4])\n",
    "newarr = np.absolute(arr) #-ve into +\n",
    "print(newarr)"
   ]
  },
  {
   "cell_type": "code",
   "execution_count": 460,
   "id": "e7120aab",
   "metadata": {},
   "outputs": [
    {
     "name": "stdout",
     "output_type": "stream",
     "text": [
      "[1 2 1 2 3 4]\n"
     ]
    }
   ],
   "source": [
    "arr = np.array([-1, -2, 1, 2, 3, -4])\n",
    "newarr = np.absolute(arr)\n",
    "print(newarr)"
   ]
  },
  {
   "cell_type": "code",
   "execution_count": 461,
   "id": "1a4be05a",
   "metadata": {},
   "outputs": [
    {
     "name": "stdout",
     "output_type": "stream",
     "text": [
      "24\n"
     ]
    }
   ],
   "source": [
    "#Returns: 24 because 1*2*3*4 = 24\n",
    "arr = np.array([1, 2, 3, 4]) #multiply all values\n",
    "x = np.prod(arr) #product of all the elements\n",
    "print(x)"
   ]
  },
  {
   "cell_type": "code",
   "execution_count": 462,
   "id": "e116833b",
   "metadata": {},
   "outputs": [
    {
     "name": "stdout",
     "output_type": "stream",
     "text": [
      "40320\n"
     ]
    }
   ],
   "source": [
    "arr1 = np.array([1, 2, 3, 4])\n",
    "arr2 = np.array([5, 6, 7, 8])\n",
    "\n",
    "x = np.prod([arr1, arr2]) #product of all the elements\n",
    "\n",
    "print(x)"
   ]
  },
  {
   "cell_type": "code",
   "execution_count": 463,
   "id": "30606ebf",
   "metadata": {},
   "outputs": [
    {
     "data": {
      "text/plain": [
       "40320"
      ]
     },
     "execution_count": 463,
     "metadata": {},
     "output_type": "execute_result"
    }
   ],
   "source": [
    "1*2*3*4*5*6*7*8"
   ]
  },
  {
   "cell_type": "markdown",
   "id": "cca87e27",
   "metadata": {},
   "source": [
    "\n",
    "\n",
    "# NumPy Differences: diff()\n",
    "\n",
    "A discrete difference means subtracting two successive elements.\n",
    "E.g. for [1, 2, 3, 4], the discrete difference would be [2-1, 3-2, 4-3] = [1, 1, 1]"
   ]
  },
  {
   "cell_type": "code",
   "execution_count": 464,
   "id": "7eeabfc9",
   "metadata": {},
   "outputs": [
    {
     "data": {
      "text/plain": [
       "array([  5,  10, -20])"
      ]
     },
     "execution_count": 464,
     "metadata": {},
     "output_type": "execute_result"
    }
   ],
   "source": [
    "arr = np.array([10, 15, 25, 5])\n",
    "newarr = np.diff(arr)\n",
    "newarr #Returns: [5 10 -20] because 15-10=5, 25-15=10, and 5-25=-20"
   ]
  },
  {
   "cell_type": "code",
   "execution_count": null,
   "id": "be30f855",
   "metadata": {},
   "outputs": [],
   "source": []
  }
 ],
 "metadata": {
  "kernelspec": {
   "display_name": "Python 3 (ipykernel)",
   "language": "python",
   "name": "python3"
  },
  "language_info": {
   "codemirror_mode": {
    "name": "ipython",
    "version": 3
   },
   "file_extension": ".py",
   "mimetype": "text/x-python",
   "name": "python",
   "nbconvert_exporter": "python",
   "pygments_lexer": "ipython3",
   "version": "3.9.13"
  }
 },
 "nbformat": 4,
 "nbformat_minor": 5
}
