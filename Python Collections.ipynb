{
 "cells": [
  {
   "cell_type": "code",
   "execution_count": 1,
   "id": "02fc6aef",
   "metadata": {},
   "outputs": [],
   "source": [
    "import numpy as np"
   ]
  },
  {
   "cell_type": "markdown",
   "id": "2c13bb26",
   "metadata": {},
   "source": [
    "# High order or powerful fuctions of Python:\n",
    "    \n",
    "1)MAP():  It accepts another Function & sequence of iterable as parameter and provide o/p after applying fuction to each iterables\\\n",
    "2)FILTER():  Generate list of values that return true when fuction is called\\\n",
    "3)REDUCE(): accepts another Function & sequence of iterable as parameter and provide single value as output...."
   ]
  },
  {
   "cell_type": "code",
   "execution_count": 2,
   "id": "62ce7c5a",
   "metadata": {},
   "outputs": [
    {
     "name": "stdout",
     "output_type": "stream",
     "text": [
      "Map: (5, 7, 8, 9)\n",
      "Filter : (4, 5, 6)\n",
      "Reduce: 17\n"
     ]
    }
   ],
   "source": [
    "#Ex\n",
    "a=[2,4,5,6]\n",
    "m=map(lambda x:x+3,a)\n",
    "print(\"Map:\",tuple(m))\n",
    "\n",
    "f=filter(lambda x:x>3,a)\n",
    "print(\"Filter :\",tuple(f))\n",
    "\n",
    "from functools import reduce\n",
    "r=reduce(lambda x,y : x+y ,a)\n",
    "print(\"Reduce:\",r)"
   ]
  },
  {
   "cell_type": "markdown",
   "id": "c3fe3862",
   "metadata": {},
   "source": [
    "# Array vs List:\n",
    "Array contain same type of values(Homogeneous) \\\n",
    "List contains different types of values(Hetrogeneous)\n"
   ]
  },
  {
   "cell_type": "code",
   "execution_count": 3,
   "id": "4e9c152f",
   "metadata": {},
   "outputs": [
    {
     "name": "stdout",
     "output_type": "stream",
     "text": [
      "list: [[1, 2, 3], [4, 5]]\n",
      "array: [list([1, 2, 3]) list([4, 5])]\n"
     ]
    },
    {
     "name": "stderr",
     "output_type": "stream",
     "text": [
      "C:\\Users\\pujad\\AppData\\Local\\Temp\\ipykernel_14296\\3833544493.py:4: VisibleDeprecationWarning: Creating an ndarray from ragged nested sequences (which is a list-or-tuple of lists-or-tuples-or ndarrays with different lengths or shapes) is deprecated. If you meant to do this, you must specify 'dtype=object' when creating the ndarray.\n",
      "  arr=np.array([[1,2,3],[4,5]])\n"
     ]
    }
   ],
   "source": [
    "# Array cannot accepts different type of rows and col. list contain of different size of row and col\n",
    "l=[[1,2,3],[4,5]]\n",
    "print(\"list:\",l)\n",
    "\n",
    "arr=np.array([[1,2,3],[4,5]])\n",
    "print(\"array:\",arr)"
   ]
  },
  {
   "cell_type": "code",
   "execution_count": 4,
   "id": "b6ba5b8a",
   "metadata": {},
   "outputs": [
    {
     "name": "stdout",
     "output_type": "stream",
     "text": [
      "Array: [2 4 6 8]\n",
      "List: [1, 2, 3, 4, 1, 2, 3, 4]\n"
     ]
    }
   ],
   "source": [
    "#Array con direclty handles mathematical operations. List cannot hadle mathematical operations directly.\n",
    "a=np.array([1,2,3,4])\n",
    "l=[1,2,3,4]\n",
    "print(\"Array:\",a*2)\n",
    "print(\"List:\",l*2)"
   ]
  },
  {
   "cell_type": "markdown",
   "id": "bbfb4d72",
   "metadata": {},
   "source": [
    "# Python Collection: \n",
    "are used to store multiple values in single variable\n",
    "    list: [], tuples: (), set:{},dictionary:{:}"
   ]
  },
  {
   "cell_type": "markdown",
   "id": "deb4b927",
   "metadata": {},
   "source": [
    "# 1) List: \n",
    "represented using [] \\\n",
    "List can contain different types of values\\\n",
    "ordered , mutable ,Allows duplicates\\\n",
    "allows Slicing\\\n",
    "List can have more than 1 null values\\\n",
    "Functions: insert(),append(),extend(),pop(),clear(),remove(),copy(),index(),count(),reverse(),sort()"
   ]
  },
  {
   "cell_type": "code",
   "execution_count": 7,
   "id": "78d86c86",
   "metadata": {},
   "outputs": [
    {
     "name": "stdout",
     "output_type": "stream",
     "text": [
      "[1, 2, 4, 'aaa', 'bbb', '', '', 'vvv', '']\n",
      "<class 'list'>\n"
     ]
    }
   ],
   "source": [
    "listnull=[1,2,4,'aaa','bbb','','','vvv','']\n",
    "print(listnull)\n",
    "print(type(listnull))"
   ]
  },
  {
   "cell_type": "code",
   "execution_count": 8,
   "id": "5272dd14",
   "metadata": {
    "scrolled": true
   },
   "outputs": [
    {
     "name": "stdout",
     "output_type": "stream",
     "text": [
      "['apples', 'banana', 'cherry', 10, True, 10.5]\n",
      "apples\n",
      "<class 'list'>\n",
      "a\n"
     ]
    }
   ],
   "source": [
    "list=['apples','banana','cherry',10,True,10.5]\n",
    "print(list)\n",
    "print(list[0])\n",
    "print(type(list))\n",
    "print(list[0][0])"
   ]
  },
  {
   "cell_type": "code",
   "execution_count": 9,
   "id": "dac2c45d",
   "metadata": {},
   "outputs": [
    {
     "name": "stdout",
     "output_type": "stream",
     "text": [
      "['Grapes', 'banana', 'cherry', 10, True, 10.5]\n",
      "['apple', 'BaNANA', 'banana', 'cherry', 10, True, 10.5]\n",
      "['apple', 'Banana', 'BaNANA', 'banana', 'cherry', 10, True, 10.5]\n"
     ]
    }
   ],
   "source": [
    "#list are mutable: can make change in list\n",
    "list[0]=\"Grapes\"\n",
    "print(list)\n",
    "list[0:1]=[\"apple\",\"BaNANA\"]\n",
    "print(list)\n",
    "list[0:1]=[\"apple\",\"Banana\"]\n",
    "print(list)\n"
   ]
  },
  {
   "cell_type": "code",
   "execution_count": 229,
   "id": "6650ff18",
   "metadata": {},
   "outputs": [],
   "source": [
    "list=['apples','banana','cherry']"
   ]
  },
  {
   "cell_type": "code",
   "execution_count": 230,
   "id": "edabc82f",
   "metadata": {
    "scrolled": true
   },
   "outputs": [
    {
     "name": "stdout",
     "output_type": "stream",
     "text": [
      "['apples', 'banana', 'cherry', 'Orange']\n"
     ]
    }
   ],
   "source": [
    "list.append(\"Orange\") #add item at the end of list\n",
    "print(list)"
   ]
  },
  {
   "cell_type": "code",
   "execution_count": 231,
   "id": "cae5b235",
   "metadata": {},
   "outputs": [
    {
     "name": "stdout",
     "output_type": "stream",
     "text": [
      "['apples', 'banana', 'cherry', 'Orange', 'papaya']\n"
     ]
    }
   ],
   "source": [
    "list.insert(4,'papaya') #insert items at specific positoin\n",
    "print(list)"
   ]
  },
  {
   "cell_type": "code",
   "execution_count": 232,
   "id": "b9be95ee",
   "metadata": {},
   "outputs": [
    {
     "name": "stdout",
     "output_type": "stream",
     "text": [
      "['apples', 'banana', 'cherry', 'Orange', 'papaya', 10, 5, 'aaa', 'bbb']\n"
     ]
    }
   ],
   "source": [
    "list2=[10,5,'aaa','bbb']\n",
    "list.extend(list2) # used to extend list with another list\n",
    "print(list)"
   ]
  },
  {
   "cell_type": "code",
   "execution_count": 233,
   "id": "9722dca1",
   "metadata": {},
   "outputs": [
    {
     "name": "stdout",
     "output_type": "stream",
     "text": [
      "['apples', 'banana', 'cherry', 'Orange', 'papaya', 'bbb']\n"
     ]
    }
   ],
   "source": [
    "list.remove(10) #removes specific values\n",
    "list.remove(5)\n",
    "list.remove('aaa')\n",
    "print(list)"
   ]
  },
  {
   "cell_type": "code",
   "execution_count": 234,
   "id": "fb005b2d",
   "metadata": {},
   "outputs": [
    {
     "name": "stdout",
     "output_type": "stream",
     "text": [
      "['apples', 'banana', 'cherry', 'Orange', 'papaya']\n",
      "['apples', 'banana', 'cherry', 'Orange']\n"
     ]
    }
   ],
   "source": [
    "list.pop(5)  #Removes the element at the specified position\n",
    "print(list)\n",
    "\n",
    "list.pop() #Removes the element at last position\n",
    "print(list)"
   ]
  },
  {
   "cell_type": "code",
   "execution_count": 12,
   "id": "61b3a72e",
   "metadata": {},
   "outputs": [
    {
     "data": {
      "text/plain": [
       "['apple', 'banana', 'cherry', 'Orange', 'papaya', 'Mango']"
      ]
     },
     "execution_count": 12,
     "metadata": {},
     "output_type": "execute_result"
    }
   ],
   "source": [
    "list3=['apple','banana','cherry','Orange','papaya','Mango']\n",
    "list3"
   ]
  },
  {
   "cell_type": "code",
   "execution_count": 33,
   "id": "fe4b98bf",
   "metadata": {},
   "outputs": [
    {
     "name": "stdout",
     "output_type": "stream",
     "text": [
      "['Mango', 'Orange', 'apple', 'banana', 'cherry', 'papaya']\n",
      "['papaya', 'cherry', 'banana', 'apple', 'Orange', 'Mango']\n",
      "['apple', 'banana', 'cherry', 'Mango', 'Orange', 'papaya']\n",
      "['papaya', 'Orange', 'Mango', 'cherry', 'banana', 'apple']\n",
      "['apple', 'banana', 'cherry', 'Mango', 'Orange', 'papaya']\n",
      "['cherry', 'banana', 'Papaya', 'apples']\n"
     ]
    }
   ],
   "source": [
    "list3.sort() # to sort value in ascending order .\n",
    "print(list3)\n",
    "\n",
    "list3.sort(reverse=True) \n",
    "print(list3)\n",
    "\n",
    "list3.sort(key=str.lower) \n",
    "print(list3)\n",
    "\n",
    "list3.sort(reverse=True,key=str.lower) # to sort value in descending order . case Insensitive\n",
    "print(list3)\n",
    "\n",
    "list3.reverse() #reverse list without sorting the list. ignores case sensitivity\n",
    "print(list3)\n",
    "\n",
    "l3=['apples','Papaya','banana','cherry']\n",
    "l3.reverse()#reverse list without sorting the list. ignores case sensitivity\n",
    "print(l3)"
   ]
  },
  {
   "cell_type": "code",
   "execution_count": 34,
   "id": "931a0b45",
   "metadata": {},
   "outputs": [
    {
     "data": {
      "text/plain": [
       "1"
      ]
     },
     "execution_count": 34,
     "metadata": {},
     "output_type": "execute_result"
    }
   ],
   "source": [
    "l3.count(\"apples\")"
   ]
  },
  {
   "cell_type": "code",
   "execution_count": 35,
   "id": "736fae54",
   "metadata": {},
   "outputs": [
    {
     "data": {
      "text/plain": [
       "0"
      ]
     },
     "execution_count": 35,
     "metadata": {},
     "output_type": "execute_result"
    }
   ],
   "source": [
    "l3.count(\"a\")"
   ]
  },
  {
   "cell_type": "code",
   "execution_count": 36,
   "id": "5db52b69",
   "metadata": {},
   "outputs": [
    {
     "name": "stdout",
     "output_type": "stream",
     "text": [
      "['cherry', 'banana', 'Papaya', 'apples']\n"
     ]
    },
    {
     "data": {
      "text/plain": [
       "3"
      ]
     },
     "execution_count": 36,
     "metadata": {},
     "output_type": "execute_result"
    }
   ],
   "source": [
    "print(l3)\n",
    "x=l3.index(\"apples\")\n",
    "x"
   ]
  },
  {
   "cell_type": "code",
   "execution_count": 37,
   "id": "51a8f710",
   "metadata": {
    "scrolled": true
   },
   "outputs": [
    {
     "name": "stdout",
     "output_type": "stream",
     "text": [
      "8\n"
     ]
    }
   ],
   "source": [
    "print(len(list))"
   ]
  },
  {
   "cell_type": "code",
   "execution_count": 38,
   "id": "01618d5f",
   "metadata": {},
   "outputs": [
    {
     "name": "stdout",
     "output_type": "stream",
     "text": [
      "['apple', 'banana', 'cherry', 'Mango', 'Orange', 'papaya']\n"
     ]
    }
   ],
   "source": [
    "mylist3=list3.copy()\n",
    "print(mylist3)"
   ]
  },
  {
   "cell_type": "markdown",
   "id": "ce0bb58a",
   "metadata": {},
   "source": [
    "# Join two lists"
   ]
  },
  {
   "cell_type": "code",
   "execution_count": 39,
   "id": "b425912f",
   "metadata": {},
   "outputs": [
    {
     "name": "stdout",
     "output_type": "stream",
     "text": [
      "['papaya', 'Orange', 'Mango', 10, 8, 8]\n"
     ]
    }
   ],
   "source": [
    "#join 2 list\n",
    "mylist0=['papaya', 'Orange', 'Mango']\n",
    "mylist=[10,8,8]\n",
    "a=mylist0+mylist\n",
    "print(a)"
   ]
  },
  {
   "cell_type": "code",
   "execution_count": 40,
   "id": "4dcd789a",
   "metadata": {},
   "outputs": [
    {
     "name": "stdout",
     "output_type": "stream",
     "text": [
      "['papaya', 'Orange', 'Mango']\n",
      "[10, 8, 8]\n"
     ]
    }
   ],
   "source": [
    "print(mylist0)\n",
    "print(mylist)"
   ]
  },
  {
   "cell_type": "code",
   "execution_count": 41,
   "id": "cae00f4c",
   "metadata": {},
   "outputs": [
    {
     "name": "stdout",
     "output_type": "stream",
     "text": [
      "['papaya', 'Orange', 'Mango', 10, 8, 8]\n"
     ]
    }
   ],
   "source": [
    "for x in mylist:\n",
    "    mylist0.append(x)\n",
    "print(mylist0)"
   ]
  },
  {
   "cell_type": "code",
   "execution_count": 42,
   "id": "2cf3bb50",
   "metadata": {},
   "outputs": [
    {
     "name": "stdout",
     "output_type": "stream",
     "text": [
      "['papaya', 'Orange', 'Mango', 10, 8, 8, [10, 8, 8]]\n"
     ]
    }
   ],
   "source": [
    "x = mylist0.append(mylist)\n",
    "print(mylist0)"
   ]
  },
  {
   "cell_type": "code",
   "execution_count": 43,
   "id": "83abe1c2",
   "metadata": {},
   "outputs": [
    {
     "name": "stdout",
     "output_type": "stream",
     "text": [
      "['papaya', 'Orange', 'Mango', 10, 8, 8, [10, 8, 8], 10, 8, 8]\n"
     ]
    }
   ],
   "source": [
    "mylist0.extend(mylist)\n",
    "print(mylist0)"
   ]
  },
  {
   "cell_type": "markdown",
   "id": "6a7c40f6",
   "metadata": {},
   "source": [
    "COUNT()"
   ]
  },
  {
   "cell_type": "markdown",
   "id": "11394e46",
   "metadata": {},
   "source": [
    "clear()"
   ]
  },
  {
   "cell_type": "code",
   "execution_count": 44,
   "id": "374c9dbc",
   "metadata": {},
   "outputs": [
    {
     "data": {
      "text/plain": [
       "[]"
      ]
     },
     "execution_count": 44,
     "metadata": {},
     "output_type": "execute_result"
    }
   ],
   "source": [
    "mylist0.clear()\n",
    "mylist0"
   ]
  },
  {
   "cell_type": "code",
   "execution_count": 45,
   "id": "829b0eac",
   "metadata": {},
   "outputs": [
    {
     "data": {
      "text/plain": [
       "[]"
      ]
     },
     "execution_count": 45,
     "metadata": {},
     "output_type": "execute_result"
    }
   ],
   "source": [
    "mylist3.clear()\n",
    "mylist3"
   ]
  },
  {
   "cell_type": "code",
   "execution_count": 46,
   "id": "e6b1208e",
   "metadata": {},
   "outputs": [
    {
     "data": {
      "text/plain": [
       "[]"
      ]
     },
     "execution_count": 46,
     "metadata": {},
     "output_type": "execute_result"
    }
   ],
   "source": [
    "mylist.clear()\n",
    "mylist"
   ]
  },
  {
   "cell_type": "markdown",
   "id": "7306e3db",
   "metadata": {},
   "source": [
    "# Looping through the List\n",
    "use : for ,for with range, while and list comprehension"
   ]
  },
  {
   "cell_type": "code",
   "execution_count": 249,
   "id": "c6071c06",
   "metadata": {},
   "outputs": [
    {
     "data": {
      "text/plain": [
       "['apple', 'banana', 'cherry', 'Mango', 'Orange', 'papaya']"
      ]
     },
     "execution_count": 249,
     "metadata": {},
     "output_type": "execute_result"
    }
   ],
   "source": [
    "list3"
   ]
  },
  {
   "cell_type": "code",
   "execution_count": 250,
   "id": "37b64491",
   "metadata": {},
   "outputs": [
    {
     "name": "stdout",
     "output_type": "stream",
     "text": [
      "apple\n",
      "banana\n",
      "cherry\n",
      "Mango\n",
      "Orange\n",
      "papaya\n"
     ]
    }
   ],
   "source": [
    "#using for\n",
    "for x in list3:\n",
    "    print(x)"
   ]
  },
  {
   "cell_type": "code",
   "execution_count": 48,
   "id": "58220bd7",
   "metadata": {},
   "outputs": [
    {
     "name": "stdout",
     "output_type": "stream",
     "text": [
      "apple\n",
      "banana\n",
      "cherry\n",
      "Mango\n",
      "Orange\n",
      "papaya\n"
     ]
    }
   ],
   "source": [
    "for x in range(len(list3)):\n",
    "    print(list3[x])"
   ]
  },
  {
   "cell_type": "code",
   "execution_count": 47,
   "id": "d4b67701",
   "metadata": {},
   "outputs": [
    {
     "name": "stdout",
     "output_type": "stream",
     "text": [
      "cherry\n",
      "Mango\n",
      "Orange\n",
      "papaya\n"
     ]
    }
   ],
   "source": [
    "for x in range(2,len(list3)):\n",
    "    print(list3[x])"
   ]
  },
  {
   "cell_type": "code",
   "execution_count": 252,
   "id": "3aab7469",
   "metadata": {},
   "outputs": [
    {
     "name": "stdout",
     "output_type": "stream",
     "text": [
      "apple\n",
      "banana\n",
      "cherry\n",
      "Mango\n",
      "Orange\n",
      "papaya\n"
     ]
    }
   ],
   "source": [
    "x=0\n",
    "while x<len(list3):\n",
    "    print(list3[x])\n",
    "    x=x+1"
   ]
  },
  {
   "cell_type": "code",
   "execution_count": 49,
   "id": "d4af7c20",
   "metadata": {},
   "outputs": [
    {
     "name": "stdout",
     "output_type": "stream",
     "text": [
      "apple\n",
      "banana\n",
      "cherry\n",
      "Mango\n",
      "Orange\n",
      "papaya\n"
     ]
    }
   ],
   "source": [
    "newlist3=[ print(x) for x in list3] #list Comprehension"
   ]
  },
  {
   "cell_type": "code",
   "execution_count": null,
   "id": "082199df",
   "metadata": {},
   "outputs": [],
   "source": [
    "# List comprehension is an elegant way to define and create lists based on existing lists. List comprehension is \n",
    "# generally more compact and faster than normal functions and loops for creating list. However, we should avoid \n",
    "# writing very long list comprehensions in one line to ensure that code is user-friendly."
   ]
  },
  {
   "cell_type": "code",
   "execution_count": 254,
   "id": "ea9ef7ae",
   "metadata": {
    "scrolled": true
   },
   "outputs": [
    {
     "name": "stdout",
     "output_type": "stream",
     "text": [
      "apple\n",
      "banana\n",
      "Mango\n",
      "Orange\n",
      "papaya\n"
     ]
    }
   ],
   "source": [
    "newlist3=[print(x)  for x in list3 if \"a\" in x] #list Cpmprehension"
   ]
  },
  {
   "cell_type": "code",
   "execution_count": 51,
   "id": "8d595286",
   "metadata": {},
   "outputs": [
    {
     "name": "stdout",
     "output_type": "stream",
     "text": [
      "banana\n"
     ]
    }
   ],
   "source": [
    "newlist3=[print(x)  for x in list3 if \"ban\" in x] #list Cpmprehension"
   ]
  },
  {
   "cell_type": "code",
   "execution_count": 256,
   "id": "5cf511b9",
   "metadata": {},
   "outputs": [
    {
     "name": "stdout",
     "output_type": "stream",
     "text": [
      "banana\n",
      "cherry\n",
      "Mango\n",
      "Orange\n",
      "papaya\n"
     ]
    }
   ],
   "source": [
    "newlist3=[print(x)  for x in list3 if x !=\"apple\" ] #list Cpmprehension"
   ]
  },
  {
   "cell_type": "code",
   "execution_count": 257,
   "id": "009607d3",
   "metadata": {},
   "outputs": [
    {
     "name": "stdout",
     "output_type": "stream",
     "text": [
      "apple\n",
      "banana\n",
      "cherry\n",
      "Mango\n",
      "Orange\n",
      "papaya\n"
     ]
    }
   ],
   "source": [
    "newlist3= [print(list3[x])  for x in range(len(list3) )] #list Cpmprehension"
   ]
  },
  {
   "cell_type": "code",
   "execution_count": 258,
   "id": "08890937",
   "metadata": {},
   "outputs": [
    {
     "data": {
      "text/plain": [
       "[]"
      ]
     },
     "execution_count": 258,
     "metadata": {},
     "output_type": "execute_result"
    }
   ],
   "source": [
    "list3.clear()\n",
    "list3"
   ]
  },
  {
   "cell_type": "markdown",
   "id": "1e64a38b",
   "metadata": {},
   "source": [
    "# 2)Tuples\n",
    "\n",
    "represented using () \\\n",
    "tuples can ontain different types of values\\\n",
    "allows slicing\\\n",
    "ordered , Immutable ,Allows duplicates\\\n",
    "can have more than 1 null values\\\n",
    "Functions: index(),count(),len(),sorted() , min(),max(),sum()"
   ]
  },
  {
   "cell_type": "code",
   "execution_count": 57,
   "id": "bd918ce5",
   "metadata": {},
   "outputs": [
    {
     "name": "stdout",
     "output_type": "stream",
     "text": [
      "Sorted: [1, 2, 2.4, 3, 4, 22, 45, 56, 890]\n",
      "Reverse: [890, 56, 45, 22, 4, 3, 2.4, 2, 1]\n",
      "Min: 1\n",
      "max: 890\n",
      "sum: 1025.4\n"
     ]
    }
   ],
   "source": [
    "tup = (22, 3, 45, 4, 2.4, 2, 56, 890, 1)\n",
    "print(\"Sorted:\",sorted(tup)) #cannot use sort\n",
    "print(\"Reverse:\",sorted(tup,reverse=True)) #descending order\n",
    "print(\"Min:\",min(tup))\n",
    "print(\"max:\",max(tup))\n",
    "print(\"sum:\",sum(tup))"
   ]
  },
  {
   "cell_type": "code",
   "execution_count": 58,
   "id": "4be0f275",
   "metadata": {},
   "outputs": [
    {
     "data": {
      "text/plain": [
       "('apple', 'papaya', '', 'banana', '', 'banana', '', 10)"
      ]
     },
     "execution_count": 58,
     "metadata": {},
     "output_type": "execute_result"
    }
   ],
   "source": [
    "tupnull=(\"apple\",\"papaya\",\"\",\"banana\",\"\",\"banana\",'' ,10)#allow more than 1 null values\n",
    "tupnull"
   ]
  },
  {
   "cell_type": "code",
   "execution_count": 59,
   "id": "0cb71db4",
   "metadata": {},
   "outputs": [
    {
     "data": {
      "text/plain": [
       "('apple', 'papaya', 'watermelon', 'banana', 'cherry', 'banana', 10, 10, 10)"
      ]
     },
     "execution_count": 59,
     "metadata": {},
     "output_type": "execute_result"
    }
   ],
   "source": [
    "tup=(\"apple\",\"papaya\",\"watermelon\",\"banana\",\"cherry\",\"banana\",10,10,10)\n",
    "tup"
   ]
  },
  {
   "cell_type": "code",
   "execution_count": 60,
   "id": "bb46c589",
   "metadata": {},
   "outputs": [
    {
     "data": {
      "text/plain": [
       "9"
      ]
     },
     "execution_count": 60,
     "metadata": {},
     "output_type": "execute_result"
    }
   ],
   "source": [
    "len(tup)"
   ]
  },
  {
   "cell_type": "markdown",
   "id": "3da5efaf",
   "metadata": {},
   "source": [
    "TUPLES ARE IMMUTABLE: CANNOT MAKE CHANGES IN TUPLES\\\n",
    "#To make changes in tuples we will convert it in list and then convert taht list into tuple"
   ]
  },
  {
   "cell_type": "code",
   "execution_count": 262,
   "id": "4023687c",
   "metadata": {},
   "outputs": [],
   "source": [
    "#tup[0]=\"app\"\n",
    "#tup\n",
    "\n",
    "#Error: TypeError: 'tuple' object does not support item assignment\n"
   ]
  },
  {
   "cell_type": "code",
   "execution_count": 62,
   "id": "b53e5c5d",
   "metadata": {},
   "outputs": [],
   "source": [
    "#y=list(tup)\n",
    "#y.append(\"oranges\")\n",
    "#y\n",
    "#t=tuple(y)\n",
    "#print(t)"
   ]
  },
  {
   "cell_type": "code",
   "execution_count": 63,
   "id": "c92ba068",
   "metadata": {},
   "outputs": [
    {
     "data": {
      "text/plain": [
       "('banana', 10, 10)"
      ]
     },
     "execution_count": 63,
     "metadata": {},
     "output_type": "execute_result"
    }
   ],
   "source": [
    "# tuples allowed slicing \n",
    "\n",
    "tup[-4:-1] "
   ]
  },
  {
   "cell_type": "code",
   "execution_count": 265,
   "id": "b44c12eb",
   "metadata": {},
   "outputs": [
    {
     "data": {
      "text/plain": [
       "1"
      ]
     },
     "execution_count": 265,
     "metadata": {},
     "output_type": "execute_result"
    }
   ],
   "source": [
    "tup.count(\"apple\")"
   ]
  },
  {
   "cell_type": "code",
   "execution_count": 266,
   "id": "b049037c",
   "metadata": {},
   "outputs": [
    {
     "data": {
      "text/plain": [
       "3"
      ]
     },
     "execution_count": 266,
     "metadata": {},
     "output_type": "execute_result"
    }
   ],
   "source": [
    "tup.count(10)"
   ]
  },
  {
   "cell_type": "code",
   "execution_count": 267,
   "id": "662d6a67",
   "metadata": {},
   "outputs": [
    {
     "data": {
      "text/plain": [
       "3"
      ]
     },
     "execution_count": 267,
     "metadata": {},
     "output_type": "execute_result"
    }
   ],
   "source": [
    "tup.index(\"banana\")"
   ]
  },
  {
   "cell_type": "markdown",
   "id": "6b78b9e2",
   "metadata": {},
   "source": [
    "Joining  two tuples:"
   ]
  },
  {
   "cell_type": "code",
   "execution_count": 268,
   "id": "2c254653",
   "metadata": {},
   "outputs": [
    {
     "name": "stdout",
     "output_type": "stream",
     "text": [
      "('apple', 'papaya', 'watermelon', 'banana', 'cherry', 'banana', 10, 10, 10, 'frf', 50.5)\n"
     ]
    }
   ],
   "source": [
    "tup1=(\"frf\",50.5)\n",
    "a=tup+tup1\n",
    "print(a)"
   ]
  },
  {
   "cell_type": "code",
   "execution_count": 269,
   "id": "78a5c97a",
   "metadata": {},
   "outputs": [
    {
     "name": "stdout",
     "output_type": "stream",
     "text": [
      "('frf', 50.5)\n",
      "('frf', 50.5, 'frf', 50.5, 'frf', 50.5)\n"
     ]
    }
   ],
   "source": [
    "\n",
    "print(tup1)\n",
    "\n",
    "tup1=(\"frf\",50.5)\n",
    "a=tup1*3\n",
    "print(a)"
   ]
  },
  {
   "cell_type": "markdown",
   "id": "3a66d6e9",
   "metadata": {},
   "source": [
    "# 3)Sets:\n",
    "-represented using {} \\\n",
    "-sets contains different types of values\\\n",
    "-unordered  ,no duplicates allowed\\\n",
    "immutable :allow add and remove operations but cannot edit the set\\\n",
    "allow only  1 null value\\\n",
    "does not allow Slicing\\\n",
    "-Functions:\\\n",
    "add(), update(), union(), copy(), intersection(), intersection_update(), isdisjoint(), issubset() , issuperset(), discard(), pop(), remove(), clear(), symmetric_difference(), symmetric_difference_update(), difference(), difference_update"
   ]
  },
  {
   "cell_type": "code",
   "execution_count": 83,
   "id": "82a61d75",
   "metadata": {},
   "outputs": [
    {
     "name": "stdout",
     "output_type": "stream",
     "text": [
      "{'kiwi', 'cherry', 'apples', 'Orange', 'banana'}\n",
      "{'', 'kiwi', 'watermelon', 'peach', 'oranges'}\n"
     ]
    }
   ],
   "source": [
    "sets1={'apples', 'banana', 'cherry', 'Orange','kiwi'}\n",
    "sets2={'oranges','watermelon','kiwi','','peach',''} #sets can have only 1 null value\n",
    "print(sets1)\n",
    "print(sets2)"
   ]
  },
  {
   "cell_type": "code",
   "execution_count": 84,
   "id": "2ccd14af",
   "metadata": {},
   "outputs": [
    {
     "name": "stdout",
     "output_type": "stream",
     "text": [
      "kiwi\n",
      "cherry\n",
      "apples\n",
      "Orange\n",
      "banana\n"
     ]
    }
   ],
   "source": [
    "#Looping throgh the sets\n",
    "\n",
    "for x in sets1:\n",
    "    print(x)"
   ]
  },
  {
   "cell_type": "code",
   "execution_count": 85,
   "id": "67952d41",
   "metadata": {},
   "outputs": [],
   "source": [
    "\n",
    "# x=0\n",
    "# while x<len(sets1):\n",
    "#     print(sets1[x]) # cannot loop through sets useing while bcoz sets does not allow slicing Ex sets[x]\n",
    "#     x=x+1\n",
    "# #print(\"Sorted:\",sorted(tup))\n"
   ]
  },
  {
   "cell_type": "code",
   "execution_count": 86,
   "id": "46a8bf8b",
   "metadata": {},
   "outputs": [],
   "source": [
    "#sets1[0:3] #sets does not allow slicing \n",
    "#TypeError: 'set' object is not subscriptable"
   ]
  },
  {
   "cell_type": "code",
   "execution_count": 98,
   "id": "4e0c6611",
   "metadata": {},
   "outputs": [
    {
     "name": "stdout",
     "output_type": "stream",
     "text": [
      "{'kiwi', 'cherry', 'apples', 'Orange', 'banana'}\n"
     ]
    },
    {
     "data": {
      "text/plain": [
       "{'Orange', 'apples', 'banana', 'cherry', 'kiwi'}"
      ]
     },
     "execution_count": 98,
     "metadata": {},
     "output_type": "execute_result"
    }
   ],
   "source": [
    "print(sets1) # sets are unorderd\n",
    "sets1"
   ]
  },
  {
   "cell_type": "code",
   "execution_count": 144,
   "id": "7234a650",
   "metadata": {},
   "outputs": [
    {
     "name": "stdout",
     "output_type": "stream",
     "text": [
      "{'b', 'a', 'c'}\n",
      "{'b', 'd', 'a', 'c'}\n"
     ]
    }
   ],
   "source": [
    "# typecasting list to set\n",
    "l=[\"a\", \"b\", \"c\"]\n",
    "myset = set(l)\n",
    "print(myset)\n",
    " \n",
    "# Adding element to the set\n",
    "myset.add(\"d\")\n",
    "print(myset)"
   ]
  },
  {
   "cell_type": "code",
   "execution_count": 103,
   "id": "debbfd38",
   "metadata": {},
   "outputs": [
    {
     "data": {
      "text/plain": [
       "{1, 2, 3, 5, 8}"
      ]
     },
     "execution_count": 103,
     "metadata": {},
     "output_type": "execute_result"
    }
   ],
   "source": [
    "sets={1,1,2,2,3,5,8} #does not allow duplicates\n",
    "sets"
   ]
  },
  {
   "cell_type": "code",
   "execution_count": null,
   "id": "25138e25",
   "metadata": {},
   "outputs": [],
   "source": [
    "\n",
    "#cannot edit once values are enters into the set \n",
    "\n",
    "#sets[1]=10 #non editable bcoz slicing not allowed\n",
    "#sets"
   ]
  },
  {
   "cell_type": "code",
   "execution_count": 276,
   "id": "062f6f42",
   "metadata": {},
   "outputs": [
    {
     "data": {
      "text/plain": [
       "{1, 2, 3, 5, 8, 10}"
      ]
     },
     "execution_count": 276,
     "metadata": {},
     "output_type": "execute_result"
    }
   ],
   "source": [
    "# Immutable but can add or remove values from sets\n",
    "sets.add(10)\n",
    "sets"
   ]
  },
  {
   "cell_type": "code",
   "execution_count": 277,
   "id": "3bb8e020",
   "metadata": {},
   "outputs": [
    {
     "data": {
      "text/plain": [
       "{1, 2, 3, 5, 8}"
      ]
     },
     "execution_count": 277,
     "metadata": {},
     "output_type": "execute_result"
    }
   ],
   "source": [
    "# Immutable but can remove values fromsets\n",
    "sets.remove(10) # remove(): to remove specified item.Raise error if value is not present\n",
    "sets"
   ]
  },
  {
   "cell_type": "markdown",
   "id": "09aa2fbf",
   "metadata": {},
   "source": [
    "Join Two Sets \n",
    "  Using update () and union()"
   ]
  },
  {
   "cell_type": "code",
   "execution_count": 278,
   "id": "ab8f4290",
   "metadata": {},
   "outputs": [
    {
     "name": "stdout",
     "output_type": "stream",
     "text": [
      "{'apples', 'banana', 'kiwi', 'Orange', 'cherry'}\n",
      "{'', 'oranges', 'peach', 'watermelon', 'kiwi'}\n"
     ]
    }
   ],
   "source": [
    "print(sets1)\n",
    "print(sets2)"
   ]
  },
  {
   "cell_type": "code",
   "execution_count": 279,
   "id": "0b649d72",
   "metadata": {},
   "outputs": [
    {
     "name": "stdout",
     "output_type": "stream",
     "text": [
      "{'', 'oranges', 'watermelon', 'banana', 'apples', 'kiwi', 'Orange', 'cherry', 'peach'}\n"
     ]
    }
   ],
   "source": [
    "x=sets1.union(sets2) #kiwi is not stored 2 times becoz sets cannot allow duplicate\n",
    "print(x) "
   ]
  },
  {
   "cell_type": "code",
   "execution_count": 280,
   "id": "fea03c17",
   "metadata": {},
   "outputs": [
    {
     "name": "stdout",
     "output_type": "stream",
     "text": [
      "{'apples', 'banana', 'kiwi', 'Orange', 'cherry'}\n"
     ]
    }
   ],
   "source": [
    "sets1.union(sets2) #does not maek changes in original set\n",
    "print(sets1)"
   ]
  },
  {
   "cell_type": "code",
   "execution_count": 281,
   "id": "9641a53b",
   "metadata": {},
   "outputs": [
    {
     "name": "stdout",
     "output_type": "stream",
     "text": [
      "{'', 'oranges', 'watermelon', 'banana', 'apples', 'kiwi', 'Orange', 'cherry', 'peach'}\n"
     ]
    }
   ],
   "source": [
    "sets1.update(sets2)  #kiwi is not sored 2 times becoz sets cannot allow duplicate\n",
    "print(sets1)   # maek changes in original set"
   ]
  },
  {
   "cell_type": "code",
   "execution_count": 282,
   "id": "a10f8c5d",
   "metadata": {},
   "outputs": [
    {
     "data": {
      "text/plain": [
       "{1, 2, 3, 5, 8}"
      ]
     },
     "execution_count": 282,
     "metadata": {},
     "output_type": "execute_result"
    }
   ],
   "source": [
    "#copy()\n",
    "x=sets.copy()\n",
    "x"
   ]
  },
  {
   "cell_type": "markdown",
   "id": "5fe70532",
   "metadata": {},
   "source": [
    "discard(),remove() ,pop(),clear()"
   ]
  },
  {
   "cell_type": "code",
   "execution_count": 283,
   "id": "cc422d79",
   "metadata": {},
   "outputs": [
    {
     "data": {
      "text/plain": [
       "{1, 2, 3, 8}"
      ]
     },
     "execution_count": 283,
     "metadata": {},
     "output_type": "execute_result"
    }
   ],
   "source": [
    "sets.discard(5) #discard(): to remove specified item. does not raise an error if value is not present\n",
    "sets"
   ]
  },
  {
   "cell_type": "code",
   "execution_count": 284,
   "id": "07c38d9f",
   "metadata": {},
   "outputs": [],
   "source": [
    "#sets.remove(1000) # remove(): to remove specified item.Raise error if value is not present\n",
    "#sets"
   ]
  },
  {
   "cell_type": "code",
   "execution_count": 285,
   "id": "e17289ea",
   "metadata": {},
   "outputs": [
    {
     "name": "stdout",
     "output_type": "stream",
     "text": [
      "set()\n"
     ]
    }
   ],
   "source": [
    "sets.clear() #remove all values form sets\n",
    "print(sets)"
   ]
  },
  {
   "cell_type": "code",
   "execution_count": 286,
   "id": "6de5c613",
   "metadata": {},
   "outputs": [
    {
     "data": {
      "text/plain": [
       "{1, 2, 3, 5, 8}"
      ]
     },
     "execution_count": 286,
     "metadata": {},
     "output_type": "execute_result"
    }
   ],
   "source": [
    "x"
   ]
  },
  {
   "cell_type": "code",
   "execution_count": 287,
   "id": "5475a1a3",
   "metadata": {},
   "outputs": [
    {
     "data": {
      "text/plain": [
       "1"
      ]
     },
     "execution_count": 287,
     "metadata": {},
     "output_type": "execute_result"
    }
   ],
   "source": [
    "#pop() :Removes random element from the set\n",
    "x.pop() #pop() :takes no arguments"
   ]
  },
  {
   "cell_type": "code",
   "execution_count": 288,
   "id": "e838eb91",
   "metadata": {},
   "outputs": [
    {
     "data": {
      "text/plain": [
       "{2, 3, 5, 8}"
      ]
     },
     "execution_count": 288,
     "metadata": {},
     "output_type": "execute_result"
    }
   ],
   "source": [
    "x"
   ]
  },
  {
   "cell_type": "code",
   "execution_count": 289,
   "id": "2cc453e7",
   "metadata": {},
   "outputs": [
    {
     "data": {
      "text/plain": [
       "{3, 5, 8}"
      ]
     },
     "execution_count": 289,
     "metadata": {},
     "output_type": "execute_result"
    }
   ],
   "source": [
    "x.pop()\n",
    "x"
   ]
  },
  {
   "cell_type": "markdown",
   "id": "2563fd7d",
   "metadata": {},
   "source": [
    "difference() vs difference_update()\n",
    "\n",
    "diffrence() :return a set containing the difference between two or more sets.\\\n",
    "difference_update():Removes the items in this set that are also included in another,specified set.also make changes in original sets"
   ]
  },
  {
   "cell_type": "code",
   "execution_count": 8,
   "id": "51e6dec9",
   "metadata": {},
   "outputs": [
    {
     "data": {
      "text/plain": [
       "{2, 4, 10}"
      ]
     },
     "execution_count": 8,
     "metadata": {},
     "output_type": "execute_result"
    }
   ],
   "source": [
    "x={10,2,3,4,5}\n",
    "y={11,21,55,3,5,6}\n",
    "x.difference(y) #does notmake change in original sets"
   ]
  },
  {
   "cell_type": "code",
   "execution_count": 11,
   "id": "e81ea634",
   "metadata": {},
   "outputs": [
    {
     "data": {
      "text/plain": [
       "{2, 4, 10}"
      ]
     },
     "execution_count": 11,
     "metadata": {},
     "output_type": "execute_result"
    }
   ],
   "source": [
    "x=[10,2,3,4,5]\n",
    "y=[11,21,55,3,5,6]\n",
    "a=set(x)  #typecasting list to set\n",
    "b=set(y)   #typecasting list to set\n",
    "a.difference(b) #does notmake change in original sets"
   ]
  },
  {
   "cell_type": "code",
   "execution_count": 12,
   "id": "3c363d80",
   "metadata": {},
   "outputs": [
    {
     "data": {
      "text/plain": [
       "{2, 3, 4, 5, 10}"
      ]
     },
     "execution_count": 12,
     "metadata": {},
     "output_type": "execute_result"
    }
   ],
   "source": [
    "a  #does notmake change in original sets"
   ]
  },
  {
   "cell_type": "code",
   "execution_count": 13,
   "id": "797b0f52",
   "metadata": {},
   "outputs": [
    {
     "name": "stdout",
     "output_type": "stream",
     "text": [
      "{2, 4, 10}\n"
     ]
    }
   ],
   "source": [
    "x={10,2,3,4,5}\n",
    "y={11,21,55,3,5,6}\n",
    "x.difference_update(y)  # maek change in original in sets\n",
    "print(x)"
   ]
  },
  {
   "cell_type": "code",
   "execution_count": 14,
   "id": "80151c7b",
   "metadata": {},
   "outputs": [
    {
     "data": {
      "text/plain": [
       "{2, 4, 10}"
      ]
     },
     "execution_count": 14,
     "metadata": {},
     "output_type": "execute_result"
    }
   ],
   "source": [
    "x  # maek change in original in sets"
   ]
  },
  {
   "cell_type": "code",
   "execution_count": 15,
   "id": "30ad9701",
   "metadata": {},
   "outputs": [
    {
     "name": "stdout",
     "output_type": "stream",
     "text": [
      "{'Orange', 'cherry', 'kiwi', 'banana', 'apples'}\n",
      "{'', 'watermelon', 'peach', 'oranges', 'kiwi'}\n"
     ]
    }
   ],
   "source": [
    "sets1={'apples', 'banana', 'cherry', 'Orange','kiwi'}\n",
    "sets2={'oranges','watermelon','','kiwi','','peach',} #sets can have only 1 null value\n",
    "print(sets1)\n",
    "print(sets2)"
   ]
  },
  {
   "cell_type": "markdown",
   "id": "0735a2a1",
   "metadata": {},
   "source": [
    "intersection():Returns a set, that is the intersection of two or more sets\\\n",
    "intersection_update():Removes the items in this set that are not present in other, specified set(s).make chnege in original sets"
   ]
  },
  {
   "cell_type": "code",
   "execution_count": 16,
   "id": "7e49ecac",
   "metadata": {},
   "outputs": [
    {
     "name": "stdout",
     "output_type": "stream",
     "text": [
      "{'Orange', 'cherry', 'kiwi', 'banana', 'apples'}\n",
      "{'', 'watermelon', 'peach', 'oranges', 'kiwi'}\n"
     ]
    }
   ],
   "source": [
    "sets1={'apples', 'banana', 'cherry', 'Orange','kiwi'}\n",
    "sets2={'oranges','watermelon','','kiwi','','peach',} #sets can have only 1 null value\n",
    "print(sets1)\n",
    "print(sets2)"
   ]
  },
  {
   "cell_type": "code",
   "execution_count": 17,
   "id": "9bbba669",
   "metadata": {},
   "outputs": [
    {
     "data": {
      "text/plain": [
       "{'kiwi'}"
      ]
     },
     "execution_count": 17,
     "metadata": {},
     "output_type": "execute_result"
    }
   ],
   "source": [
    "sets1.intersection(sets2) #does't make cange in original sets"
   ]
  },
  {
   "cell_type": "code",
   "execution_count": 18,
   "id": "17286928",
   "metadata": {},
   "outputs": [
    {
     "data": {
      "text/plain": [
       "{'Orange', 'apples', 'banana', 'cherry', 'kiwi'}"
      ]
     },
     "execution_count": 18,
     "metadata": {},
     "output_type": "execute_result"
    }
   ],
   "source": [
    "sets1  #does't make cange in original sets"
   ]
  },
  {
   "cell_type": "code",
   "execution_count": 19,
   "id": "5a79266c",
   "metadata": {},
   "outputs": [
    {
     "data": {
      "text/plain": [
       "{'kiwi'}"
      ]
     },
     "execution_count": 19,
     "metadata": {},
     "output_type": "execute_result"
    }
   ],
   "source": [
    "sets1.intersection_update(sets2) #make change in original sets\n",
    "sets1 "
   ]
  },
  {
   "cell_type": "markdown",
   "id": "ecfd1db8",
   "metadata": {},
   "source": [
    "isdisjoint():Returns whether two sets have a intersection or not.#Return True if no items in set x is present in set y:\\\n",
    "issubset() :Returns whether another set contains this set or not.Return True if all items in set x are present in set y:\\\n",
    "issuperset():Returns whether this set contains another set or not.Return True if all items set y are present in set x:"
   ]
  },
  {
   "cell_type": "code",
   "execution_count": 393,
   "id": "598c1e0c",
   "metadata": {},
   "outputs": [
    {
     "name": "stdout",
     "output_type": "stream",
     "text": [
      "{'apples', 'banana', 'kiwi', 'Orange', 'cherry'}\n",
      "{'', 'oranges', 'peach', 'watermelon', 'kiwi'}\n"
     ]
    }
   ],
   "source": [
    "sets1={'apples', 'banana', 'cherry', 'Orange','kiwi'}\n",
    "sets2={'oranges','watermelon','','kiwi','','peach'} \n",
    "print(sets1)\n",
    "print(sets2)"
   ]
  },
  {
   "cell_type": "code",
   "execution_count": 394,
   "id": "1cbd63ab",
   "metadata": {},
   "outputs": [
    {
     "data": {
      "text/plain": [
       "False"
      ]
     },
     "execution_count": 394,
     "metadata": {},
     "output_type": "execute_result"
    }
   ],
   "source": [
    "#disjoint(): having no elements in common.\n",
    "sets1.isdisjoint(sets2) #Return false if items in set x is present in set y:"
   ]
  },
  {
   "cell_type": "code",
   "execution_count": 20,
   "id": "11a85520",
   "metadata": {},
   "outputs": [
    {
     "data": {
      "text/plain": [
       "True"
      ]
     },
     "execution_count": 20,
     "metadata": {},
     "output_type": "execute_result"
    }
   ],
   "source": [
    "#disjoint(): having no elements in common.\n",
    "s1={1,2,3}\n",
    "s2={11,21,31}\n",
    "s1.isdisjoint(s2)  #Return True if no items in set x is present in set y:"
   ]
  },
  {
   "cell_type": "code",
   "execution_count": 396,
   "id": "98bcf121",
   "metadata": {},
   "outputs": [
    {
     "data": {
      "text/plain": [
       "True"
      ]
     },
     "execution_count": 396,
     "metadata": {},
     "output_type": "execute_result"
    }
   ],
   "source": [
    "ss1={1,2,3}\n",
    "ss2={1,11,21,31,2,3}\n",
    "ss1.issubset(ss2) #Return True if all items in set x are present in set y:\n"
   ]
  },
  {
   "cell_type": "code",
   "execution_count": 397,
   "id": "9f903be8",
   "metadata": {},
   "outputs": [
    {
     "data": {
      "text/plain": [
       "False"
      ]
     },
     "execution_count": 397,
     "metadata": {},
     "output_type": "execute_result"
    }
   ],
   "source": [
    "sets1.issubset(sets2) "
   ]
  },
  {
   "cell_type": "code",
   "execution_count": 398,
   "id": "a8552817",
   "metadata": {
    "scrolled": true
   },
   "outputs": [
    {
     "data": {
      "text/plain": [
       "True"
      ]
     },
     "execution_count": 398,
     "metadata": {},
     "output_type": "execute_result"
    }
   ],
   "source": [
    "st1={100,200,300}\n",
    "st2={100,200}\n",
    "st1.issuperset(st2) #Return True if all items set y are present in set x:"
   ]
  },
  {
   "cell_type": "markdown",
   "id": "581cfa0f",
   "metadata": {},
   "source": [
    "symmetric_difference() :Return a set that contains all items from both sets, except items that are present in both sets.\n",
    "    Returns a set with the symmetric differences of two sets\\\n",
    "symmetric_difference_update():Remove the items that are present in both sets, AND insert the items that is not present in both \n",
    "    sets.inserts the symmetric differences from this set and another"
   ]
  },
  {
   "cell_type": "code",
   "execution_count": 424,
   "id": "a007952f",
   "metadata": {},
   "outputs": [
    {
     "name": "stdout",
     "output_type": "stream",
     "text": [
      "{'apples', 'banana', 'kiwi', 'Orange', 'cherry'}\n",
      "{'', 'oranges', 'peach', 'watermelon', 'kiwi'}\n"
     ]
    }
   ],
   "source": [
    "sets1={'apples', 'banana', 'cherry', 'Orange','kiwi'}\n",
    "sets2={'oranges','watermelon','','kiwi','','peach',} \n",
    "print(sets1)\n",
    "print(sets2)"
   ]
  },
  {
   "cell_type": "code",
   "execution_count": 425,
   "id": "882f38ab",
   "metadata": {},
   "outputs": [
    {
     "data": {
      "text/plain": [
       "{'', 'Orange', 'apples', 'banana', 'cherry', 'oranges', 'peach', 'watermelon'}"
      ]
     },
     "execution_count": 425,
     "metadata": {},
     "output_type": "execute_result"
    }
   ],
   "source": [
    "# return all values different from both the sets except common values\n",
    "sets1.symmetric_difference(sets2) #does not make change in original sets"
   ]
  },
  {
   "cell_type": "code",
   "execution_count": 426,
   "id": "a1f86f5b",
   "metadata": {},
   "outputs": [
    {
     "data": {
      "text/plain": [
       "{'Orange', 'apples', 'banana', 'cherry', 'kiwi'}"
      ]
     },
     "execution_count": 426,
     "metadata": {},
     "output_type": "execute_result"
    }
   ],
   "source": [
    "sets1"
   ]
  },
  {
   "cell_type": "code",
   "execution_count": 427,
   "id": "56f9f68c",
   "metadata": {},
   "outputs": [],
   "source": [
    "sets1.symmetric_difference_update(sets2) ## make change in original sets"
   ]
  },
  {
   "cell_type": "code",
   "execution_count": 428,
   "id": "aee737e0",
   "metadata": {},
   "outputs": [
    {
     "data": {
      "text/plain": [
       "{'', 'Orange', 'apples', 'banana', 'cherry', 'oranges', 'peach', 'watermelon'}"
      ]
     },
     "execution_count": 428,
     "metadata": {},
     "output_type": "execute_result"
    }
   ],
   "source": [
    "sets1"
   ]
  },
  {
   "cell_type": "markdown",
   "id": "2ef48a09",
   "metadata": {},
   "source": [
    "# 4)Dictionary\n",
    "used to store multiople value in key-value form\\\n",
    "-represented using {key:value} \\\n",
    "unordered before version 3.7.now Ordered\\\n",
    "Mutable and does not allow duplicates\\\n",
    "slicing/indexing are not allowed\\\n",
    "only 1 null values is allowed\\\n",
    "methods : copy(), clear(), pop(), popitem(), update(), fromkeys(), get(), keys(), values(), items(), setdefault()"
   ]
  },
  {
   "cell_type": "code",
   "execution_count": 29,
   "id": "5fccc588",
   "metadata": {},
   "outputs": [
    {
     "data": {
      "text/plain": [
       "{'brand': 'Ford', 'model': 'Mustang', 'year': 1964, '': '', 'Owner': 'Puja'}"
      ]
     },
     "execution_count": 29,
     "metadata": {},
     "output_type": "execute_result"
    }
   ],
   "source": [
    "car = {\n",
    "  \"brand\": \"Ford\",\n",
    "  \"model\": \"Mustang\",\n",
    "  \"brand\": \"Ford\", #does not allow duplicates\n",
    "  \"year\": 1964,\n",
    "   \"\":\"\",\n",
    "   \"\":\"\", #allowe only 1 null value\n",
    "   \"Owner\":\"Puja\"\n",
    "    \n",
    "}\n",
    "car "
   ]
  },
  {
   "cell_type": "code",
   "execution_count": 30,
   "id": "eae0f129",
   "metadata": {},
   "outputs": [
    {
     "data": {
      "text/plain": [
       "{'brand': 'Ford', 'model': 'Mustang', 'year': 1964, '': '', 'Owner': 'Puja'}"
      ]
     },
     "execution_count": 30,
     "metadata": {},
     "output_type": "execute_result"
    }
   ],
   "source": [
    "car #orderd"
   ]
  },
  {
   "cell_type": "code",
   "execution_count": 31,
   "id": "ee292453",
   "metadata": {},
   "outputs": [
    {
     "data": {
      "text/plain": [
       "{'brand': 'Ford', 'model': 'Mustang', 'year': 1964, '': '', 'Owner': 'Pooja'}"
      ]
     },
     "execution_count": 31,
     "metadata": {},
     "output_type": "execute_result"
    }
   ],
   "source": [
    "#mutable / changable\n",
    "\n",
    "car['Owner']='Pooja'\n",
    "car"
   ]
  },
  {
   "cell_type": "markdown",
   "id": "2cbf8908",
   "metadata": {},
   "source": [
    "Dictionary Methods:\n",
    "copy(), clear(), pop(), popitem(), update(), fromkeys(), get(), keys(), values(), items(), setdefault()"
   ]
  },
  {
   "cell_type": "code",
   "execution_count": 32,
   "id": "77b9e528",
   "metadata": {},
   "outputs": [
    {
     "data": {
      "text/plain": [
       "{'brand': 'Ford', 'model': 'Mustang', 'year': 1964, '': '', 'Owner': 'Pooja'}"
      ]
     },
     "execution_count": 32,
     "metadata": {},
     "output_type": "execute_result"
    }
   ],
   "source": [
    "x=car.copy() #Returns a copy of the dictionary\n",
    "x"
   ]
  },
  {
   "cell_type": "code",
   "execution_count": 33,
   "id": "c7b060cd",
   "metadata": {},
   "outputs": [
    {
     "data": {
      "text/plain": [
       "{'brand': 'Ford',\n",
       " 'model': 'Mustang',\n",
       " 'year': 1964,\n",
       " '': '',\n",
       " 'Owner': 'Pooja',\n",
       " 'color': 'white'}"
      ]
     },
     "execution_count": 33,
     "metadata": {},
     "output_type": "execute_result"
    }
   ],
   "source": [
    "x.update({\"color\": \"white\"}) #Updates the dictionary with the specified key-value pairs. inser if not present \n",
    "x  #edit the dictionary "
   ]
  },
  {
   "cell_type": "code",
   "execution_count": 35,
   "id": "0308b1dd",
   "metadata": {},
   "outputs": [
    {
     "data": {
      "text/plain": [
       "{'brand': 'Ford',\n",
       " 'model': 'Mustang',\n",
       " 'year': 1964,\n",
       " '': '',\n",
       " 'Owner': 'Pooja',\n",
       " 'color': 'Black'}"
      ]
     },
     "execution_count": 35,
     "metadata": {},
     "output_type": "execute_result"
    }
   ],
   "source": [
    "x.update({\"color\": \"Black\"})  \n",
    "x"
   ]
  },
  {
   "cell_type": "code",
   "execution_count": 36,
   "id": "e2661320",
   "metadata": {},
   "outputs": [
    {
     "data": {
      "text/plain": [
       "{'brand': 'Ford', 'model': 'Mustang', 'year': 1977, '': '', 'Owner': 'Pooja'}"
      ]
     },
     "execution_count": 36,
     "metadata": {},
     "output_type": "execute_result"
    }
   ],
   "source": [
    "car.update({'year':1977}) #Updates the dictionary if not present\n",
    "car"
   ]
  },
  {
   "cell_type": "code",
   "execution_count": 37,
   "id": "c511027d",
   "metadata": {},
   "outputs": [
    {
     "data": {
      "text/plain": [
       "{'brand': 'Ford', 'model': 'Mustang', 'year': 1964, '': '', 'color': 'Black'}"
      ]
     },
     "execution_count": 37,
     "metadata": {},
     "output_type": "execute_result"
    }
   ],
   "source": [
    "x.pop(\"Owner\") #Removes the element with the specified key\n",
    "x"
   ]
  },
  {
   "cell_type": "code",
   "execution_count": 38,
   "id": "89da850a",
   "metadata": {},
   "outputs": [
    {
     "data": {
      "text/plain": [
       "{'brand': 'Ford', 'model': 'Mustang', 'year': 1964, 'color': 'Black'}"
      ]
     },
     "execution_count": 38,
     "metadata": {},
     "output_type": "execute_result"
    }
   ],
   "source": [
    "x.pop(\"\")\n",
    "x"
   ]
  },
  {
   "cell_type": "code",
   "execution_count": 39,
   "id": "e2fff792",
   "metadata": {},
   "outputs": [
    {
     "data": {
      "text/plain": [
       "{}"
      ]
     },
     "execution_count": 39,
     "metadata": {},
     "output_type": "execute_result"
    }
   ],
   "source": [
    "x.clear() #Removes all the elements from the dictionary\n",
    "x"
   ]
  },
  {
   "cell_type": "code",
   "execution_count": 40,
   "id": "c21e6181",
   "metadata": {},
   "outputs": [
    {
     "data": {
      "text/plain": [
       "{'brand': 'Ford', 'model': 'Mustang', 'year': 1977, 'Owner': 'Pooja'}"
      ]
     },
     "execution_count": 40,
     "metadata": {},
     "output_type": "execute_result"
    }
   ],
   "source": [
    "car.pop(\"\")\n",
    "car"
   ]
  },
  {
   "cell_type": "markdown",
   "id": "0fa61f3a",
   "metadata": {},
   "source": [
    "dict.fromkeys():\\\n",
    "Returns a dictionary with the specified keys and value\\\n",
    "create dictionary with different keys but with same values"
   ]
  },
  {
   "cell_type": "code",
   "execution_count": 41,
   "id": "080ebb2b",
   "metadata": {},
   "outputs": [
    {
     "name": "stdout",
     "output_type": "stream",
     "text": [
      "{'price': 1, 'weight': 1, 'lenght': 1}\n"
     ]
    }
   ],
   "source": [
    "x={'price','lenght','weight'}\n",
    "z= dict.fromkeys(x,1) #Create a dictionary with 3 diffrent keys, all with the value 0:\n",
    "print(z)"
   ]
  },
  {
   "cell_type": "code",
   "execution_count": 448,
   "id": "914578ff",
   "metadata": {},
   "outputs": [
    {
     "name": "stdout",
     "output_type": "stream",
     "text": [
      "{'price': None, 'lenght': None, 'weight': None}\n"
     ]
    }
   ],
   "source": [
    "x={'price','lenght','weight'}\n",
    "z=dict.fromkeys(x) #Create a dictionary with 3 keys, all with the value none:\n",
    "print(z)"
   ]
  },
  {
   "cell_type": "code",
   "execution_count": 325,
   "id": "7a212e6d",
   "metadata": {},
   "outputs": [
    {
     "name": "stdout",
     "output_type": "stream",
     "text": [
      "{'price': {6265, 465}, 'lenght': {6265, 465}, 'weight': {6265, 465}}\n"
     ]
    }
   ],
   "source": [
    "x={'price','lenght','weight'}\n",
    "y={6265,465}\n",
    "z=dict.fromkeys(x,y) \n",
    "print(z)"
   ]
  },
  {
   "cell_type": "markdown",
   "id": "934f7d7a",
   "metadata": {},
   "source": [
    "#get():\\\n",
    "Get the value of the specified Key"
   ]
  },
  {
   "cell_type": "code",
   "execution_count": 42,
   "id": "e0a7d498",
   "metadata": {},
   "outputs": [
    {
     "data": {
      "text/plain": [
       "{'brand': 'Ford', 'model': 'Mustang', 'year': 1977, 'Owner': 'Pooja'}"
      ]
     },
     "execution_count": 42,
     "metadata": {},
     "output_type": "execute_result"
    }
   ],
   "source": [
    "car"
   ]
  },
  {
   "cell_type": "code",
   "execution_count": 43,
   "id": "f8c3341d",
   "metadata": {},
   "outputs": [
    {
     "data": {
      "text/plain": [
       "'Mustang'"
      ]
     },
     "execution_count": 43,
     "metadata": {},
     "output_type": "execute_result"
    }
   ],
   "source": [
    "car.get(\"model\")"
   ]
  },
  {
   "cell_type": "code",
   "execution_count": 44,
   "id": "2fecbbdf",
   "metadata": {},
   "outputs": [
    {
     "name": "stdout",
     "output_type": "stream",
     "text": [
      "15000\n"
     ]
    }
   ],
   "source": [
    "x = car.get(\"price\", 15000) #Try to return the value of an item that do not exist.return value if does not exits\n",
    "print(x)"
   ]
  },
  {
   "cell_type": "code",
   "execution_count": 329,
   "id": "7b899e59",
   "metadata": {},
   "outputs": [
    {
     "data": {
      "text/plain": [
       "{'brand': 'Ford', 'model': 'Mustang', 'year': 1977, 'Owner': 'Puja'}"
      ]
     },
     "execution_count": 329,
     "metadata": {},
     "output_type": "execute_result"
    }
   ],
   "source": [
    "car"
   ]
  },
  {
   "cell_type": "markdown",
   "id": "0e51fa66",
   "metadata": {},
   "source": [
    "item():\\\n",
    "Returns a list containing a tuple for each key value pair"
   ]
  },
  {
   "cell_type": "code",
   "execution_count": 330,
   "id": "7fcffbe1",
   "metadata": {},
   "outputs": [
    {
     "data": {
      "text/plain": [
       "dict_items([('brand', 'Ford'), ('model', 'Mustang'), ('year', 1977), ('Owner', 'Puja')])"
      ]
     },
     "execution_count": 330,
     "metadata": {},
     "output_type": "execute_result"
    }
   ],
   "source": [
    "car.items()"
   ]
  },
  {
   "cell_type": "markdown",
   "id": "657e5146",
   "metadata": {},
   "source": [
    "keys():Returns a list containing the dictionary's keys\\\n",
    "values():Returns a list of all the values in the dictionary\n"
   ]
  },
  {
   "cell_type": "code",
   "execution_count": 331,
   "id": "e1c70574",
   "metadata": {},
   "outputs": [
    {
     "data": {
      "text/plain": [
       "dict_keys(['brand', 'model', 'year', 'Owner'])"
      ]
     },
     "execution_count": 331,
     "metadata": {},
     "output_type": "execute_result"
    }
   ],
   "source": [
    "car.keys()"
   ]
  },
  {
   "cell_type": "code",
   "execution_count": 332,
   "id": "31f62b08",
   "metadata": {},
   "outputs": [
    {
     "data": {
      "text/plain": [
       "dict_values(['Ford', 'Mustang', 1977, 'Puja'])"
      ]
     },
     "execution_count": 332,
     "metadata": {},
     "output_type": "execute_result"
    }
   ],
   "source": [
    "car.values()"
   ]
  },
  {
   "cell_type": "markdown",
   "id": "98bb7e37",
   "metadata": {},
   "source": [
    "setdesfault():Returns the value of the specified key. If the key does not exist: insert the key, with the specified value"
   ]
  },
  {
   "cell_type": "code",
   "execution_count": 333,
   "id": "edb218cb",
   "metadata": {},
   "outputs": [
    {
     "name": "stdout",
     "output_type": "stream",
     "text": [
      "Mustang\n"
     ]
    }
   ],
   "source": [
    "x = car.setdefault(\"model\", \"Bronco\")\n",
    "print(x)"
   ]
  },
  {
   "cell_type": "code",
   "execution_count": 334,
   "id": "aadfc6ee",
   "metadata": {},
   "outputs": [
    {
     "data": {
      "text/plain": [
       "{'brand': 'Ford', 'model': 'Mustang', 'year': 1977, 'Owner': 'Puja'}"
      ]
     },
     "execution_count": 334,
     "metadata": {},
     "output_type": "execute_result"
    }
   ],
   "source": [
    "car"
   ]
  },
  {
   "cell_type": "code",
   "execution_count": 335,
   "id": "b38ce024",
   "metadata": {},
   "outputs": [
    {
     "name": "stdout",
     "output_type": "stream",
     "text": [
      "white\n"
     ]
    }
   ],
   "source": [
    "x = car.setdefault(\"color\", \"white\") #If the key does not exist: insert the key, with the specified value/\n",
    "print(x)"
   ]
  },
  {
   "cell_type": "code",
   "execution_count": 336,
   "id": "2530e4e2",
   "metadata": {},
   "outputs": [
    {
     "data": {
      "text/plain": [
       "{'brand': 'Ford',\n",
       " 'model': 'Mustang',\n",
       " 'year': 1977,\n",
       " 'Owner': 'Puja',\n",
       " 'color': 'white'}"
      ]
     },
     "execution_count": 336,
     "metadata": {},
     "output_type": "execute_result"
    }
   ],
   "source": [
    "car"
   ]
  },
  {
   "cell_type": "markdown",
   "id": "9f02a4a5",
   "metadata": {},
   "source": [
    "pop():\\\n",
    "Removes the element with the specified key\\\n",
    "popitem():\\\n",
    "Removes the last inserted key-value pair"
   ]
  },
  {
   "cell_type": "code",
   "execution_count": 337,
   "id": "b4caa31a",
   "metadata": {},
   "outputs": [
    {
     "data": {
      "text/plain": [
       "{'brand': 'Ford', 'model': 'Mustang', 'year': 1977, 'color': 'white'}"
      ]
     },
     "execution_count": 337,
     "metadata": {},
     "output_type": "execute_result"
    }
   ],
   "source": [
    "car.pop(\"Owner\")\n",
    "car"
   ]
  },
  {
   "cell_type": "code",
   "execution_count": 338,
   "id": "809c308b",
   "metadata": {},
   "outputs": [
    {
     "data": {
      "text/plain": [
       "{'brand': 'Ford', 'model': 'Mustang', 'year': 1977}"
      ]
     },
     "execution_count": 338,
     "metadata": {},
     "output_type": "execute_result"
    }
   ],
   "source": [
    "car.popitem()\n",
    "car"
   ]
  },
  {
   "cell_type": "markdown",
   "id": "99188552",
   "metadata": {},
   "source": [
    "#Accessing data items\n",
    "to access items we use get(),keys(),items(),values()"
   ]
  },
  {
   "cell_type": "code",
   "execution_count": 455,
   "id": "0ef5668c",
   "metadata": {},
   "outputs": [
    {
     "data": {
      "text/plain": [
       "{'brand': 'Ford', 'model': 'Mustang', 'year': 2000, 'Owner': 'Puja'}"
      ]
     },
     "execution_count": 455,
     "metadata": {},
     "output_type": "execute_result"
    }
   ],
   "source": [
    "car"
   ]
  },
  {
   "cell_type": "code",
   "execution_count": 456,
   "id": "d6366ed8",
   "metadata": {},
   "outputs": [
    {
     "data": {
      "text/plain": [
       "'Ford'"
      ]
     },
     "execution_count": 456,
     "metadata": {},
     "output_type": "execute_result"
    }
   ],
   "source": [
    "car['brand']"
   ]
  },
  {
   "cell_type": "code",
   "execution_count": 457,
   "id": "0a7922de",
   "metadata": {},
   "outputs": [
    {
     "data": {
      "text/plain": [
       "{'brand': 'Ford', 'model': 'Mustang', 'year': 2000, 'Owner': 'Puja'}"
      ]
     },
     "execution_count": 457,
     "metadata": {},
     "output_type": "execute_result"
    }
   ],
   "source": [
    "car['year']=2000\n",
    "car"
   ]
  },
  {
   "cell_type": "markdown",
   "id": "ef1b4901",
   "metadata": {},
   "source": [
    "Loop Dictionary"
   ]
  },
  {
   "cell_type": "code",
   "execution_count": 459,
   "id": "f3887105",
   "metadata": {},
   "outputs": [
    {
     "name": "stdout",
     "output_type": "stream",
     "text": [
      "brand\n",
      "model\n",
      "year\n",
      "Owner\n"
     ]
    }
   ],
   "source": [
    "for x in car:\n",
    "    print(x)"
   ]
  },
  {
   "cell_type": "code",
   "execution_count": 460,
   "id": "7a285934",
   "metadata": {},
   "outputs": [
    {
     "name": "stdout",
     "output_type": "stream",
     "text": [
      "Ford\n",
      "Mustang\n",
      "2000\n",
      "Puja\n"
     ]
    }
   ],
   "source": [
    "for x in car:\n",
    "    print(car[x])"
   ]
  },
  {
   "cell_type": "code",
   "execution_count": 461,
   "id": "75947df6",
   "metadata": {},
   "outputs": [
    {
     "name": "stdout",
     "output_type": "stream",
     "text": [
      "Ford\n",
      "Mustang\n",
      "2000\n",
      "Puja\n"
     ]
    }
   ],
   "source": [
    "for x in car.values():\n",
    "    print(x)"
   ]
  },
  {
   "cell_type": "code",
   "execution_count": 462,
   "id": "c31aeb5e",
   "metadata": {},
   "outputs": [
    {
     "name": "stdout",
     "output_type": "stream",
     "text": [
      "brand\n",
      "model\n",
      "year\n",
      "Owner\n"
     ]
    }
   ],
   "source": [
    "for x in car.keys():\n",
    "    print(x)"
   ]
  },
  {
   "cell_type": "code",
   "execution_count": 463,
   "id": "94061c3e",
   "metadata": {},
   "outputs": [
    {
     "name": "stdout",
     "output_type": "stream",
     "text": [
      "('brand', 'Ford')\n",
      "('model', 'Mustang')\n",
      "('year', 2000)\n",
      "('Owner', 'Puja')\n"
     ]
    }
   ],
   "source": [
    "for x in car.items():\n",
    "    print(x)"
   ]
  },
  {
   "cell_type": "code",
   "execution_count": 464,
   "id": "b7ef7030",
   "metadata": {},
   "outputs": [
    {
     "data": {
      "text/plain": [
       "dict_items([('brand', 'Ford'), ('model', 'Mustang'), ('year', 2000), ('Owner', 'Puja')])"
      ]
     },
     "execution_count": 464,
     "metadata": {},
     "output_type": "execute_result"
    }
   ],
   "source": [
    "car.items()"
   ]
  },
  {
   "cell_type": "code",
   "execution_count": 465,
   "id": "785b3d46",
   "metadata": {},
   "outputs": [
    {
     "data": {
      "text/plain": [
       "dict_keys(['brand', 'model', 'year', 'Owner'])"
      ]
     },
     "execution_count": 465,
     "metadata": {},
     "output_type": "execute_result"
    }
   ],
   "source": [
    "car.keys()"
   ]
  },
  {
   "cell_type": "code",
   "execution_count": null,
   "id": "42d7c91f",
   "metadata": {},
   "outputs": [],
   "source": []
  }
 ],
 "metadata": {
  "kernelspec": {
   "display_name": "Python 3 (ipykernel)",
   "language": "python",
   "name": "python3"
  },
  "language_info": {
   "codemirror_mode": {
    "name": "ipython",
    "version": 3
   },
   "file_extension": ".py",
   "mimetype": "text/x-python",
   "name": "python",
   "nbconvert_exporter": "python",
   "pygments_lexer": "ipython3",
   "version": "3.9.13"
  }
 },
 "nbformat": 4,
 "nbformat_minor": 5
}
