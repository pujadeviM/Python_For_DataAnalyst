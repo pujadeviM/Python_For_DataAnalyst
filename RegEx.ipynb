{
 "cells": [
  {
   "cell_type": "markdown",
   "id": "091e71ad",
   "metadata": {},
   "source": [
    "# Regex:\n",
    "Regex used to check if string contain specified string\\\n",
    "Functions : re.findall(), re.finditer(),re.search(),re.match(),re.sub(),re.split()\n",
    "\n",
    "re.findall(pattern, text, flags=re.I)_  I=IGNORECASE for case-insensitive.This function returns all the matched strings in a list\\\n",
    "re.finditer(pattern, text) — This returns an iterator/index/position  of match objects that we then wrap with a list to display them.\\\n",
    "re.search(pattern, text) — Returns the first occurrence of the match as a match object.Returns index of the first occurrence of the string\n",
    "\n",
    "re.match(pattern, text) — This checks the beginning of the text for the pattern.\\\n",
    "\n",
    "group(): return the matched string\\\n",
    "span(): index of match string\\\n",
    "start(): starting index of match string\\\n",
    "end(): ending index position of match string\n",
    "\n",
    "re.sub(pattern, repl, text) — this replaces the matched substring(s) with the ‘repl’ string.\\\n",
    "re.split(pattern, text) — This splits the text at the position of the match(es), into elements in a list."
   ]
  },
  {
   "cell_type": "code",
   "execution_count": 26,
   "id": "633a5851",
   "metadata": {},
   "outputs": [],
   "source": [
    "import re\n",
    "text = 'There was further decline of the UHC'"
   ]
  },
  {
   "cell_type": "code",
   "execution_count": 27,
   "id": "4ae00192",
   "metadata": {},
   "outputs": [
    {
     "data": {
      "text/plain": [
       "['the', 'the']"
      ]
     },
     "execution_count": 27,
     "metadata": {},
     "output_type": "execute_result"
    }
   ],
   "source": [
    "#findall : return  list of  matched string\n",
    "re.findall(\"the\", text)"
   ]
  },
  {
   "cell_type": "code",
   "execution_count": 28,
   "id": "e0527d2c",
   "metadata": {},
   "outputs": [
    {
     "data": {
      "text/plain": [
       "['de']"
      ]
     },
     "execution_count": 28,
     "metadata": {},
     "output_type": "execute_result"
    }
   ],
   "source": [
    "re.findall(\"de\",text)"
   ]
  },
  {
   "cell_type": "code",
   "execution_count": 29,
   "id": "d90ddd0e",
   "metadata": {},
   "outputs": [
    {
     "data": {
      "text/plain": [
       "{<re.Match object; span=(0, 3), match='The'>}"
      ]
     },
     "execution_count": 29,
     "metadata": {},
     "output_type": "execute_result"
    }
   ],
   "source": [
    "set(re.finditer('The', text))   #use list,set or tuple with re.finditer()"
   ]
  },
  {
   "cell_type": "code",
   "execution_count": 30,
   "id": "d2c208d8",
   "metadata": {},
   "outputs": [
    {
     "data": {
      "text/plain": [
       "{<re.Match object; span=(13, 15), match='th'>,\n",
       " <re.Match object; span=(29, 31), match='th'>}"
      ]
     },
     "execution_count": 30,
     "metadata": {},
     "output_type": "execute_result"
    }
   ],
   "source": [
    "set(re.finditer('th', text))   #use list,set or tuple with re.finditer()"
   ]
  },
  {
   "cell_type": "code",
   "execution_count": 31,
   "id": "e8713eba",
   "metadata": {},
   "outputs": [
    {
     "data": {
      "text/plain": [
       "[<re.Match object; span=(0, 3), match='The'>,\n",
       " <re.Match object; span=(13, 16), match='the'>,\n",
       " <re.Match object; span=(29, 32), match='the'>]"
      ]
     },
     "execution_count": 31,
     "metadata": {},
     "output_type": "execute_result"
    }
   ],
   "source": [
    "list (re.finditer('The', text,flags=re.I)) # ignore case sensitivity"
   ]
  },
  {
   "cell_type": "markdown",
   "id": "b734ed20",
   "metadata": {},
   "source": [
    "re.match() vs  re.search()\\\n",
    "re.match() searches only from the beginning of the string and return match object if found. But if a match of substring is found somewhere in the middle of the string, it returns none. \\\n",
    "While re.search() searches for the whole string even if the string contains multi-lines and tries to find a match of the substring in all the lines of string."
   ]
  },
  {
   "cell_type": "code",
   "execution_count": 32,
   "id": "e33eeae2",
   "metadata": {},
   "outputs": [
    {
     "data": {
      "text/plain": [
       "'There was further decline of the UHC'"
      ]
     },
     "execution_count": 32,
     "metadata": {},
     "output_type": "execute_result"
    }
   ],
   "source": [
    "text"
   ]
  },
  {
   "cell_type": "code",
   "execution_count": 33,
   "id": "17b3b091",
   "metadata": {},
   "outputs": [
    {
     "data": {
      "text/plain": [
       "<re.Match object; span=(13, 15), match='th'>"
      ]
     },
     "execution_count": 33,
     "metadata": {},
     "output_type": "execute_result"
    }
   ],
   "source": [
    "#search()\n",
    "re.search(\"th\",text) # searches for specified substring anywhere in the text or string "
   ]
  },
  {
   "cell_type": "code",
   "execution_count": 34,
   "id": "34c5e365",
   "metadata": {},
   "outputs": [
    {
     "name": "stdout",
     "output_type": "stream",
     "text": [
      "(13, 16)\n",
      "the\n",
      "13\n",
      "16\n"
     ]
    }
   ],
   "source": [
    "x = re.search(\"the\", text)\n",
    "\n",
    "#index span of matched string\n",
    "print(x.span())\n",
    "\n",
    "#the matched string\n",
    "print(x.group())\n",
    "\n",
    "#start position of match\n",
    "print(x.start())\n",
    "\n",
    "#end position of match\n",
    "print(x.end())\n"
   ]
  },
  {
   "cell_type": "code",
   "execution_count": 35,
   "id": "fcd837f6",
   "metadata": {},
   "outputs": [
    {
     "data": {
      "text/plain": [
       "'There was further decline of the UHC'"
      ]
     },
     "execution_count": 35,
     "metadata": {},
     "output_type": "execute_result"
    }
   ],
   "source": [
    "text"
   ]
  },
  {
   "cell_type": "code",
   "execution_count": 36,
   "id": "b58f1c20",
   "metadata": {},
   "outputs": [
    {
     "data": {
      "text/plain": [
       "<re.Match object; span=(0, 5), match='There'>"
      ]
     },
     "execution_count": 36,
     "metadata": {},
     "output_type": "execute_result"
    }
   ],
   "source": [
    "re.match('There', text)  # searches for the substring only at the beginning of the string"
   ]
  },
  {
   "cell_type": "code",
   "execution_count": 37,
   "id": "23ef7cf0",
   "metadata": {},
   "outputs": [
    {
     "name": "stdout",
     "output_type": "stream",
     "text": [
      "None\n"
     ]
    }
   ],
   "source": [
    "print(re.match('UHC',text)) # no output bezoz string does not star with  'UHC'"
   ]
  },
  {
   "cell_type": "code",
   "execution_count": 38,
   "id": "ad154b5d",
   "metadata": {},
   "outputs": [],
   "source": [
    "re.match('UHC',text) # no output bezoz string does not star with  'UHC'"
   ]
  },
  {
   "cell_type": "code",
   "execution_count": 39,
   "id": "3d091e8e",
   "metadata": {},
   "outputs": [
    {
     "name": "stdout",
     "output_type": "stream",
     "text": [
      "not present\n"
     ]
    }
   ],
   "source": [
    "x=re.match('the', text)\n",
    "if x: print(\"Present at :\",x.span())\n",
    "else:print(\"not present\")"
   ]
  },
  {
   "cell_type": "code",
   "execution_count": 40,
   "id": "1edf5693",
   "metadata": {},
   "outputs": [
    {
     "name": "stdout",
     "output_type": "stream",
     "text": [
      "Present at : (13, 16)\n"
     ]
    }
   ],
   "source": [
    "x=re.search('the', text)\n",
    "if x: print(\"Present at :\",x.span())\n",
    "else:print(\"not present\")"
   ]
  },
  {
   "cell_type": "code",
   "execution_count": 41,
   "id": "2a3f3200",
   "metadata": {},
   "outputs": [
    {
     "name": "stdout",
     "output_type": "stream",
     "text": [
      "Present at : (0, 2)\n"
     ]
    }
   ],
   "source": [
    "x=re.match('Th',text)\n",
    "print(\"Present at :\",x.span())"
   ]
  },
  {
   "cell_type": "code",
   "execution_count": 42,
   "id": "a5dc3a3d",
   "metadata": {},
   "outputs": [
    {
     "data": {
      "text/plain": [
       "'my pin is ****'"
      ]
     },
     "execution_count": 42,
     "metadata": {},
     "output_type": "execute_result"
    }
   ],
   "source": [
    "#re.sub(value, subvalue, text) — this replaces the matched substring(s) with the ‘repl’ string.\n",
    "txt1 = 'my pin is 4444'\n",
    "re.sub('4','*',txt1)"
   ]
  },
  {
   "cell_type": "code",
   "execution_count": 43,
   "id": "5b46e888",
   "metadata": {
    "scrolled": true
   },
   "outputs": [],
   "source": [
    "text = 'There was further decline of the UHC'"
   ]
  },
  {
   "cell_type": "code",
   "execution_count": 44,
   "id": "c0df0e07",
   "metadata": {},
   "outputs": [
    {
     "name": "stdout",
     "output_type": "stream",
     "text": [
      "There was furTHEr decline of THE UHC\n",
      "There was furTHEr decline of the UHC\n",
      "There was furTHEr decline of THE UHC\n",
      "THEre was furTHEr decline of THE UHC\n"
     ]
    }
   ],
   "source": [
    "# re.sub(pattern, repl, string, count=0, flags=0)\n",
    "print(re.sub('the','THE',text))       # replace  all the occourences \n",
    "print(re.sub('the','THE',text,1))     # replace the only first occurences\n",
    "print(re.sub('the','THE',text,2))     # replace the first 2 occurences\n",
    "print(re.sub('the','THE',text, flags=re.I))"
   ]
  },
  {
   "cell_type": "code",
   "execution_count": 45,
   "id": "ae93eb15",
   "metadata": {
    "scrolled": true
   },
   "outputs": [
    {
     "name": "stdout",
     "output_type": "stream",
     "text": [
      "['wow', ' nice', ' love it', ' bye', ' ']\n",
      "['wow!', 'nice!', 'love', 'it!', 'bye!', '']\n"
     ]
    }
   ],
   "source": [
    "#re.split(pattern, text) — This splits the text at the position of the match(es), into elements in a list.\n",
    "\n",
    "text = \"wow! nice! love it! bye! \"\n",
    "print(re.split(\"!\", text))\n",
    "print(re.split(\"\\s\", text))  "
   ]
  },
  {
   "cell_type": "markdown",
   "id": "b3f9b840",
   "metadata": {},
   "source": [
    "# Meta characters"
   ]
  },
  {
   "cell_type": "code",
   "execution_count": 46,
   "id": "b22709f7",
   "metadata": {},
   "outputs": [],
   "source": [
    "# [] : A set of characters\t\"      [a-m]\"\n",
    "# \\ : Signals a special sequence (can also be used to escape special characters)\t : \"\\d\" \n",
    "# . : Any character (except newline character) : \"he..o\"\t\n",
    "# ^ : Starts with\t: \"^hello\"\t\n",
    "# $ : Ends with\t : Ex.\"planet$\"\t\n",
    "# * : Zero or more occurrences\t\"he.*o\"\t\n",
    "# + : One or more occurrences\t: \"he.+o\"\n",
    "# ? : Zero or one occurrences :\t\"he.?o\"\t\\\n",
    "# {} : Exactly the specified number of occurrences:  \"he.{2}o\"\n",
    "# | : Either or\t:  \"falls|stays\"\n",
    "# (): Capture and group"
   ]
  },
  {
   "cell_type": "code",
   "execution_count": 47,
   "id": "90502b0d",
   "metadata": {},
   "outputs": [
    {
     "data": {
      "text/plain": [
       "'The rain in Spain and the winter in India'"
      ]
     },
     "execution_count": 47,
     "metadata": {},
     "output_type": "execute_result"
    }
   ],
   "source": [
    "txt = \"The rain in Spain and the winter in India\"\n",
    "txt"
   ]
  },
  {
   "cell_type": "code",
   "execution_count": 48,
   "id": "5ac05bd4",
   "metadata": {},
   "outputs": [
    {
     "name": "stdout",
     "output_type": "stream",
     "text": [
      "['h', 'e', 'a', 'i', 'i', 'a', 'i', 'a', 'd', 'h', 'e', 'i', 'e', 'i', 'd', 'i', 'a']\n",
      "['th', 'te']\n",
      "^:   ['The ']\n",
      "$:   ['India']\n",
      "***************************************\n",
      "['The rai']\n",
      "['The rain in Spain and the winter in']\n",
      "***************************************\n",
      "['The rain in Spain and the winter in']\n",
      "['ain', ' in', 'ain', 'win', ' in']\n",
      "***************************************\n",
      "{}:    ['Spain']\n",
      "{}:    ['Th', 'e ', 'ra', 'in', ' i', 'n ', 'Sp', 'ai', 'n ', 'an', 'd ', 'th', 'e ', 'wi', 'nt', 'er', ' i', 'n ', 'In', 'di']\n",
      "[]\n",
      "****************************\n",
      "|:    ['Spain']\n",
      "\\d:    ['5', '9']\n"
     ]
    }
   ],
   "source": [
    "print(re.findall(\"[a-m]\", txt)) #Find all lower case characters alphabetically between \"a\" and \"m\":\n",
    "print(re.findall(\"t.\", txt))\n",
    "print(\"^:  \",re.findall(\"^The \", txt)) #start with. retrun string if true\n",
    "print(\"$:  \",re.findall(\"India$\", txt)) # ends with . retrun string if true\n",
    "print(\"***************************************\")\n",
    "print(re.findall(\".*rai\", txt))\n",
    "print(re.findall(\".*in\", txt))\n",
    "print(\"***************************************\")\n",
    "print(re.findall(\".+in\", txt))  #always use .before *,?,+,{}\n",
    "print(re.findall(\".?in\",txt))\n",
    "print(\"***************************************\")\n",
    "print(\"{}:   \",re.findall(\"Sp.{2}n\", txt))\n",
    "print(\"{}:   \",re.findall(\".{2}\", txt))\n",
    "print(re.findall(\"Sp.{1}n\", txt))\n",
    "print(\"****************************\")\n",
    "print(\"|:   \",re.findall(\"Spain|japan\" , txt)) #either or\n",
    "print(\"\\d:   \",re.findall(\"\\d\", \"That will be 59 dollars\")) # return all digits"
   ]
  },
  {
   "cell_type": "code",
   "execution_count": 49,
   "id": "84dc6cf9",
   "metadata": {},
   "outputs": [
    {
     "name": "stdout",
     "output_type": "stream",
     "text": [
      "Yes, the string ends with 'India'\n"
     ]
    }
   ],
   "source": [
    "x = re.findall(\"India$\", txt)\n",
    "if x:\n",
    "  print(\"Yes, the string ends with 'India'\")\n",
    "else:\n",
    "  print(\"No match\")\n"
   ]
  },
  {
   "cell_type": "markdown",
   "id": "89bfaea3",
   "metadata": {},
   "source": [
    "(the \"r\" in the beginning is making sure that the string is being treated as a \"raw string\",which means all escape codes will be ignored.)\tr\"\\bain\" r\"ain\\b\" . \\\n",
    "Raw strings do not process\n",
    "escape sequences (\\n, \\b, etc.) and are thus commonly used for Regex patterns, which often contain a lot of \\ characters.\n",
    "\n",
    "Below is a demonstration\\\n",
    "print('\\b') # Prints a backspace character\\\n",
    "print(r'\\b') # Escape sequence is not processed \\b "
   ]
  },
  {
   "cell_type": "code",
   "execution_count": 50,
   "id": "9b5d813d",
   "metadata": {},
   "outputs": [
    {
     "name": "stdout",
     "output_type": "stream",
     "text": [
      "Hello\b World\n",
      "Hello_\b World\n",
      "Hello\\b World\n"
     ]
    }
   ],
   "source": [
    "print(\"Hello\\b World\")\n",
    "print(\"Hello_\\b World\")\n",
    "print(r\"Hello\\b World\")"
   ]
  },
  {
   "cell_type": "markdown",
   "id": "1c16723a",
   "metadata": {},
   "source": [
    "\\A\tReturns a match if the specified characters are at the beginning of the string\t\"\\AThe\"\t\\\n",
    "\\b\tReturns a match where the specified characters are at the beginning or at the end of a word\\\n",
    "\\B\tReturns a match where the specified characters are present, but NOT at the beginning (or at the end) of a word\n",
    "(the \"r\" in the beginning is making sure that the string is being treated as a \"raw string\")\tr\"\\Bain\"    r\"ain\\B\"\t\\\n",
    "\\d\tReturns a match where the string contains digits (numbers from 0-9)\t\"\\d\"\t\\\n",
    "\\D\tReturns a match where the string DOES NOT contain digits\t\"\\D\"\t\\\n",
    "\\s\tReturns a match where the string contains a white space character\t\"\\s\"\t\\\n",
    "\\S\tReturns a match where the string DOES NOT contain a white space character\t\"\\S\"\t\\\n",
    "\\w\tReturns a match where the string contains any word characters (characters from a to Z, digits from 0-9, and the underscore _ character)\t\"\\w\"\t\\\n",
    "\\W\tReturns a match where the string DOES NOT contain any word characters\t\"\\W\"\t\\\n",
    "\\Z\tReturns a match if the specified characters are at the end of the string\t\"Spain\\Z\\"
   ]
  },
  {
   "cell_type": "markdown",
   "id": "535066cc",
   "metadata": {},
   "source": [
    "\\A : start with or at beginning - eg.\\A the\\\n",
    "\\b : at beginning or end \\\n",
    "\\B : not present at beginning or end \\\n",
    "\\d: string contain DIGIT \\\n",
    "\\D: string  does NOT contain DIGIT\\\n",
    "\\s: string contain SPACE \\\n",
    "\\S: string  does NOT contain SPACE \\\n",
    "\\w: contain word, digit and underscore( _ )\\\n",
    "\\W: does not contain word, didit and underscore( _ )\\\n",
    "\\Z :at the end or ends with - eg. \"the\\Z\""
   ]
  },
  {
   "cell_type": "code",
   "execution_count": 51,
   "id": "c095a9b1",
   "metadata": {},
   "outputs": [],
   "source": [
    "textno=\"I have 500$ for  my shopping\" "
   ]
  },
  {
   "cell_type": "code",
   "execution_count": 52,
   "id": "9967d63c",
   "metadata": {},
   "outputs": [
    {
     "name": "stdout",
     "output_type": "stream",
     "text": [
      "\\A:   ['I']\n",
      "\\A:   []\n",
      "********b and B*******\n",
      "['I']\n",
      "['ping']\n",
      "[]\n",
      "[]\n",
      "['', '', '', '', '', '', '', '', '', '', '', '', '', '', '', '', '']\n",
      "********d and D*******\n",
      "['5', '0', '0']\n",
      "['I', ' ', 'h', 'a', 'v', 'e', ' ', '$', ' ', 'f', 'o', 'r', ' ', ' ', 'm', 'y', ' ', 's', 'h', 'o', 'p', 'p', 'i', 'n', 'g']\n",
      "********s and S*******\n",
      "[' ', ' ', ' ', ' ', ' ', ' ']\n",
      "['I', 'h', 'a', 'v', 'e', '5', '0', '0', '$', 'f', 'o', 'r', 'm', 'y', 's', 'h', 'o', 'p', 'p', 'i', 'n', 'g']\n",
      "********w and W*******\n",
      "['I', 'h', 'a', 'v', 'e', '5', '0', '0', 'f', 'o', 'r', 'm', 'y', 's', 'h', 'o', 'p', 'p', 'i', 'n', 'g']\n",
      "[' ', ' ', '$', ' ', ' ', ' ', ' ']\n",
      "********Z*******\n",
      "[]\n",
      "[]\n",
      "['ing']\n",
      "['shopping']\n"
     ]
    }
   ],
   "source": [
    "print(\"\\A:  \",re.findall(\"\\Ai\", textno, flags= re.I))        # Starts with specified object\n",
    "print(\"\\A:  \",re.findall(\"\\Ai\", textno))        # Starts with specified object\n",
    "print(\"********b and B*******\")\n",
    "print(re.findall(r\"\\bI\",textno)) # \\b....starts with \n",
    "print(re.findall(r\"ping\\b\", textno)) #....\\b ends with\n",
    "print(re.findall(r\"\\BI\",textno)) # \\B....does noe starts with \n",
    "print(re.findall(r\"I \\B\",textno)) #....\\B does not start with ....\\B does not start with\n",
    "print(re.findall(r\"\\B\", textno)) #....\\B does not start with\n",
    "\n",
    "print(\"********d and D*******\")\n",
    "print(re.findall(r\"\\d\", textno)) # retrun every digits\n",
    "print(re.findall(r\"\\D\", textno)) # except digit returns all \n",
    "print(\"********s and S*******\")\n",
    "print(re.findall(r\"\\s\", textno)) #Returns a match where the string contains a white space character\n",
    "print(re.findall(r\"\\S\", textno)) #Returns a match where the string DOES NOT contain a white space character\t\n",
    "print(\"********w and W*******\")\n",
    "print(re.findall(r\"\\w\", textno)) #return characters or no. [a-z][A-Z][0-9],_\n",
    "print(re.findall(r\"\\W\", textno)) #DOES NOT contain any word characters or digit \n",
    "print(\"********Z*******\")\n",
    "print(re.findall(r\"\\ZI\", textno)) #Returns a match if the specified characters are at the end of the string\n",
    "print(re.findall(r\"\\Zing\", textno)) #Returns a match if the specified characters are at the end of the string\n",
    "print(re.findall(r\"ing\\Z\", textno)) #Returns a match if the specified characters are at the end of the string\n",
    "print(re.findall(r\"shopping\\Z\", textno)) #Returns a match if the specified characters are at the end of the string"
   ]
  },
  {
   "cell_type": "markdown",
   "id": "d5454f70",
   "metadata": {},
   "source": [
    "sets:\n",
    "    \n",
    "[arn]\t  : Returns a match where one of the specified characters (a, r, or n) is present\t\\\n",
    "[a-n]\t  : Returns a match for any lower case character, alphabetically between a and n\t\\\n",
    "[^arn]\t  : Returns a match for any character EXCEPT a, r, and n\t\\\n",
    "[0123]    : Returns a match where any of the specified digits (0, 1, 2, or 3) are present\t\\\n",
    "[0-9]\t  : Returns a match for any digit between 0 and 9\t\\\n",
    "[0-5][0-9]   :\tReturns a match for any two-digit numbers from 00 and 59\t\\\n",
    "[a-zA-Z]\t  : Returns a match for any character alphabetically between a and z, lower case OR upper case\t\\\n",
    "[+]\t     :  In sets, +, *, ., |, (), $,{} has no special meaning, so [+] means: return a match for any + character in the string\\"
   ]
  },
  {
   "cell_type": "code",
   "execution_count": 53,
   "id": "ce40cf70",
   "metadata": {},
   "outputs": [],
   "source": [
    "textno2=\"I have 500$ for  my shopping but i will only spend 200\""
   ]
  },
  {
   "cell_type": "code",
   "execution_count": 54,
   "id": "c9cced84",
   "metadata": {},
   "outputs": [
    {
     "name": "stdout",
     "output_type": "stream",
     "text": [
      "[il10],:   ['0', '0', 'i', 'i', 'i', 'l', 'l', 'l', '0', '0']\n",
      "**************\n",
      "[a-h]:   ['h', 'a', 'e', 'f', 'h', 'g', 'b', 'e', 'd']\n",
      "[^a-w]:   ['I', ' ', ' ', '5', '0', '0', '$', ' ', ' ', ' ', 'y', ' ', ' ', ' ', ' ', ' ', 'y', ' ', ' ', '2', '0', '0']\n",
      "[0-5][0-1]:   ['50', '20']\n",
      "[01]:   ['0', '0', '0', '0']\n",
      "[0-1]:   ['0', '0', '0', '0']\n",
      "[a-hA-I]:   ['I', 'h', 'a', 'e', 'f', 'h', 'g', 'b', 'e', 'd']\n"
     ]
    }
   ],
   "source": [
    "print(\"[il10],:  \",re.findall(\"[il10]\", textno2)) #Returns a match where one of the specified characters is present\t\n",
    "print(\"**************\")\n",
    "print(\"[a-h]:  \",re.findall(\"[a-h]\", textno2)) \n",
    "print(\"[^a-w]:  \",re.findall(\"[^a-w]\", textno2))  # except a-w\n",
    "print(\"[0-5][0-1]:  \",re.findall(\"[0-5][0-1]\", textno2)) \n",
    "print(\"[01]:  \",re.findall(\"[01]\", textno2)) \n",
    "print(\"[0-1]:  \",re.findall(\"[0-1]\", textno2))\n",
    "print(\"[a-hA-I]:  \",re.findall(\"[a-hA-I]\", textno2)) "
   ]
  },
  {
   "cell_type": "code",
   "execution_count": 55,
   "id": "1ce40cf4",
   "metadata": {},
   "outputs": [
    {
     "name": "stdout",
     "output_type": "stream",
     "text": [
      "valid \n",
      "valid \n"
     ]
    }
   ],
   "source": [
    "if re.findall(\"[ihm]\",textno2): print(\"valid \")\n",
    "else: print(\"not valid\")   \n",
    "    \n",
    "if re.findall(\"[Ihm]\",textno2):print(\"valid \")\n",
    "else: print(\"not valid\")    "
   ]
  },
  {
   "cell_type": "code",
   "execution_count": null,
   "id": "88846cd1",
   "metadata": {},
   "outputs": [],
   "source": []
  },
  {
   "cell_type": "code",
   "execution_count": null,
   "id": "ae281759",
   "metadata": {},
   "outputs": [],
   "source": []
  }
 ],
 "metadata": {
  "kernelspec": {
   "display_name": "Python 3 (ipykernel)",
   "language": "python",
   "name": "python3"
  },
  "language_info": {
   "codemirror_mode": {
    "name": "ipython",
    "version": 3
   },
   "file_extension": ".py",
   "mimetype": "text/x-python",
   "name": "python",
   "nbconvert_exporter": "python",
   "pygments_lexer": "ipython3",
   "version": "3.9.13"
  }
 },
 "nbformat": 4,
 "nbformat_minor": 5
}
